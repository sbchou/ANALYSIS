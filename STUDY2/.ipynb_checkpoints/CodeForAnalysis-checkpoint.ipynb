{
 "cells": [
  {
   "cell_type": "code",
   "execution_count": 1,
   "metadata": {
    "collapsed": false
   },
   "outputs": [
    {
     "name": "stderr",
     "output_type": "stream",
     "text": [
      "/usr/local/lib/python2.7/site-packages/matplotlib/__init__.py:872: UserWarning: axes.color_cycle is deprecated and replaced with axes.prop_cycle; please use the latter.\n",
      "  warnings.warn(self.msg_depr % (key, alt_key))\n"
     ]
    }
   ],
   "source": [
    "import beauty\n",
    "import csv\n",
    "import pandas\n",
    "import matplotlib\n",
    "import matplotlib.pyplot as plt\n",
    "#matplotlib.style.use('ggplot')\n",
    "%matplotlib inline\n",
    "beauty.set_tex(False)"
   ]
  },
  {
   "cell_type": "code",
   "execution_count": 3,
   "metadata": {
    "collapsed": true
   },
   "outputs": [],
   "source": [
    "group_A = pandas.DataFrame.from_csv('DATA/flattened_A.csv',index_col=False)\n",
    "group_B = pandas.DataFrame.from_csv('DATA/flattened_B.csv',index_col=False)\n",
    "group_A['group'] = 'A'\n",
    "group_B['group'] = 'B'\n",
    "group_AB = pandas.concat([group_A, group_B])\n",
    "#group_AB.to_csv('DATA/flattened_ALL.csv')"
   ]
  },
  {
   "cell_type": "code",
   "execution_count": 73,
   "metadata": {
    "collapsed": false
   },
   "outputs": [
    {
     "data": {
      "text/plain": [
       "<matplotlib.axes._subplots.AxesSubplot at 0x110571b90>"
      ]
     },
     "execution_count": 73,
     "metadata": {},
     "output_type": "execute_result"
    },
    {
     "data": {
      "image/png": "[encoded data removed]",
      "text/plain": [
       "<matplotlib.figure.Figure at 0x110678690>"
      ]
     },
     "metadata": {},
     "output_type": "display_data"
    }
   ],
   "source": [
    "group_AB.readability.hist()\n",
    "#group_AB[group_AB.readability > 80]"
   ]
  },
  {
   "cell_type": "markdown",
   "metadata": {},
   "source": [
    "# Preprocess for Trust LMER Analysis\n",
    "* is_complex (high/low flesch) --> binary OR (-1,0,1)\n",
    "* source --> (1..5)\n",
    "* disclose source --> (0,1) binary\n",
    "* trust --> likert (5 point scale)\n"
   ]
  },
  {
   "cell_type": "markdown",
   "metadata": {},
   "source": [
    "## Flesch to Binary "
   ]
  },
  {
   "cell_type": "code",
   "execution_count": 11,
   "metadata": {
    "collapsed": false
   },
   "outputs": [],
   "source": [
    "# 180 stories total \n",
    "# Clinton : Do 60 < 9 and 60 > 12\n",
    "# Trump:  Do 60 < 8 and 60 > 11\n",
    "# Sanders:  Do 66 < 8.7 and 54 > 9.6\n",
    "# Cruz: Do 66 < 7 and 54 > 10\n",
    "def convert_flesch(row): \n",
    "    if row['candidate'] == 'Hillary Clinton':\n",
    "        if row['flesch'] < 9:\n",
    "            return -1\n",
    "        elif row['flesch'] > 12: \n",
    "            return 1\n",
    "        else:\n",
    "            return 0\n",
    "    if row['candidate'] == 'Donald Trump':\n",
    "        if row['flesch'] < 8:\n",
    "            return -1\n",
    "        elif row['flesch'] > 11:\n",
    "            return 1\n",
    "        else: \n",
    "            return 0\n",
    "    if row['candidate'] == 'Bernie Sanders':\n",
    "        if row['flesch'] < 8.7:\n",
    "            return -1\n",
    "        elif row['flesch'] > 9.6:\n",
    "            return 1\n",
    "        else:\n",
    "            return 0\n",
    "    if row['candidate'] == 'Ted Cruz':\n",
    "        if row['flesch'] < 7:\n",
    "            return -1\n",
    "        elif row['flesch'] > 10:\n",
    "            return 1\n",
    "        else:\n",
    "            return 0        \n",
    "\n",
    "\n",
    "group_AB['flesch_code'] = group_AB.apply(lambda row: convert_flesch(row), axis=1)"
   ]
  },
  {
   "cell_type": "markdown",
   "metadata": {},
   "source": [
    "## Code News Source"
   ]
  },
  {
   "cell_type": "code",
   "execution_count": 14,
   "metadata": {
    "collapsed": false
   },
   "outputs": [],
   "source": [
    "org_to_code = {'CNN':1, 'Fox News' : 2, 'The New York Times':3, 'The Wall Street Journal':4, 'the Associated Press':5}\n",
    "group_AB['org_coded'] = group_AB.org.apply(lambda row: org_to_code[row])\n"
   ]
  },
  {
   "cell_type": "markdown",
   "metadata": {
    "collapsed": false
   },
   "source": [
    "## And binary group"
   ]
  },
  {
   "cell_type": "code",
   "execution_count": 18,
   "metadata": {
    "collapsed": false
   },
   "outputs": [],
   "source": [
    "group_AB['disclose_source'] = group_AB.group.apply(lambda x: 0 if x == 'A' else 1)"
   ]
  },
  {
   "cell_type": "markdown",
   "metadata": {
    "collapsed": false
   },
   "source": [
    "## And Save"
   ]
  },
  {
   "cell_type": "code",
   "execution_count": 29,
   "metadata": {
    "collapsed": false
   },
   "outputs": [],
   "source": [
    "group_AB.to_csv('DATA/coded_ALL.csv')"
   ]
  },
  {
   "cell_type": "code",
   "execution_count": 28,
   "metadata": {
    "collapsed": false
   },
   "outputs": [],
   "source": [
    "# just save what you need \n",
    "df_lmer = group_AB[['worker_id', 'flesch_code','org_coded','disclose_source', 'trust']]\n",
    "df_lmer = df_lmer.rename(columns={'flesch_code': 'complexity', 'org_coded': 'source'})\n",
    "df_lmer.head()\n",
    "df_lmer.to_csv('../trust_correlation/trust.csv', index=False)\n",
    "df_lmer[df_lmer.complexity != 0].to_csv('../trust_correlation/trust_no_0.csv', index=False)"
   ]
  },
  {
   "cell_type": "code",
   "execution_count": 93,
   "metadata": {
    "collapsed": false
   },
   "outputs": [],
   "source": [
    "df_demographics = group_AB.copy()\n",
    "df_demographics = df_demographics[['worker_id', 'flesch_code','org_coded','disclose_source', 'trust', 'gender', 'age','party','voting_for','candidate','topic']]"
   ]
  },
  {
   "cell_type": "code",
   "execution_count": 52,
   "metadata": {
    "collapsed": false
   },
   "outputs": [
    {
     "data": {
      "text/plain": [
       "{'democrat', 'independent_other', 'no_affiliation', 'republican'}"
      ]
     },
     "execution_count": 52,
     "metadata": {},
     "output_type": "execute_result"
    }
   ],
   "source": [
    "set(df_demographics.party)"
   ]
  },
  {
   "cell_type": "code",
   "execution_count": 94,
   "metadata": {
    "collapsed": false
   },
   "outputs": [],
   "source": [
    "party_to_code = {'democrat':1, 'independent_other':3, 'no_affiliation':4, 'republican':2}\n",
    "df_demographics['party_coded'] = df_demographics.party.apply(lambda x: party_to_code[x])"
   ]
  },
  {
   "cell_type": "code",
   "execution_count": 95,
   "metadata": {
    "collapsed": false
   },
   "outputs": [],
   "source": [
    "gender_to_code = {'female':1, 'male':2}\n",
    "df_demographics['gender_coded'] = df_demographics.gender.apply(lambda x: gender_to_code[x])"
   ]
  },
  {
   "cell_type": "code",
   "execution_count": 96,
   "metadata": {
    "collapsed": false
   },
   "outputs": [],
   "source": [
    "age_to_code = {'18-29':1, '30-49':2, '50-64':3, '64+':4}\n",
    "df_demographics['age_coded'] = df_demographics.age.apply(lambda x: age_to_code[x])"
   ]
  },
  {
   "cell_type": "code",
   "execution_count": 97,
   "metadata": {
    "collapsed": false
   },
   "outputs": [],
   "source": [
    "voting4_to_code = {'Bernie Sanders':3,\n",
    " 'Donald Trump':2,\n",
    " 'Hillary Clinton':1,\n",
    " 'John Kasich':5,\n",
    " 'Not Voting':6,\n",
    " 'Other':7,\n",
    " 'Ted Cruz':4}\n",
    "df_demographics['voting4_coded'] = df_demographics.voting_for.apply(lambda x: voting4_to_code[x])"
   ]
  },
  {
   "cell_type": "code",
   "execution_count": 100,
   "metadata": {
    "collapsed": false
   },
   "outputs": [],
   "source": [
    "df_demographics['candidate_coded'] = df_demographics.candidate.apply(lambda x: voting4_to_code[x])"
   ]
  },
  {
   "cell_type": "code",
   "execution_count": 98,
   "metadata": {
    "collapsed": true
   },
   "outputs": [],
   "source": [
    "topic_to_code = {'Abortion':1,\n",
    " 'Campaign Finance':2,\n",
    " 'Foreign Policy/National Security':3,\n",
    " 'Immigration':4} \n",
    "df_demographics['topic_coded'] = df_demographics.topic.apply(lambda x: topic_to_code[x])"
   ]
  },
  {
   "cell_type": "code",
   "execution_count": null,
   "metadata": {
    "collapsed": false
   },
   "outputs": [],
   "source": []
  },
  {
   "cell_type": "code",
   "execution_count": 105,
   "metadata": {
    "collapsed": false
   },
   "outputs": [],
   "source": [
    "df_demographics[['disclose_source','worker_id','flesch_code','org_coded','trust','party_coded','gender_coded','age_coded', 'voting4_coded','candidate_coded','disclose_source','topic_coded']].to_csv('../trust_correlation/coded_with_topics', index=False)"
   ]
  },
  {
   "cell_type": "code",
   "execution_count": 67,
   "metadata": {
    "collapsed": false
   },
   "outputs": [],
   "source": [
    "df_demographics[['worker_id','flesch_code','org_coded','trust','party_coded','gender_coded','age_coded', 'voting4_coded','candidate_coded','disclose_source',]].to_csv('../trust_correlation/coded_with_demographics', index=False)"
   ]
  },
  {
   "cell_type": "code",
   "execution_count": 82,
   "metadata": {
    "collapsed": false
   },
   "outputs": [],
   "source": [
    "# let's do real polar ends \n",
    "df_polar = group_AB[(group_AB.flesch < 6) | (group_AB.flesch>12)].copy()\n",
    "df_polar =  df_polar [['worker_id', 'flesch_code','org_coded','disclose_source', 'trust']]\n",
    "df_polar = df_polar.rename(columns={'flesch_code': 'complexity', 'org_coded': 'source'})\n",
    "df_polar.head()\n",
    "df_polar.to_csv('../trust_correlation/polar_ends.csv', index=False)\n",
    "#df_lmer[df_lmer.complexity != 0].to_csv('../trust_correlation/trust_no_0.csv', index=False)\n"
   ]
  },
  {
   "cell_type": "code",
   "execution_count": 104,
   "metadata": {
    "collapsed": false
   },
   "outputs": [
    {
     "data": {
      "text/plain": [
       "Index([u'worker_id', u'flesch_code', u'org_coded', u'disclose_source',\n",
       "       u'trust', u'gender', u'age', u'party', u'voting_for', u'candidate',\n",
       "       u'topic', u'party_coded', u'gender_coded', u'age_coded',\n",
       "       u'voting4_coded', u'topic_coded', u'candidate_coded'],\n",
       "      dtype='object')"
      ]
     },
     "execution_count": 104,
     "metadata": {},
     "output_type": "execute_result"
    }
   ],
   "source": [
    "df_demographics.columns"
   ]
  },
  {
   "cell_type": "code",
   "execution_count": null,
   "metadata": {
    "collapsed": false
   },
   "outputs": [],
   "source": [
    "df_demographics.flesch_code"
   ]
  },
  {
   "cell_type": "code",
   "execution_count": 85,
   "metadata": {
    "collapsed": false
   },
   "outputs": [],
   "source": [
    "df_demographics[df_demographics.flesch_code !=0][['worker_id','flesch_code','org_coded','trust','party_coded','gender_coded','age_coded', 'voting4_coded','candidate_coded','disclose_source',]].to_csv('../trust_correlation/coded_with_demographics_no_0', index=False)"
   ]
  },
  {
   "cell_type": "code",
   "execution_count": null,
   "metadata": {
    "collapsed": true
   },
   "outputs": [],
   "source": [
    "df_demographics[['worker_id','flesch_code','org_coded','trust','party_coded','gender_coded','age_coded', 'voting4_coded','candidate_coded','disclose_source',]].to_csv('../trust_correlation/coded_with_demographics_no_0', index=False)df_demographics[df_demographics.flesch_code !=0][['worker_id','flesch_code','org_coded','trust','party_coded','gender_coded','age_coded', 'voting4_coded','candidate_coded','disclose_source',]].to_csv('../trust_correlation/coded_with_demographics_no_0', index=False)"
   ]
  },
  {
   "cell_type": "code",
   "execution_count": 91,
   "metadata": {
    "collapsed": false
   },
   "outputs": [],
   "source": [
    "topic_to_code = {'Abortion':1,\n",
    " 'Campaign Finance':2,\n",
    " 'Foreign Policy/National Security':3,\n",
    " 'Immigration':4} \n",
    "group_AB['topic_coded'] = group_AB.topic.apply(lambda x: topic_to_code[x])"
   ]
  },
  {
   "cell_type": "code",
   "execution_count": 110,
   "metadata": {
    "collapsed": false
   },
   "outputs": [
    {
     "data": {
      "text/plain": [
       "10.539999999999999"
      ]
     },
     "execution_count": 110,
     "metadata": {},
     "output_type": "execute_result"
    }
   ],
   "source": [
    "group_AB[group_AB.org=='the Associated Press'].flesch.mean()\n"
   ]
  },
  {
   "cell_type": "code",
   "execution_count": 112,
   "metadata": {
    "collapsed": false
   },
   "outputs": [
    {
     "data": {
      "text/plain": [
       "7.9897959183673466"
      ]
     },
     "execution_count": 112,
     "metadata": {},
     "output_type": "execute_result"
    }
   ],
   "source": [
    "group_AB[group_AB.org=='The New York Times'].flesch.mean()"
   ]
  },
  {
   "cell_type": "code",
   "execution_count": 113,
   "metadata": {
    "collapsed": false
   },
   "outputs": [
    {
     "data": {
      "text/plain": [
       "7.6894736842105269"
      ]
     },
     "execution_count": 113,
     "metadata": {},
     "output_type": "execute_result"
    }
   ],
   "source": [
    "group_AB[group_AB.org=='The Wall Street Journal'].flesch.mean()"
   ]
  },
  {
   "cell_type": "code",
   "execution_count": 114,
   "metadata": {
    "collapsed": false
   },
   "outputs": [
    {
     "data": {
      "text/plain": [
       "10.572972972972972"
      ]
     },
     "execution_count": 114,
     "metadata": {},
     "output_type": "execute_result"
    }
   ],
   "source": [
    "group_AB[group_AB.org=='CNN'].flesch.mean()"
   ]
  },
  {
   "cell_type": "code",
   "execution_count": 116,
   "metadata": {
    "collapsed": false
   },
   "outputs": [
    {
     "data": {
      "text/plain": [
       "12.059999999999997"
      ]
     },
     "execution_count": 116,
     "metadata": {},
     "output_type": "execute_result"
    }
   ],
   "source": [
    "group_AB[group_AB.org=='Fox News'].flesch.mean()"
   ]
  },
  {
   "cell_type": "code",
   "execution_count": 124,
   "metadata": {
    "collapsed": false
   },
   "outputs": [
    {
     "data": {
      "text/plain": [
       "167    13\n",
       "172    13\n",
       "177    13\n",
       "168    13\n",
       "173    13\n",
       "178    13\n",
       "Name: flesch, dtype: float64"
      ]
     },
     "execution_count": 124,
     "metadata": {},
     "output_type": "execute_result"
    }
   ],
   "source": [
    "group_AB[(group_AB.org=='the Associated Press') & (group_AB.candidate == 'Hillary Clinton')].flesch.sort_values()"
   ]
  },
  {
   "cell_type": "code",
   "execution_count": null,
   "metadata": {
    "collapsed": true
   },
   "outputs": [],
   "source": []
  }
 ],
 "metadata": {
  "kernelspec": {
   "display_name": "Python 2",
   "language": "python",
   "name": "python2"
  },
  "language_info": {
   "codemirror_mode": {
    "name": "ipython",
    "version": 2
   },
   "file_extension": ".py",
   "mimetype": "text/x-python",
   "name": "python",
   "nbconvert_exporter": "python",
   "pygments_lexer": "ipython2",
   "version": "2.7.10"
  }
 },
 "nbformat": 4,
 "nbformat_minor": 0
}
