{
 "cells": [
  {
   "cell_type": "markdown",
   "metadata": {},
   "source": [
    "## 4 rows\n",
    "## 8 stories per row\n"
   ]
  },
  {
   "cell_type": "code",
   "execution_count": 1,
   "metadata": {
    "collapsed": true
   },
   "outputs": [],
   "source": [
    "clinton_high = \"\"\"\n",
    "MANCHESTER, N.H. — Allies of Hillary Clinton are forming a new $25 million political organization aimed at expanding voter protection efforts and driving turnout and registration among Latino and black voters essential to her Democratic presidential campaign.\n",
    "\n",
    "The new group, Every Citizen Counts, is beginning its work as Clinton faces a stronger-than-expected challenge from Vermont Sen. Bernie Sanders, whose overwhelming victory in Tuesday's New Hampshire primary has set off new worries among Democrats that Sanders may soon cut into Clinton's advantage with black and Hispanic voters.\n",
    "\n",
    "The non-partisan organization will focus on legislation, litigation, voter registration and turnout among black and Latino communities in the general election. It was formed in August and has recently begun developing partnerships with other organizations to expand voter education, registration, protection and turnout.\n",
    "\n",
    "Clinton has made voter registration and protection a major part of her agenda with minority voters and her campaign and is planning a significant push in the aftermath of her New Hampshire loss to win minority voters in the two remaining February contests in Nevada and South Carolina and a slew of Southern states holding contests in early March.\n",
    "\n",
    "The group will operate as a nonprofit \"social welfare\" organization, allowing it to take unlimited donations and keep its donors' identities private. Organizers said it would not be involved in the Democratic primaries and would be focused on November's election and beyond.\n",
    "\n",
    "Clinton said Tuesday night that both she and Sanders wanted to eliminate unaccounted money from politics. But the group's acceptance of private donations will likely draw scorn from Sanders and his allies, who have made the elimination of big, secret money in politics a pillar of his campaign.\n",
    "\n",
    "During his victory speech in New Hampshire, Sanders said the Clinton team had already thrown everything but the kitchen sink at his — and warned, \"I have the feeling that kitchen sink is coming pretty soon as well.\"\n",
    "\n",
    "Every Citizen Counts will be advised by Guy Cecil, a former aide to Clinton's 2008 presidential campaign who currently leads Priorities USA Action, a Democratic super PAC supporting Clinton's bid. Cecil said he will continue in his current role as chief strategist at Priorities USA and other political work.\n",
    "\n",
    "An early leader in the group will be Atlanta Mayor Kasim Reed, who has endorsed Clinton's campaign and will be a prominent supporter for her in Georgia's \"Super Tuesday\" primary on March 1.\n",
    "\n",
    "Reed said in a statement that the organization would be a \"powerful ally to those who want to make registration and voting easier and fairer. This is at the heart of what it means to be an American.\"\n",
    "\n",
    "Sanders' allies will likely see the group's role differently. When Priorities USA announced its recent fundraising haul of $50 million through January, Sanders repeatedly told supporters that he had raised \"zero dollars\" for super PACs.\n",
    "\n",
    "Every Citizen Counts is expected to have a budget of at least $25 million, according to a presentation given to potential donors. Among its goals will be expanding voting access in Georgia, Illinois, Missouri and Wisconsin.\n",
    "\n",
    "The group already has a partnership with the National Democratic Voting Rights Trust, which has been involved in voting rights litigation in North Carolina, Wisconsin, Virginia and Ohio. The trust is advised by prominent campaign lawyer Marc Elias, who serves as general counsel for Clinton's presidential campaign.\n",
    "\n",
    "Slides in a presentation provided to The Associated Press estimates that the group's litigation would protect the right to vote for 2 million voters in those four states, which will be among the most contested in the November election.\n",
    "\n",
    "Cecil, who will serve as the organization's senior adviser, said he is putting together a team and advisory board that will oversee the group. He said the group was not aimed solely on the 2016 election but would be \"in this fight for the long haul.\"\n",
    "\n",
    "\"There have been too many efforts to restrict access to the polls, making it even more difficult to vote,\" he said. \"We will engage at all levels: pushing for stronger legislation around early voting, same-day registration and vote by mail, waging legal battles to roll back onerous laws and registering voters in underrepresented communities across the country.\"\n",
    "\n",
    "\"\"\""
   ]
  },
  {
   "cell_type": "code",
   "execution_count": 2,
   "metadata": {
    "collapsed": false
   },
   "outputs": [
    {
     "name": "stdout",
     "output_type": "stream",
     "text": [
      "\n",
      "MANCHESTER, N.H. — Allies of Hillary Clinton are forming a new $25 million political organization aimed at expanding voter protection efforts and driving turnout and registration among Latino and black voters essential to her Democratic presidential campaign.\n",
      "\n",
      "The new group, Every Citizen Counts, is beginning its work as Clinton faces a stronger-than-expected challenge from Vermont Sen. Bernie Sanders, whose overwhelming victory in Tuesday's New Hampshire primary has set off new worries among Democrats that Sanders may soon cut into Clinton's advantage with black and Hispanic voters.\n",
      "\n",
      "The non-partisan organization will focus on legislation, litigation, voter registration and turnout among black and Latino communities in the general election. It was formed in August and has recently begun developing partnerships with other organizations to expand voter education, registration, protection and turnout.\n",
      "\n",
      "Clinton has made voter registration and protection a major part of her agenda with minority voters and her campaign and is planning a significant push in the aftermath of her New Hampshire loss to win minority voters in the two remaining February contests in Nevada and South Carolina and a slew of Southern states holding contests in early March.\n",
      "\n",
      "The group will operate as a nonprofit \"social welfare\" organization, allowing it to take unlimited donations and keep its donors' identities private. Organizers said it would not be involved in the Democratic primaries and would be focused on November's election and beyond.\n",
      "\n",
      "Clinton said Tuesday night that both she and Sanders wanted to eliminate unaccounted money from politics. But the group's acceptance of private donations will likely draw scorn from Sanders and his allies, who have made the elimination of big, secret money in politics a pillar of his campaign.\n",
      "\n",
      "During his victory speech in New Hampshire, Sanders said the Clinton team had already thrown everything but the kitchen sink at his — and warned, \"I have the feeling that kitchen sink is coming pretty soon as well.\"\n",
      "\n",
      "Every Citizen Counts will be advised by Guy Cecil, a former aide to Clinton's 2008 presidential campaign who currently leads Priorities USA Action, a Democratic super PAC supporting Clinton's bid. Cecil said he will continue in his current role as chief strategist at Priorities USA and other political work.\n",
      "\n",
      "An early leader in the group will be Atlanta Mayor Kasim Reed, who has endorsed Clinton's campaign and will be a prominent supporter for her in Georgia's \"Super Tuesday\" primary on March 1.\n",
      "\n",
      "Reed said in a statement that the organization would be a \"powerful ally to those who want to make registration and voting easier and fairer. This is at the heart of what it means to be an American.\"\n",
      "\n",
      "Sanders' allies will likely see the group's role differently. When Priorities USA announced its recent fundraising haul of $50 million through January, Sanders repeatedly told supporters that he had raised \"zero dollars\" for super PACs.\n",
      "\n",
      "Every Citizen Counts is expected to have a budget of at least $25 million, according to a presentation given to potential donors. Among its goals will be expanding voting access in Georgia, Illinois, Missouri and Wisconsin.\n",
      "\n",
      "The group already has a partnership with the National Democratic Voting Rights Trust, which has been involved in voting rights litigation in North Carolina, Wisconsin, Virginia and Ohio. The trust is advised by prominent campaign lawyer Marc Elias, who serves as general counsel for Clinton's presidential campaign.\n",
      "\n",
      "Slides in a presentation provided to The Associated Press estimates that the group's litigation would protect the right to vote for 2 million voters in those four states, which will be among the most contested in the November election.\n",
      "\n",
      "Cecil, who will serve as the organization's senior adviser, said he is putting together a team and advisory board that will oversee the group. He said the group was not aimed solely on the 2016 election but would be \"in this fight for the long haul.\"\n",
      "\n",
      "\"There have been too many efforts to restrict access to the polls, making it even more difficult to vote,\" he said. \"We will engage at all levels: pushing for stronger legislation around early voting, same-day registration and vote by mail, waging legal battles to roll back onerous laws and registering voters in underrepresented communities across the country.\"\n",
      "\n",
      "\n"
     ]
    }
   ],
   "source": [
    "print clinton_high"
   ]
  },
  {
   "cell_type": "code",
   "execution_count": null,
   "metadata": {
    "collapsed": true
   },
   "outputs": [],
   "source": []
  }
 ],
 "metadata": {
  "kernelspec": {
   "display_name": "Python 2",
   "language": "python",
   "name": "python2"
  },
  "language_info": {
   "codemirror_mode": {
    "name": "ipython",
    "version": 2
   },
   "file_extension": ".py",
   "mimetype": "text/x-python",
   "name": "python",
   "nbconvert_exporter": "python",
   "pygments_lexer": "ipython2",
   "version": "2.7.10"
  }
 },
 "nbformat": 4,
 "nbformat_minor": 0
}
