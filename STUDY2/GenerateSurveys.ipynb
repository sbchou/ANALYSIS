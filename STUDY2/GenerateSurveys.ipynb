{
 "cells": [
  {
   "cell_type": "markdown",
   "metadata": {},
   "source": [
    "## 4 rows\n",
    "## 8 stories per row\n"
   ]
  },
  {
   "cell_type": "code",
   "execution_count": 152,
   "metadata": {
    "collapsed": true
   },
   "outputs": [],
   "source": [
    "import csv\n",
    "import random"
   ]
  },
  {
   "cell_type": "code",
   "execution_count": 153,
   "metadata": {
    "collapsed": true
   },
   "outputs": [],
   "source": [
    "def flatten(l):\n",
    "    return [item for sublist in l for item in sublist]"
   ]
  },
  {
   "cell_type": "code",
   "execution_count": 154,
   "metadata": {
    "collapsed": false
   },
   "outputs": [],
   "source": [
    "with open('DATA/8stories.csv', 'rb') as csvfile:\n",
    "    csv_reader = csv.reader(csvfile, delimiter=',', quotechar='\"')\n",
    "    datums = list(csv_reader)"
   ]
  },
  {
   "cell_type": "code",
   "execution_count": 155,
   "metadata": {
    "collapsed": false
   },
   "outputs": [],
   "source": [
    "datums = datums[1:]\n",
    "random.shuffle(datums)\n",
    "#c = [(row[0], row[1]) for row in datums]\n",
    "#c[0] "
   ]
  },
  {
   "cell_type": "code",
   "execution_count": 158,
   "metadata": {
    "collapsed": false
   },
   "outputs": [
    {
     "data": {
      "text/plain": [
       "['cruz', 'sanders', 'sanders', 'clinton', 'trump', 'cruz', 'trump', 'clinton']"
      ]
     },
     "execution_count": 158,
     "metadata": {},
     "output_type": "execute_result"
    }
   ],
   "source": [
    "len(datums)\n",
    "\n",
    "[row[1] for row in datums]"
   ]
  },
  {
   "cell_type": "code",
   "execution_count": 138,
   "metadata": {
    "collapsed": false
   },
   "outputs": [
    {
     "data": {
      "text/plain": [
       "['title', 'candidate', 'text', 'flesch', 'is_complex']"
      ]
     },
     "execution_count": 138,
     "metadata": {},
     "output_type": "execute_result"
    }
   ],
   "source": [
    " "
   ]
  },
  {
   "cell_type": "code",
   "execution_count": 159,
   "metadata": {
    "collapsed": false
   },
   "outputs": [],
   "source": [
    "# [show_AP, show_CNN, show_Fox]\n",
    "row1 = [row + [\"&nbsp;\"] for row in datums]\n",
    "row2 = [row + [\"the Associated Press\"] for row in datums]\n",
    "row3 = [row + [\"CNN\"] for row in datums]\n",
    "row4 = [row + [\"Fox News\"] for row in datums]"
   ]
  },
  {
   "cell_type": "code",
   "execution_count": 160,
   "metadata": {
    "collapsed": false
   },
   "outputs": [],
   "source": [
    "row1 = flatten(row1)\n",
    "row2 = flatten(row2)\n",
    "row3 = flatten(row3)\n",
    "row4 = flatten(row4)"
   ]
  },
  {
   "cell_type": "code",
   "execution_count": 161,
   "metadata": {
    "collapsed": false
   },
   "outputs": [],
   "source": [
    "with open('DATA/surveys.csv', mode='w') as outfile:\n",
    "    writer = csv.writer(outfile)\n",
    "    writer.writerow([\n",
    "                    'title1','candidate1','text1','flesch1', 'is_complex1','source1',\n",
    "                    'title2','candidate2','text2','flesch2','is_complex2','source2',\n",
    "                    'title3','candidate3','text3','flesch3','is_complex3','source3',\n",
    "                    'title4','candidate4','text4','flesch4','is_complex4','source4',\n",
    "                    'title5','candidate5','text5','flesch5','is_complex5','source5',\n",
    "                    'title6','candidate6','text6','flesch6','is_complex6','source6',\n",
    "                    'title7','candidate7','text7','flesch7','is_complex7','source7',\n",
    "                     'title8','candidate8','text8','flesch8','is_complex8','source8'\n",
    "                    ])\n",
    "    \n",
    "    writer.writerow(row1)\n",
    "    \n",
    "    writer.writerow(row2)\n",
    "    \n",
    "    writer.writerow(row3)\n",
    "    \n",
    "    writer.writerow(row4)"
   ]
  },
  {
   "cell_type": "code",
   "execution_count": null,
   "metadata": {
    "collapsed": true
   },
   "outputs": [],
   "source": []
  }
 ],
 "metadata": {
  "kernelspec": {
   "display_name": "Python 2",
   "language": "python",
   "name": "python2"
  },
  "language_info": {
   "codemirror_mode": {
    "name": "ipython",
    "version": 2
   },
   "file_extension": ".py",
   "mimetype": "text/x-python",
   "name": "python",
   "nbconvert_exporter": "python",
   "pygments_lexer": "ipython2",
   "version": "2.7.10"
  }
 },
 "nbformat": 4,
 "nbformat_minor": 0
}
