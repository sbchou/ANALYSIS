{
 "cells": [
  {
   "cell_type": "code",
   "execution_count": 11,
   "metadata": {
    "collapsed": false
   },
   "outputs": [],
   "source": [
    "#import beauty\n",
    "import csv\n",
    "import pandas\n",
    "import matplotlib\n",
    "import matplotlib.pyplot as plt\n",
    "#matplotlib.style.use('ggplot')\n",
    "%matplotlib inline\n",
    "#beauty.set_tex(False)"
   ]
  },
  {
   "cell_type": "code",
   "execution_count": 12,
   "metadata": {
    "collapsed": false
   },
   "outputs": [
    {
     "data": {
      "text/plain": [
       "160"
      ]
     },
     "execution_count": 12,
     "metadata": {},
     "output_type": "execute_result"
    }
   ],
   "source": [
    "results = pandas.DataFrame.from_csv('DATA/all_results/full_report.csv')\n",
    "len(results)"
   ]
  },
  {
   "cell_type": "code",
   "execution_count": 3,
   "metadata": {
    "collapsed": false
   },
   "outputs": [
    {
     "data": {
      "text/plain": [
       "{'&nbsp;', 'CNN', 'Fox News', 'the Associated Press'}"
      ]
     },
     "execution_count": 3,
     "metadata": {},
     "output_type": "execute_result"
    }
   ],
   "source": [
    "set(results.source4)"
   ]
  },
  {
   "cell_type": "code",
   "execution_count": null,
   "metadata": {
    "collapsed": false
   },
   "outputs": [],
   "source": []
  },
  {
   "cell_type": "code",
   "execution_count": 4,
   "metadata": {
    "collapsed": false
   },
   "outputs": [],
   "source": [
    "# Do some data cleaning / reformatting cols\n",
    "age_to_pretty = {1829:'18-29', 3049:'30-49', 5064:'50-64',64:'64+'}\n",
    "name_to_pretty = {'hillary_clinton':'clinton', 'donald_trump':'trump',\n",
    "                 'bernie_sanders': 'sanders', 'ted_cruz':'cruz',\n",
    "                  'john_kasich': 'kasich',\n",
    "                  'other':'other', 'might_not_vote': 'not_voting'}\n",
    "results['age_group'] = results.what_is_your_age.apply(lambda row: age_to_pretty[row])\n",
    "results['voting_for'] = results.if_the_election_were_tomorrow_i_would_vote_for.apply(lambda row: name_to_pretty[row])"
   ]
  },
  {
   "cell_type": "code",
   "execution_count": null,
   "metadata": {
    "collapsed": false
   },
   "outputs": [],
   "source": []
  },
  {
   "cell_type": "markdown",
   "metadata": {},
   "source": [
    "## Some checks"
   ]
  },
  {
   "cell_type": "code",
   "execution_count": 5,
   "metadata": {
    "collapsed": false
   },
   "outputs": [
    {
     "data": {
      "text/plain": [
       "<matplotlib.axes._subplots.AxesSubplot at 0x108339150>"
      ]
     },
     "execution_count": 5,
     "metadata": {},
     "output_type": "execute_result"
    },
    {
     "data": {
      "image/png": "[encoded data removed]",
      "text/plain": [
       "<matplotlib.figure.Figure at 0x108339110>"
      ]
     },
     "metadata": {},
     "output_type": "display_data"
    }
   ],
   "source": [
    "results.age_group.value_counts().plot(kind='bar')"
   ]
  },
  {
   "cell_type": "code",
   "execution_count": 6,
   "metadata": {
    "collapsed": false
   },
   "outputs": [
    {
     "name": "stdout",
     "output_type": "stream",
     "text": [
      "Index([u'_created_at', u'_id', u'_started_at', u'_tainted', u'_channel',\n",
      "       u'_trust', u'_worker_id', u'_country', u'_region', u'_city', u'_ip',\n",
      "       u'fair1', u'fair2', u'fair3', u'fair4', u'fair5', u'fair6', u'fair7',\n",
      "       u'fair8', u'have_you_read_any_of_the_stories_above_before_this_study',\n",
      "       u'if_so_which_ones', u'if_the_election_were_tomorrow_i_would_vote_for',\n",
      "       u'leave_any_comments_below', u'trust1', u'trust2', u'trust3', u'trust4',\n",
      "       u'trust5', u'trust6', u'trust7', u'trust8', u'what_is_your_age',\n",
      "       u'what_is_your_gender', u'what_is_your_political_party_affiliation',\n",
      "       u'candidate1', u'candidate2', u'candidate3', u'candidate4',\n",
      "       u'candidate5', u'candidate6', u'candidate7', u'candidate8', u'false',\n",
      "       u'flesch1', u'flesch2', u'flesch3', u'flesch4', u'flesch5', u'flesch6',\n",
      "       u'flesch7', u'flesch8', u'is_complex1', u'is_complex2', u'is_complex3',\n",
      "       u'is_complex4', u'is_complex5', u'is_complex6', u'is_complex7',\n",
      "       u'is_complex8', u'source1', u'source2', u'source3', u'source4',\n",
      "       u'source5', u'source6', u'source7', u'source8', u'text1', u'text2',\n",
      "       u'text3', u'text4', u'text5', u'text6', u'text7', u'text8', u'title1',\n",
      "       u'title2', u'title3', u'title4', u'title5', u'title6', u'title7',\n",
      "       u'title8', u'age_group', u'voting_for'],\n",
      "      dtype='object')\n"
     ]
    }
   ],
   "source": [
    "print results.columns"
   ]
  },
  {
   "cell_type": "code",
   "execution_count": 7,
   "metadata": {
    "collapsed": false
   },
   "outputs": [],
   "source": [
    "import csv \n",
    "with open('DATA/all_results/flattened.csv', \"wb\") as f:\n",
    "    c = csv.writer(f) \n",
    "    c.writerow(['worker_id','gender','age','party','voting_for','state','title','source','candidate', 'flesch','is_complex','fair','trust'])\n",
    "  \n",
    "    for row in results.iterrows():\n",
    "        c.writerow(list(row[1][['_worker_id','what_is_your_gender','age_group','what_is_your_political_party_affiliation',\n",
    "                           'voting_for','_region',\n",
    "                           'title1','source1','candidate1',\n",
    "                           'flesch1','is_complex1','fair1', 'trust1']]))\n",
    "        \n",
    "        c.writerow(list(row[1][['_worker_id','what_is_your_gender','age_group','what_is_your_political_party_affiliation',\n",
    "                           'voting_for','_region',\n",
    "                           'title2','source2','candidate2',\n",
    "                           'flesch2','is_complex2','fair2', 'trust2']]))\n",
    "\n",
    "        c.writerow(list(row[1][['_worker_id','what_is_your_gender','age_group','what_is_your_political_party_affiliation',\n",
    "                           'voting_for','_region',\n",
    "                           'title3','source3','candidate3',\n",
    "                           'flesch3','is_complex3','fair3', 'trust3']]))\n",
    "\n",
    "        c.writerow(list(row[1][['_worker_id','what_is_your_gender','age_group','what_is_your_political_party_affiliation',\n",
    "                           'voting_for','_region',\n",
    "                           'title4','source4','candidate4',\n",
    "                           'flesch4','is_complex4','fair4', 'trust4']]))\n",
    "   \n",
    "        c.writerow(list(row[1][['_worker_id','what_is_your_gender','age_group','what_is_your_political_party_affiliation',\n",
    "                           'voting_for','_region',\n",
    "                           'title5','source5','candidate5',\n",
    "                           'flesch5','is_complex1','fair5', 'trust5']]))\n",
    "\n",
    "        c.writerow(list(row[1][['_worker_id','what_is_your_gender','age_group','what_is_your_political_party_affiliation',\n",
    "                           'voting_for','_region',\n",
    "                           'title6','source6','candidate6',\n",
    "                           'flesch6','is_complex6','fair6', 'trust6']]))\n",
    "\n",
    "        c.writerow(list(row[1][['_worker_id','what_is_your_gender','age_group','what_is_your_political_party_affiliation',\n",
    "                           'voting_for','_region',\n",
    "                           'title7','source7','candidate7',\n",
    "                           'flesch7','is_complex7','fair7', 'trust7']]))\n",
    "\n",
    "        c.writerow(list(row[1][['_worker_id','what_is_your_gender','age_group','what_is_your_political_party_affiliation',\n",
    "                           'voting_for','_region',\n",
    "                           'title8','source8','candidate8',\n",
    "                           'flesch8','is_complex8','fair8', 'trust8']]))"
   ]
  },
  {
   "cell_type": "code",
   "execution_count": 8,
   "metadata": {
    "collapsed": true
   },
   "outputs": [],
   "source": [
    "# NO TITLES\n",
    "with open('DATA/all_results/flattened_no_title.csv', \"wb\") as f:\n",
    "    c = csv.writer(f) \n",
    "    c.writerow(['worker_id','gender','age','party','voting_for','state','source','candidate', 'flesch','is_complex','fair','trust'])\n",
    "  \n",
    "    for row in results.iterrows():\n",
    "        c.writerow(list(row[1][['_worker_id','what_is_your_gender','age_group','what_is_your_political_party_affiliation',\n",
    "                           'voting_for','_region',\n",
    "                           'source1','candidate1',\n",
    "                           'flesch1','is_complex1','fair1', 'trust1']]))\n",
    "        \n",
    "        c.writerow(list(row[1][['_worker_id','what_is_your_gender','age_group','what_is_your_political_party_affiliation',\n",
    "                           'voting_for','_region',\n",
    "                           'source2','candidate2',\n",
    "                           'flesch2','is_complex2','fair2', 'trust2']]))\n",
    "\n",
    "        c.writerow(list(row[1][['_worker_id','what_is_your_gender','age_group','what_is_your_political_party_affiliation',\n",
    "                           'voting_for','_region',\n",
    "                           'source3','candidate3',\n",
    "                           'flesch3','is_complex3','fair3', 'trust3']]))\n",
    "\n",
    "        c.writerow(list(row[1][['_worker_id','what_is_your_gender','age_group','what_is_your_political_party_affiliation',\n",
    "                           'voting_for','_region',\n",
    "                           'source4','candidate4',\n",
    "                           'flesch4','is_complex4','fair4', 'trust4']]))\n",
    "   \n",
    "        c.writerow(list(row[1][['_worker_id','what_is_your_gender','age_group','what_is_your_political_party_affiliation',\n",
    "                           'voting_for','_region',\n",
    "                           'source5','candidate5',\n",
    "                           'flesch5','is_complex1','fair5', 'trust5']]))\n",
    "\n",
    "        c.writerow(list(row[1][['_worker_id','what_is_your_gender','age_group','what_is_your_political_party_affiliation',\n",
    "                           'voting_for','_region',\n",
    "                           'source6','candidate6',\n",
    "                           'flesch6','is_complex6','fair6', 'trust6']]))\n",
    "\n",
    "        c.writerow(list(row[1][['_worker_id','what_is_your_gender','age_group','what_is_your_political_party_affiliation',\n",
    "                           'voting_for','_region',\n",
    "                           'source7','candidate7',\n",
    "                           'flesch7','is_complex7','fair7', 'trust7']]))\n",
    "\n",
    "        c.writerow(list(row[1][['_worker_id','what_is_your_gender','age_group','what_is_your_political_party_affiliation',\n",
    "                           'voting_for','_region',\n",
    "                           'source8','candidate8',\n",
    "                           'flesch8','is_complex8','fair8', 'trust8']]))"
   ]
  },
  {
   "cell_type": "code",
   "execution_count": 13,
   "metadata": {
    "collapsed": false
   },
   "outputs": [],
   "source": [
    "# TITLE AND TEXT\n",
    "with open('DATA/all_results/flattened_title_text.csv', \"wb\") as f:\n",
    "    c = csv.writer(f) \n",
    "    c.writerow(['worker_id','gender','age','party','voting_for','state','source','candidate','title','body', 'flesch','is_complex','fair','trust'])\n",
    "  \n",
    "    for row in results.iterrows():\n",
    "        c.writerow(list(row[1][['_worker_id','what_is_your_gender','age_group','what_is_your_political_party_affiliation',\n",
    "                           'voting_for','_region',\n",
    "                           'source1','candidate1',\n",
    "                           'title1', 'text1',\n",
    "                           'flesch1','is_complex1','fair1', 'trust1']]))\n",
    "        \n",
    "        c.writerow(list(row[1][['_worker_id','what_is_your_gender','age_group','what_is_your_political_party_affiliation',\n",
    "                           'voting_for','_region',\n",
    "                           'source2','candidate2',\n",
    "                           'title2', 'text2',\n",
    "                           'flesch2','is_complex2','fair2', 'trust2']]))\n",
    "\n",
    "        c.writerow(list(row[1][['_worker_id','what_is_your_gender','age_group','what_is_your_political_party_affiliation',\n",
    "                           'voting_for','_region',\n",
    "                           'source3','candidate3',\n",
    "                           'title3', 'text3',\n",
    "                           'flesch3','is_complex3','fair3', 'trust3']]))\n",
    "\n",
    "        c.writerow(list(row[1][['_worker_id','what_is_your_gender','age_group','what_is_your_political_party_affiliation',\n",
    "                           'voting_for','_region',\n",
    "                           'source4','candidate4',\n",
    "                           'title4', 'text4',\n",
    "                           'flesch4','is_complex4','fair4', 'trust4']]))\n",
    "   \n",
    "        c.writerow(list(row[1][['_worker_id','what_is_your_gender','age_group','what_is_your_political_party_affiliation',\n",
    "                           'voting_for','_region',\n",
    "                           'source5','candidate5',\n",
    "                           'title5', 'text5',\n",
    "                           'flesch5','is_complex1','fair5', 'trust5']]))\n",
    "\n",
    "        c.writerow(list(row[1][['_worker_id','what_is_your_gender','age_group','what_is_your_political_party_affiliation',\n",
    "                           'voting_for','_region',\n",
    "                           'source6','candidate6',\n",
    "                           'title6', 'text6',     \n",
    "                           'flesch6','is_complex6','fair6', 'trust6']]))\n",
    "\n",
    "        c.writerow(list(row[1][['_worker_id','what_is_your_gender','age_group','what_is_your_political_party_affiliation',\n",
    "                           'voting_for','_region',\n",
    "                           'source7','candidate7',\n",
    "                           'title7', 'text7',\n",
    "                           'flesch7','is_complex7','fair7', 'trust7']]))\n",
    "\n",
    "        c.writerow(list(row[1][['_worker_id','what_is_your_gender','age_group','what_is_your_political_party_affiliation',\n",
    "                           'voting_for','_region',\n",
    "                           'source8','candidate8',\n",
    "                           'title8', 'text8', \n",
    "                           'flesch8','is_complex8','fair8', 'trust8']]))"
   ]
  },
  {
   "cell_type": "code",
   "execution_count": null,
   "metadata": {
    "collapsed": true
   },
   "outputs": [],
   "source": []
  },
  {
   "cell_type": "code",
   "execution_count": null,
   "metadata": {
    "collapsed": true
   },
   "outputs": [],
   "source": []
  },
  {
   "cell_type": "code",
   "execution_count": null,
   "metadata": {
    "collapsed": false
   },
   "outputs": [],
   "source": []
  },
  {
   "cell_type": "code",
   "execution_count": null,
   "metadata": {
    "collapsed": true
   },
   "outputs": [],
   "source": []
  },
  {
   "cell_type": "code",
   "execution_count": null,
   "metadata": {
    "collapsed": true
   },
   "outputs": [],
   "source": []
  },
  {
   "cell_type": "code",
   "execution_count": null,
   "metadata": {
    "collapsed": true
   },
   "outputs": [],
   "source": []
  },
  {
   "cell_type": "code",
   "execution_count": null,
   "metadata": {
    "collapsed": true
   },
   "outputs": [],
   "source": []
  }
 ],
 "metadata": {
  "kernelspec": {
   "display_name": "Python 2",
   "language": "python",
   "name": "python2"
  },
  "language_info": {
   "codemirror_mode": {
    "name": "ipython",
    "version": 2
   },
   "file_extension": ".py",
   "mimetype": "text/x-python",
   "name": "python",
   "nbconvert_exporter": "python",
   "pygments_lexer": "ipython2",
   "version": "2.7.10"
  }
 },
 "nbformat": 4,
 "nbformat_minor": 0
}
