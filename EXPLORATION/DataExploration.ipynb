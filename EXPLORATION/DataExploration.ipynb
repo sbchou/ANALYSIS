{
 "cells": [
  {
   "cell_type": "code",
   "execution_count": 19,
   "metadata": {
    "collapsed": true
   },
   "outputs": [],
   "source": [
    "import csv\n",
    "import pandas\n",
    "import matplotlib\n",
    "import matplotlib.pyplot as plt \n",
    "%matplotlib inline \n",
    "import time\n",
    "from datetime import datetime\n",
    "import numpy as np\n",
    "import seaborn as sns\n",
    "import nltk \n",
    "from collections import Counter"
   ]
  },
  {
   "cell_type": "code",
   "execution_count": 2,
   "metadata": {
    "collapsed": false
   },
   "outputs": [
    {
     "name": "stdout",
     "output_type": "stream",
     "text": [
      "360\n",
      "1280\n",
      "1640\n"
     ]
    }
   ],
   "source": [
    "# lump together all data\n",
    "results_1 = pandas.DataFrame.from_csv('../SURVEY/RESULTS/DATA/flattened_all_with_text.csv', encoding='utf8') \n",
    "print len(results_1)\n",
    "results_2 = pandas.DataFrame.from_csv('../STUDY2/DATA/all_results/flattened_title_text.csv',encoding='utf8')\n",
    "print len(results_2)\n",
    "all_data = pandas.concat([results_1, results_2])\n",
    "print len(all_data)"
   ]
  },
  {
   "cell_type": "code",
   "execution_count": 3,
   "metadata": {
    "collapsed": false
   },
   "outputs": [],
   "source": [
    "name_to_last = {'Bernie Sanders':'sanders', 'Donald Trump':'trump', \n",
    "                'Hillary Clinton':'clinton', 'Ted Cruz':'cruz'}\n",
    "all_data['candidate'] = all_data.candidate.apply(lambda row: name_to_last[row] if row in name_to_last.keys() else row)"
   ]
  },
  {
   "cell_type": "code",
   "execution_count": 4,
   "metadata": {
    "collapsed": true
   },
   "outputs": [],
   "source": [
    "all_data.drop([\"is_complex\",\"flesch\",\"gunning_fog\",\"readability\"], axis=1, inplace=True)"
   ]
  },
  {
   "cell_type": "code",
   "execution_count": 5,
   "metadata": {
    "collapsed": false
   },
   "outputs": [
    {
     "name": "stdout",
     "output_type": "stream",
     "text": [
      "COLUMNS:\n",
      "age\tbody\tcandidate\tfair\tfavor\tgender\torg\tparty\tsource\tstate\ttitle\ttopic\ttrust\turl\tvoting_for\n",
      "TOTAL ANNOTATIONS: 1640\n",
      "TOTAL NUMBER OF STORIES: 125\n",
      "TOTAL NUMBER PER CANDIDATE:\n"
     ]
    },
    {
     "data": {
      "text/plain": [
       "candidate\n",
       "clinton    410\n",
       "cruz       410\n",
       "sanders    410\n",
       "trump      410\n",
       "Name: title, dtype: int64"
      ]
     },
     "execution_count": 5,
     "metadata": {},
     "output_type": "execute_result"
    }
   ],
   "source": [
    "print \"COLUMNS:\"\n",
    "print \"\\t\".join(list(all_data.columns))\n",
    "print \"TOTAL ANNOTATIONS:\", len(all_data)\n",
    "print \"TOTAL NUMBER OF STORIES:\", len(set(all_data.title))\n",
    "print \"TOTAL NUMBER PER CANDIDATE:\"\n",
    "all_data.groupby('candidate').title.count()"
   ]
  },
  {
   "cell_type": "code",
   "execution_count": 6,
   "metadata": {
    "collapsed": false
   },
   "outputs": [
    {
     "name": "stdout",
     "output_type": "stream",
     "text": [
      "122\n",
      "125\n"
     ]
    }
   ],
   "source": [
    "# we apparently have some repeat stories. it's ok.\n",
    "print len(set(all_data.body))\n",
    "print len(set(all_data.title))"
   ]
  },
  {
   "cell_type": "markdown",
   "metadata": {},
   "source": [
    "## FIRST SHOT IN THE DARK: BIGRAMS"
   ]
  },
  {
   "cell_type": "code",
   "execution_count": 15,
   "metadata": {
    "collapsed": false
   },
   "outputs": [],
   "source": [
    "import mutualInformation\n",
    "import wordportrait\n",
    "\n",
    "\"\"\"\n",
    "wordportrait.miportrait(\n",
    " Inputs:\n",
    "    userstat - dictionary of counts of words in tweets of target user (or group)\n",
    "    jointstat - dictionary of counts of words in everyone tweets\n",
    "    verbose - if True, adds frequencies and counts to the output (useful for debugging)\n",
    "    \n",
    "    Returns:\n",
    "        - The list of pairs (word, mutual information) if verbose = False\n",
    "        - The list of tuples (word, frequency by user, frequency by everyone else, count by user, count by everyone else, mutual information) if verbose = True\n",
    "   \n",
    "\"\"\""
   ]
  },
  {
   "cell_type": "code",
   "execution_count": 16,
   "metadata": {
    "collapsed": true
   },
   "outputs": [],
   "source": [
    "all_data['tokens'] = all_data.body.apply(lambda row: nltk.word_tokenize(row))"
   ]
  },
  {
   "cell_type": "code",
   "execution_count": 20,
   "metadata": {
    "collapsed": false
   },
   "outputs": [],
   "source": [
    "all_data['word_count'] = all_data.tokens.apply(lambda row: Counter(row))"
   ]
  },
  {
   "cell_type": "code",
   "execution_count": 25,
   "metadata": {
    "collapsed": false
   },
   "outputs": [],
   "source": [
    "all_counts = all_data.word_count.sum()"
   ]
  },
  {
   "cell_type": "code",
   "execution_count": 28,
   "metadata": {
    "collapsed": false
   },
   "outputs": [
    {
     "data": {
      "text/plain": [
       "[(u',', 36220),\n",
       " (u'the', 30316),\n",
       " (u'.', 27849),\n",
       " (u'to', 18390),\n",
       " (u'a', 17814),\n",
       " (u'and', 15942),\n",
       " (u'of', 15070),\n",
       " (u'in', 14139),\n",
       " (u\"''\", 9783),\n",
       " (u'``', 9762),\n",
       " (u\"'s\", 8865),\n",
       " (u'that', 7829),\n",
       " (u'Trump', 7767),\n",
       " (u'his', 7317),\n",
       " (u'he', 7227),\n",
       " (u'is', 6652),\n",
       " (u'on', 6162),\n",
       " (u'said', 5865),\n",
       " (u'for', 5711),\n",
       " (u'has', 5292),\n",
       " (u'Cruz', 4923),\n",
       " (u'at', 4706),\n",
       " (u'as', 4700),\n",
       " (u'Iowa', 4684),\n",
       " (u'with', 4480),\n",
       " (u'be', 4299),\n",
       " (u'Sanders', 4053),\n",
       " (u'The', 4023),\n",
       " (u'who', 4008),\n",
       " (u'from', 3936),\n",
       " (u'campaign', 3896),\n",
       " (u'Clinton', 3295),\n",
       " (u'have', 2736),\n",
       " (u'will', 2719),\n",
       " (u'by', 2605),\n",
       " (u'I', 2592),\n",
       " (u'it', 2551),\n",
       " (u'\\u2014', 2546),\n",
       " (u'was', 2529),\n",
       " (u'are', 2494),\n",
       " (u'presidential', 2479),\n",
       " (u'not', 2478),\n",
       " (u'Mr.', 2433),\n",
       " (u'would', 2381),\n",
       " (u'voters', 2316),\n",
       " (u'New', 2233),\n",
       " (u'an', 2192),\n",
       " (u'conservative', 2079),\n",
       " (u':', 2027),\n",
       " (u'group', 1873),\n",
       " (u'do', 1800),\n",
       " (u'Democratic', 1773),\n",
       " (u'this', 1723),\n",
       " (u\"n't\", 1701),\n",
       " (u'candidate', 1667),\n",
       " (u'president', 1559),\n",
       " (u'Donald', 1480),\n",
       " (u'also', 1461),\n",
       " (u'Tuesday', 1454),\n",
       " (u'they', 1449),\n",
       " (u'debate', 1448),\n",
       " (u'He', 1422),\n",
       " (u'him', 1389),\n",
       " (u'other', 1381),\n",
       " (u'her', 1373),\n",
       " (u'people', 1356),\n",
       " (u'we', 1353),\n",
       " (u'Christian', 1346),\n",
       " (u'Republican', 1337),\n",
       " (u'which', 1326),\n",
       " (u'million', 1319),\n",
       " (u'Hampshire', 1308),\n",
       " (u'been', 1305),\n",
       " (u'when', 1302),\n",
       " (u'Roosevelt', 1280),\n",
       " (u'$', 1279),\n",
       " (u'should', 1255),\n",
       " (u'Wednesday', 1195),\n",
       " (u'evangelical', 1192),\n",
       " (u'says', 1182),\n",
       " (u'more', 1116),\n",
       " (u'among', 1113),\n",
       " (u'all', 1103),\n",
       " (u'can', 1079),\n",
       " (u'most', 1064),\n",
       " (u'about', 1052),\n",
       " (u'organization', 1011),\n",
       " (u'But', 1002),\n",
       " (u'you', 997),\n",
       " (u'over', 997),\n",
       " (u'up', 991),\n",
       " (u'tax', 990),\n",
       " (u'win', 989),\n",
       " (u'registration', 978),\n",
       " (u'what', 973),\n",
       " (u'vote', 971),\n",
       " (u'night', 947),\n",
       " (u'last', 946),\n",
       " (u')', 946),\n",
       " (u'but', 933)]"
      ]
     },
     "execution_count": 28,
     "metadata": {},
     "output_type": "execute_result"
    }
   ],
   "source": [
    "all_counts.most_common(100)"
   ]
  },
  {
   "cell_type": "code",
   "execution_count": 50,
   "metadata": {
    "collapsed": false
   },
   "outputs": [],
   "source": [
    "# remove stopwords\n",
    "from nltk.corpus import stopwords\n",
    "import string\n",
    "punct = [x for x in string.punctuation]\n",
    "skip = stopwords.words('english') + punct + [\"''\", '``',\"'s\"]"
   ]
  },
  {
   "cell_type": "code",
   "execution_count": 51,
   "metadata": {
    "collapsed": false
   },
   "outputs": [],
   "source": [
    "all_data['filtered_tokens'] = all_data.tokens.apply(lambda row: [word for word in row if word not in skip])\n",
    "#filtered_words = [word for word in word_list if word not in stopwords.words('english')]"
   ]
  },
  {
   "cell_type": "code",
   "execution_count": 52,
   "metadata": {
    "collapsed": true
   },
   "outputs": [],
   "source": [
    "all_data['filtered_word_count'] = all_data.filtered_tokens.apply(lambda row: Counter(row))"
   ]
  },
  {
   "cell_type": "code",
   "execution_count": 53,
   "metadata": {
    "collapsed": true
   },
   "outputs": [],
   "source": [
    "all_filtered_counts = all_data.filtered_word_count.sum()"
   ]
  },
  {
   "cell_type": "code",
   "execution_count": 55,
   "metadata": {
    "collapsed": false
   },
   "outputs": [
    {
     "data": {
      "text/plain": [
       "[(u'Trump', 7767),\n",
       " (u'said', 5865),\n",
       " (u'Cruz', 4923),\n",
       " (u'Iowa', 4684),\n",
       " (u'Sanders', 4053),\n",
       " (u'The', 4023),\n",
       " (u'campaign', 3896),\n",
       " (u'Clinton', 3295),\n",
       " (u'I', 2592),\n",
       " (u'\\u2014', 2546),\n",
       " (u'presidential', 2479),\n",
       " (u'Mr.', 2433),\n",
       " (u'would', 2381),\n",
       " (u'voters', 2316),\n",
       " (u'New', 2233),\n",
       " (u'conservative', 2079),\n",
       " (u'group', 1873),\n",
       " (u'Democratic', 1773),\n",
       " (u\"n't\", 1701),\n",
       " (u'candidate', 1667)]"
      ]
     },
     "execution_count": 55,
     "metadata": {},
     "output_type": "execute_result"
    }
   ],
   "source": [
    "all_filtered_counts.most_common(20)"
   ]
  },
  {
   "cell_type": "code",
   "execution_count": null,
   "metadata": {
    "collapsed": true
   },
   "outputs": [],
   "source": []
  }
 ],
 "metadata": {
  "kernelspec": {
   "display_name": "Python 2",
   "language": "python",
   "name": "python2"
  },
  "language_info": {
   "codemirror_mode": {
    "name": "ipython",
    "version": 2
   },
   "file_extension": ".py",
   "mimetype": "text/x-python",
   "name": "python",
   "nbconvert_exporter": "python",
   "pygments_lexer": "ipython2",
   "version": "2.7.10"
  }
 },
 "nbformat": 4,
 "nbformat_minor": 0
}
