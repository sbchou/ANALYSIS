{
 "cells": [
  {
   "cell_type": "code",
   "execution_count": 2,
   "metadata": {
    "collapsed": false
   },
   "outputs": [
    {
     "name": "stderr",
     "output_type": "stream",
     "text": [
      "/usr/local/lib/python2.7/site-packages/matplotlib/__init__.py:872: UserWarning: axes.color_cycle is deprecated and replaced with axes.prop_cycle; please use the latter.\n",
      "  warnings.warn(self.msg_depr % (key, alt_key))\n"
     ]
    }
   ],
   "source": [
    "import beauty\n",
    "import csv\n",
    "import pandas\n",
    "import matplotlib\n",
    "import matplotlib.pyplot as plt\n",
    "#matplotlib.style.use('ggplot')\n",
    "%matplotlib inline\n",
    "beauty.set_tex(False)"
   ]
  },
  {
   "cell_type": "code",
   "execution_count": 3,
   "metadata": {
    "collapsed": true
   },
   "outputs": [],
   "source": [
    "group_A = pandas.DataFrame.from_csv('DATA/flattened_A.csv',index_col=False)\n",
    "group_B = pandas.DataFrame.from_csv('DATA/flattened_B.csv',index_col=False)\n",
    "group_A['group'] = 'A'\n",
    "group_B['group'] = 'B'\n",
    "group_AB = pandas.concat([group_A, group_B])\n",
    "#group_AB.to_csv('DATA/flattened_ALL.csv')"
   ]
  },
  {
   "cell_type": "code",
   "execution_count": 4,
   "metadata": {
    "collapsed": false
   },
   "outputs": [
    {
     "data": {
      "text/plain": [
       "Index([u'worker_id', u'gender', u'age', u'party', u'voting_for', u'state',\n",
       "       u'title', u'url', u'org', u'candidate', u'flesch', u'gunning_fog',\n",
       "       u'readability', u'topic', u'favor', u'trust', u'group'],\n",
       "      dtype='object')"
      ]
     },
     "execution_count": 4,
     "metadata": {},
     "output_type": "execute_result"
    }
   ],
   "source": [
    "group_AB.columns"
   ]
  },
  {
   "cell_type": "markdown",
   "metadata": {},
   "source": [
    "# Preprocess for Trust LMER Analysis\n",
    "* is_complex (high/low flesch) --> binary OR (-1,0,1)\n",
    "* source --> (1..5)\n",
    "* disclose source --> (0,1) binary\n",
    "* trust --> likert (5 point scale)\n"
   ]
  },
  {
   "cell_type": "markdown",
   "metadata": {},
   "source": [
    "## Flesch to Binary "
   ]
  },
  {
   "cell_type": "code",
   "execution_count": 11,
   "metadata": {
    "collapsed": false
   },
   "outputs": [],
   "source": [
    "# 180 stories total \n",
    "# Clinton : Do 60 < 9 and 60 > 12\n",
    "# Trump:  Do 60 < 8 and 60 > 11\n",
    "# Sanders:  Do 66 < 8.7 and 54 > 9.6\n",
    "# Cruz: Do 66 < 7 and 54 > 10\n",
    "def convert_flesch(row): \n",
    "    if row['candidate'] == 'Hillary Clinton':\n",
    "        if row['flesch'] < 9:\n",
    "            return -1\n",
    "        elif row['flesch'] > 12: \n",
    "            return 1\n",
    "        else:\n",
    "            return 0\n",
    "    if row['candidate'] == 'Donald Trump':\n",
    "        if row['flesch'] < 8:\n",
    "            return -1\n",
    "        elif row['flesch'] > 11:\n",
    "            return 1\n",
    "        else: \n",
    "            return 0\n",
    "    if row['candidate'] == 'Bernie Sanders':\n",
    "        if row['flesch'] < 8.7:\n",
    "            return -1\n",
    "        elif row['flesch'] > 9.6:\n",
    "            return 1\n",
    "        else:\n",
    "            return 0\n",
    "    if row['candidate'] == 'Ted Cruz':\n",
    "        if row['flesch'] < 7:\n",
    "            return -1\n",
    "        elif row['flesch'] > 10:\n",
    "            return 1\n",
    "        else:\n",
    "            return 0        \n",
    "\n",
    "\n",
    "group_AB['flesch_code'] = group_AB.apply(lambda row: convert_flesch(row), axis=1)"
   ]
  },
  {
   "cell_type": "markdown",
   "metadata": {},
   "source": [
    "## Code News Source"
   ]
  },
  {
   "cell_type": "code",
   "execution_count": 14,
   "metadata": {
    "collapsed": false
   },
   "outputs": [],
   "source": [
    "org_to_code = {'CNN':1, 'Fox News' : 2, 'The New York Times':3, 'The Wall Street Journal':4, 'the Associated Press':5}\n",
    "group_AB['org_coded'] = group_AB.org.apply(lambda row: org_to_code[row])\n"
   ]
  },
  {
   "cell_type": "markdown",
   "metadata": {
    "collapsed": false
   },
   "source": [
    "## And binary group"
   ]
  },
  {
   "cell_type": "code",
   "execution_count": 18,
   "metadata": {
    "collapsed": false
   },
   "outputs": [],
   "source": [
    "group_AB['disclose_source'] = group_AB.group.apply(lambda x: 0 if x == 'A' else 1)"
   ]
  },
  {
   "cell_type": "markdown",
   "metadata": {
    "collapsed": false
   },
   "source": [
    "## And Save"
   ]
  },
  {
   "cell_type": "code",
   "execution_count": 19,
   "metadata": {
    "collapsed": false
   },
   "outputs": [
    {
     "data": {
      "text/plain": [
       "Index([u'worker_id', u'gender', u'age', u'party', u'voting_for', u'state',\n",
       "       u'title', u'url', u'org', u'candidate', u'flesch', u'gunning_fog',\n",
       "       u'readability', u'topic', u'favor', u'trust', u'group', u'is_complex',\n",
       "       u'flesch_code', u'org_coded', u'disclose_source'],\n",
       "      dtype='object')"
      ]
     },
     "execution_count": 19,
     "metadata": {},
     "output_type": "execute_result"
    }
   ],
   "source": [
    "group_AB.columns"
   ]
  },
  {
   "cell_type": "code",
   "execution_count": 27,
   "metadata": {
    "collapsed": false
   },
   "outputs": [],
   "source": [
    "# just save what you need \n",
    "df_lmer = group_AB[['worker_id', 'flesch_code','org_coded','disclose_source', 'trust']]\n",
    "df_lmer = df_lmer.rename(columns={'flesch_code': 'complexity', 'org_coded': 'source'})\n",
    "df_lmer.head()\n",
    "df_lmer.to_csv('../trust_correlation/trust.csv')\n",
    "df_lmer[df_lmer.complexity != 0].to_csv('../trust_correlation/trust_no_0.csv')"
   ]
  },
  {
   "cell_type": "code",
   "execution_count": 5,
   "metadata": {
    "collapsed": false
   },
   "outputs": [],
   "source": [
    "#trust_to_value = {2:'Strongly Agree', 1:'Agree', 0:'Neutral', -1:'Disagree', -2:'Strongly Disagree'}\n",
    "#group_AB['trust_score'] = group_AB.trust.copy()\n",
    "#group_AB['trust'] = group_AB.trust_score.apply(lambda row:trust_to_value[row])\n",
    "#score_to_value = {-1:'Unfavorable', 0:'Neutral', 1:'Favorable'}\n",
    "#group_AB['favor_score'] = group_AB.favor.copy()\n",
    "#group_AB['favor'] = group_AB.favor_score.apply(lambda row:score_to_value[row])\n",
    "\n",
    "#trust_to_binary_value = {2:'Agree', 1:'Agree', 0:'Neutral', -1:'Disagree', -2:'Disagree'}\n",
    "#group_AB['trust_binary'] = group_AB.trust_score.apply(lambda row:trust_to_binary_value[row])"
   ]
  },
  {
   "cell_type": "code",
   "execution_count": 6,
   "metadata": {
    "collapsed": false
   },
   "outputs": [],
   "source": [
    "#candidate_to_code = {'Hillary Clinton':1, 'Donald Trump' : 2, 'Bernie Sanders':3, 'Ted Cruz':4, 'John Kasich':5, 'Other':6, 'Not Voting':7}\n",
    "#party_to_code = {'democrat':1, 'republican':2, 'independent_other':3, 'no_affiliation':4}\n",
    "#group_AB['voting_for_coded'] = group_AB.voting_for.apply(lambda row: candidate_to_code[row])\n",
    "#group_AB['party_coded'] = group_AB.party.apply(lambda row: party_to_code[row])"
   ]
  },
  {
   "cell_type": "code",
   "execution_count": 7,
   "metadata": {
    "collapsed": true
   },
   "outputs": [],
   "source": [
    "#candidate_to_code = {'Hillary Clinton':1, 'Donald Trump' : 2, 'Bernie Sanders':3, 'Ted Cruz':4, 'John Kasich':5, 'Other':6, 'Not Voting':7}\n",
    "#party_to_code = {'democrat':1, 'republican':2, 'independent_other':3, 'no_affiliation':4}\n",
    "#group_AB['voting_for_coded'] = group_AB.voting_for.apply(lambda row: candidate_to_code[row])\n",
    "#group_AB['party_coded'] = group_AB.party.apply(lambda row: party_to_code[row])"
   ]
  },
  {
   "cell_type": "code",
   "execution_count": 15,
   "metadata": {
    "collapsed": false
   },
   "outputs": [],
   "source": [
    "#group_AB.to_csv('DATA/coded_ALL.csv')"
   ]
  },
  {
   "cell_type": "code",
   "execution_count": 49,
   "metadata": {
    "collapsed": false
   },
   "outputs": [],
   "source": [
    "#group_AB.sort_values(['worker_id','group','org'])[['worker_id','group','flesch_coded','org','trust_binary']].to_csv('DATA/sorted_by_worker.csv')"
   ]
  },
  {
   "cell_type": "code",
   "execution_count": 50,
   "metadata": {
    "collapsed": false
   },
   "outputs": [],
   "source": []
  },
  {
   "cell_type": "code",
   "execution_count": null,
   "metadata": {
    "collapsed": false
   },
   "outputs": [],
   "source": []
  },
  {
   "cell_type": "code",
   "execution_count": null,
   "metadata": {
    "collapsed": false
   },
   "outputs": [],
   "source": []
  },
  {
   "cell_type": "code",
   "execution_count": null,
   "metadata": {
    "collapsed": false
   },
   "outputs": [],
   "source": []
  },
  {
   "cell_type": "code",
   "execution_count": null,
   "metadata": {
    "collapsed": true
   },
   "outputs": [],
   "source": []
  },
  {
   "cell_type": "code",
   "execution_count": null,
   "metadata": {
    "collapsed": true
   },
   "outputs": [],
   "source": []
  }
 ],
 "metadata": {
  "kernelspec": {
   "display_name": "Python 2",
   "language": "python",
   "name": "python2"
  },
  "language_info": {
   "codemirror_mode": {
    "name": "ipython",
    "version": 2
   },
   "file_extension": ".py",
   "mimetype": "text/x-python",
   "name": "python",
   "nbconvert_exporter": "python",
   "pygments_lexer": "ipython2",
   "version": "2.7.10"
  }
 },
 "nbformat": 4,
 "nbformat_minor": 0
}
