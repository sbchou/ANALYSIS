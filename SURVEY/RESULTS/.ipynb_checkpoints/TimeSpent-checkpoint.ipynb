{
 "cells": [
  {
   "cell_type": "code",
   "execution_count": 23,
   "metadata": {
    "collapsed": false
   },
   "outputs": [],
   "source": [
    "import beauty\n",
    "import csv\n",
    "import pandas\n",
    "import matplotlib\n",
    "import matplotlib.pyplot as plt\n",
    "#matplotlib.style.use('ggplot')\n",
    "%matplotlib inline\n",
    "beauty.set_tex(False)\n",
    "pandas.set_option('display.max_colwidth', -1)\n",
    "from datetime import datetime"
   ]
  },
  {
   "cell_type": "markdown",
   "metadata": {},
   "source": [
    "## Study 1"
   ]
  },
  {
   "cell_type": "code",
   "execution_count": 4,
   "metadata": {
    "collapsed": true
   },
   "outputs": [],
   "source": [
    "df_A = pandas.DataFrame.from_csv('DATA/full_report_A.csv')\n",
    "df_B = pandas.DataFrame.from_csv('DATA/full_report_B.csv')\n",
    "df = pandas.concat([df_A, df_B])"
   ]
  },
  {
   "cell_type": "code",
   "execution_count": 17,
   "metadata": {
    "collapsed": false
   },
   "outputs": [],
   "source": [
    "df['t0'] = df._started_at.apply(lambda row: datetime.strptime(row, \"%m/%d/%Y %H:%M:%S\") )\n",
    "df['t1'] = df._created_at.apply(lambda row: datetime.strptime(row, \"%m/%d/%Y %H:%M:%S\") )\n",
    "df['time_spent'] = df.t1 - df.t0"
   ]
  },
  {
   "cell_type": "code",
   "execution_count": 22,
   "metadata": {
    "collapsed": false
   },
   "outputs": [
    {
     "data": {
      "text/plain": [
       "Timedelta('0 days 00:07:31.680555')"
      ]
     },
     "execution_count": 22,
     "metadata": {},
     "output_type": "execute_result"
    }
   ],
   "source": [
    "df.time_spent.mean()"
   ]
  },
  {
   "cell_type": "markdown",
   "metadata": {},
   "source": [
    "## Study 2"
   ]
  },
  {
   "cell_type": "code",
   "execution_count": null,
   "metadata": {
    "collapsed": true
   },
   "outputs": [],
   "source": [
    "raw = pandas.DataFrame.from_csv('DATA/_results/full_report.csv')\n",
    "len(raw)\n",
    "raw.columns\n",
    "\n",
    "raw['t0'] = raw._started_at.apply(lambda row: datetime.strptime(row, \"%m/%d/%Y %H:%M:%S\") )\n",
    "raw['t1'] = raw._created_at.apply(lambda row: datetime.strptime(row, \"%m/%d/%Y %H:%M:%S\") )\n",
    "raw['time_spent'] = raw.t1 - raw.t0\n",
    "print type(raw.time_spent.iloc[0])\n",
    "\n",
    "print 'minutes', raw.time_spent.iloc[0].seconds % 3600 // 60\n",
    "print 'seconds', raw.time_spent.iloc[0].seconds%60\n",
    "\n",
    "raw.time_spent.mean()\n",
    "\n",
    "raw.total_time.hist(bins=10)\n",
    "plt.title('Time Spent on Survey (Study 1)', fontsize=7)\n",
    "plt.xlabel('minutes', fontsize=7) \n",
    "plt.ylabel('participants', fontsize=7)\n",
    "plt.savefig('FIGS/time_spent.png')\n",
    "#raw.min_spent\n",
    "#raw.sec_spent\n",
    "#raw.total_time"
   ]
  }
 ],
 "metadata": {
  "kernelspec": {
   "display_name": "Python 2",
   "language": "python",
   "name": "python2"
  },
  "language_info": {
   "codemirror_mode": {
    "name": "ipython",
    "version": 2
   },
   "file_extension": ".py",
   "mimetype": "text/x-python",
   "name": "python",
   "nbconvert_exporter": "python",
   "pygments_lexer": "ipython2",
   "version": "2.7.10"
  }
 },
 "nbformat": 4,
 "nbformat_minor": 0
}
