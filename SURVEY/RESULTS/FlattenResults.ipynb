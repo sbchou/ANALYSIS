{
 "cells": [
  {
   "cell_type": "code",
   "execution_count": 19,
   "metadata": {
    "collapsed": false
   },
   "outputs": [],
   "source": [
    "import beauty\n",
    "import csv\n",
    "import pandas\n",
    "import matplotlib\n",
    "import matplotlib.pyplot as plt\n",
    "#matplotlib.style.use('ggplot')\n",
    "%matplotlib inline\n",
    "beauty.set_tex(False)"
   ]
  },
  {
   "cell_type": "code",
   "execution_count": 20,
   "metadata": {
    "collapsed": false
   },
   "outputs": [],
   "source": [
    "group_A = pandas.DataFrame.from_csv('DATA/full_report_A.csv')\n",
    "group_B = pandas.DataFrame.from_csv('DATA/full_report_B.csv')\n",
    "# Do some data cleaning / reformatting cols\n",
    "age_to_pretty = {1829:'18-29', 3049:'30-49', 5064:'50-64',64:'64+'}\n",
    "name_to_pretty = {'hillary_clinton':'Hillary Clinton', 'donald_trump':'Donald Trump',\n",
    "                 'bernie_sanders': 'Bernie Sanders', 'ted_cruz':'Ted Cruz',\n",
    "                  'john_kasich': 'John Kasich',\n",
    "                  'other':'Other', 'might_not_vote': 'Not Voting'}\n",
    "group_A['age_group'] = group_A.what_is_your_age.apply(lambda row: age_to_pretty[row])\n",
    "group_B['age_group'] = group_B.what_is_your_age.apply(lambda row: age_to_pretty[row])\n",
    "group_A['voting_for'] = group_A.if_the_election_were_tomorrow_i_would_vote_for.apply(lambda row: name_to_pretty[row])\n",
    "group_B['voting_for'] = group_B.if_the_election_were_tomorrow_i_would_vote_for.apply(lambda row: name_to_pretty[row])"
   ]
  },
  {
   "cell_type": "code",
   "execution_count": null,
   "metadata": {
    "collapsed": false
   },
   "outputs": [],
   "source": []
  },
  {
   "cell_type": "code",
   "execution_count": 21,
   "metadata": {
    "collapsed": false
   },
   "outputs": [],
   "source": [
    "group_A = group_A.rename(columns = {'q1':'favor_1',\n",
    "                                    'q2':'trust_1', \n",
    "                                    'q3':'favor_2', \n",
    "                                    'q4':'trust_2',\n",
    "                                    'q5':'favor_3',\n",
    "                                    'q6':'trust_3',\n",
    "                                    'q7':'favor_4',\n",
    "                                    'q8':'trust_4',\n",
    "                                    'q9':'favor_5',\n",
    "                                    'q10':'trust_5'})\n"
   ]
  },
  {
   "cell_type": "code",
   "execution_count": 22,
   "metadata": {
    "collapsed": false
   },
   "outputs": [],
   "source": [
    "group_B = group_B.rename(columns = {'q1':'favor_1',\n",
    "                                    'q2':'trust_1', \n",
    "                                    'q3':'favor_2', \n",
    "                                    'q4':'trust_2',\n",
    "                                    'q5':'favor_3',\n",
    "                                    'q6':'trust_3',\n",
    "                                    'q7':'favor_4',\n",
    "                                    'q8':'trust_4',\n",
    "                                    'q9':'favor_5',\n",
    "                                    'q10':'trust_5'})\n",
    " "
   ]
  },
  {
   "cell_type": "code",
   "execution_count": 23,
   "metadata": {
    "collapsed": false
   },
   "outputs": [
    {
     "data": {
      "text/plain": [
       "0"
      ]
     },
     "execution_count": 23,
     "metadata": {},
     "output_type": "execute_result"
    }
   ],
   "source": [
    "group_B.trust_1.isnull().sum()"
   ]
  },
  {
   "cell_type": "code",
   "execution_count": 24,
   "metadata": {
    "collapsed": true
   },
   "outputs": [],
   "source": [
    "all_data = pandas.concat([group_A, group_B])"
   ]
  },
  {
   "cell_type": "code",
   "execution_count": 118,
   "metadata": {
    "collapsed": false
   },
   "outputs": [],
   "source": [
    "import csv \n",
    "with open('DATA/flattened_A.csv', \"wb\") as f:\n",
    "    c = csv.writer(f) \n",
    "    c.writerow(['worker_id','gender','age','party','voting_for','state','title','url','org','candidate',\n",
    "               'flesch','gunning_fog','readability','topic','favor','trust'])\n",
    "  \n",
    "    for row in group_A.iterrows():\n",
    "        c.writerow(list(row[1][['_worker_id','what_is_your_gender','age_group','what_is_your_political_party_affiliation',\n",
    "                           'voting_for','_region',\n",
    "                           'title_1','url_1','org_1','candidate_1',\n",
    "                           'flesch_1','gunning_fog_1','readability_1','top_topic_1', 'favor_1', 'trust_1']]))\n",
    "        \n",
    "        c.writerow(list(row[1][['_worker_id','what_is_your_gender','age_group','what_is_your_political_party_affiliation',\n",
    "                           'voting_for','_region',\n",
    "                           'title_2','url_2','org_2','candidate_2',\n",
    "                           'flesch_2','gunning_fog_2','readability_2','top_topic_2', 'favor_2', 'trust_2']]))\n",
    "        \n",
    "        c.writerow(list(row[1][['_worker_id','what_is_your_gender','age_group','what_is_your_political_party_affiliation',\n",
    "                           'voting_for','_region',\n",
    "                           'title_3','url_3','org_3','candidate_3',\n",
    "                           'flesch_3','gunning_fog_3','readability_3','top_topic_3', 'favor_3', 'trust_3']]))\n",
    "        \n",
    "        c.writerow(list(row[1][['_worker_id','what_is_your_gender','age_group','what_is_your_political_party_affiliation',\n",
    "                           'voting_for','_region',\n",
    "                           'title_4','url_4','org_4','candidate_4',\n",
    "                           'flesch_4','gunning_fog_4','readability_4','top_topic_4', 'favor_4', 'trust_4']]))\n",
    "       \n",
    "        c.writerow(list(row[1][['_worker_id','what_is_your_gender','age_group','what_is_your_political_party_affiliation',\n",
    "                           'voting_for','_region',\n",
    "                           'title_5','url_5','org_5','candidate_5',\n",
    "                           'flesch_5','gunning_fog_5','readability_5','top_topic_5', 'favor_5', 'trust_5']]))\n",
    "       \n",
    "        "
   ]
  },
  {
   "cell_type": "code",
   "execution_count": 119,
   "metadata": {
    "collapsed": true
   },
   "outputs": [],
   "source": [
    "import csv \n",
    "with open('DATA/flattened_B.csv', \"wb\") as f:\n",
    "    c = csv.writer(f) \n",
    "    c.writerow(['worker_id','gender','age','party','voting_for','state','title','url','org','candidate',\n",
    "               'flesch','gunning_fog','readability','topic','favor','trust'])\n",
    "  \n",
    "    for row in group_B.iterrows():\n",
    "        c.writerow(list(row[1][['_worker_id','what_is_your_gender','age_group','what_is_your_political_party_affiliation',\n",
    "                           'voting_for','_region',\n",
    "                           'title_1','url_1','org_1','candidate_1',\n",
    "                           'flesch_1','gunning_fog_1','readability_1','top_topic_1', 'favor_1', 'trust_1']]))\n",
    "        \n",
    "        c.writerow(list(row[1][['_worker_id','what_is_your_gender','age_group','what_is_your_political_party_affiliation',\n",
    "                           'voting_for','_region',\n",
    "                           'title_2','url_2','org_2','candidate_2',\n",
    "                           'flesch_2','gunning_fog_2','readability_2','top_topic_2', 'favor_2', 'trust_2']]))\n",
    "        \n",
    "        c.writerow(list(row[1][['_worker_id','what_is_your_gender','age_group','what_is_your_political_party_affiliation',\n",
    "                           'voting_for','_region',\n",
    "                           'title_3','url_3','org_3','candidate_3',\n",
    "                           'flesch_3','gunning_fog_3','readability_3','top_topic_3', 'favor_3', 'trust_3']]))\n",
    "        \n",
    "        c.writerow(list(row[1][['_worker_id','what_is_your_gender','age_group','what_is_your_political_party_affiliation',\n",
    "                           'voting_for','_region',\n",
    "                           'title_4','url_4','org_4','candidate_4',\n",
    "                           'flesch_4','gunning_fog_4','readability_4','top_topic_4', 'favor_4', 'trust_4']]))\n",
    "       \n",
    "        c.writerow(list(row[1][['_worker_id','what_is_your_gender','age_group','what_is_your_political_party_affiliation',\n",
    "                           'voting_for','_region',\n",
    "                           'title_5','url_5','org_5','candidate_5',\n",
    "                           'flesch_5','gunning_fog_5','readability_5','top_topic_5', 'favor_5', 'trust_5']]))\n",
    "       \n",
    "        "
   ]
  },
  {
   "cell_type": "code",
   "execution_count": 26,
   "metadata": {
    "collapsed": false
   },
   "outputs": [],
   "source": [
    "# EVERYTHANG\n",
    "import csv \n",
    "with open('DATA/flattened_all_with_text.csv', \"wb\") as f:\n",
    "    c = csv.writer(f) \n",
    "    c.writerow(['worker_id','gender','age','party','voting_for','state','title', 'body', 'url','org','candidate',\n",
    "               'flesch','gunning_fog','readability','topic','favor','trust'])\n",
    "  \n",
    "    for row in all_data.iterrows():\n",
    "        c.writerow(list(row[1][['_worker_id','what_is_your_gender','age_group','what_is_your_political_party_affiliation',\n",
    "                           'voting_for','_region',\n",
    "                           'title_1','body_1','url_1','org_1','candidate_1',\n",
    "                           'flesch_1','gunning_fog_1','readability_1','top_topic_1', 'favor_1', 'trust_1']]))\n",
    "        \n",
    "        c.writerow(list(row[1][['_worker_id','what_is_your_gender','age_group','what_is_your_political_party_affiliation',\n",
    "                           'voting_for','_region',\n",
    "                           'title_2','body_2','url_2','org_2','candidate_2',\n",
    "                           'flesch_2','gunning_fog_2','readability_2','top_topic_2', 'favor_2', 'trust_2']]))\n",
    "        \n",
    "        c.writerow(list(row[1][['_worker_id','what_is_your_gender','age_group','what_is_your_political_party_affiliation',\n",
    "                           'voting_for','_region',\n",
    "                           'title_3','body_3','url_3','org_3','candidate_3',\n",
    "                           'flesch_3','gunning_fog_3','readability_3','top_topic_3', 'favor_3', 'trust_3']]))\n",
    "        \n",
    "        c.writerow(list(row[1][['_worker_id','what_is_your_gender','age_group','what_is_your_political_party_affiliation',\n",
    "                           'voting_for','_region',\n",
    "                           'title_4','body_4','url_4','org_4','candidate_4',\n",
    "                           'flesch_4','gunning_fog_4','readability_4','top_topic_4', 'favor_4', 'trust_4']]))\n",
    "       \n",
    "        c.writerow(list(row[1][['_worker_id','what_is_your_gender','age_group','what_is_your_political_party_affiliation',\n",
    "                           'voting_for','_region',\n",
    "                           'title_5','body5','url_5','org_5','candidate_5',\n",
    "                           'flesch_5','gunning_fog_5','readability_5','top_topic_5', 'favor_5', 'trust_5']]))\n",
    "       \n",
    "        "
   ]
  },
  {
   "cell_type": "code",
   "execution_count": null,
   "metadata": {
    "collapsed": false
   },
   "outputs": [],
   "source": []
  },
  {
   "cell_type": "code",
   "execution_count": null,
   "metadata": {
    "collapsed": true
   },
   "outputs": [],
   "source": []
  }
 ],
 "metadata": {
  "kernelspec": {
   "display_name": "Python 2",
   "language": "python",
   "name": "python2"
  },
  "language_info": {
   "codemirror_mode": {
    "name": "ipython",
    "version": 2
   },
   "file_extension": ".py",
   "mimetype": "text/x-python",
   "name": "python",
   "nbconvert_exporter": "python",
   "pygments_lexer": "ipython2",
   "version": "2.7.10"
  }
 },
 "nbformat": 4,
 "nbformat_minor": 0
}
