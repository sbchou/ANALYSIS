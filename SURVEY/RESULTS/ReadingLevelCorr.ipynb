{
 "cells": [
  {
   "cell_type": "code",
   "execution_count": 1,
   "metadata": {
    "collapsed": false
   },
   "outputs": [
    {
     "name": "stderr",
     "output_type": "stream",
     "text": [
      "/usr/local/lib/python2.7/site-packages/matplotlib/__init__.py:872: UserWarning: axes.color_cycle is deprecated and replaced with axes.prop_cycle; please use the latter.\n",
      "  warnings.warn(self.msg_depr % (key, alt_key))\n"
     ]
    }
   ],
   "source": [
    "import beauty\n",
    "import csv\n",
    "import pandas\n",
    "import matplotlib\n",
    "import matplotlib.pyplot as plt\n",
    "#matplotlib.style.use('ggplot')\n",
    "%matplotlib inline\n",
    "beauty.set_tex(False)"
   ]
  },
  {
   "cell_type": "code",
   "execution_count": 11,
   "metadata": {
    "collapsed": true
   },
   "outputs": [],
   "source": [
    "group_A = pandas.DataFrame.from_csv('DATA/flattened_A.csv',index_col=False)\n",
    "group_B = pandas.DataFrame.from_csv('DATA/flattened_B.csv',index_col=False)\n",
    "group_A['group'] = 'A'\n",
    "group_B['group'] = 'B'\n",
    "group_AB = pandas.concat([group_A, group_B])\n",
    "group_AB.to_csv('DATA/flattened_ALL.csv')"
   ]
  },
  {
   "cell_type": "code",
   "execution_count": 10,
   "metadata": {
    "collapsed": false
   },
   "outputs": [
    {
     "data": {
      "text/plain": [
       "80"
      ]
     },
     "execution_count": 10,
     "metadata": {},
     "output_type": "execute_result"
    }
   ],
   "source": [
    "len(set(group_AB.worker_id))"
   ]
  },
  {
   "cell_type": "markdown",
   "metadata": {},
   "source": [
    "## Data processing-- binarizing etc."
   ]
  },
  {
   "cell_type": "code",
   "execution_count": 30,
   "metadata": {
    "collapsed": false
   },
   "outputs": [],
   "source": [
    "trust_to_value = {2:'Strongly Agree', 1:'Agree', 0:'Neutral', -1:'Disagree', -2:'Strongly Disagree'}\n",
    "group_AB['trust_score'] = group_AB.trust.copy()\n",
    "group_AB['trust'] = group_AB.trust_score.apply(lambda row:trust_to_value[row])\n",
    "\n",
    "score_to_value = {-1:'Unfavorable', 0:'Neutral', 1:'Favorable'}\n",
    "group_AB['favor_score'] = group_AB.favor.copy()\n",
    "group_AB['favor'] = group_AB.favor_score.apply(lambda row:score_to_value[row])\n",
    "\n",
    "trust_to_binary_value = {2:'Agree', 1:'Agree', 0:'Neutral', -1:'Disagree', -2:'Disagree'}\n",
    "group_AB['trust_binary'] = group_AB.trust_score.apply(lambda row:trust_to_binary_value[row])"
   ]
  },
  {
   "cell_type": "code",
   "execution_count": 76,
   "metadata": {
    "collapsed": false
   },
   "outputs": [],
   "source": [
    "candidate_to_code = {'Hillary Clinton':1, 'Donald Trump' : 2, 'Bernie Sanders':3, 'Ted Cruz':4, 'John Kasich':5, 'Other':6, 'Not Voting':7}\n",
    "party_to_code = {'democrat':1, 'republican':2, 'independent_other':3, 'no_affiliation':4}\n",
    "group_AB['voting_for_coded'] = group_AB.voting_for.apply(lambda row: candidate_to_code[row])\n",
    "group_AB['party_coded'] = group_AB.party.apply(lambda row: party_to_code[row])"
   ]
  },
  {
   "cell_type": "markdown",
   "metadata": {},
   "source": [
    "## Flesch to Binary "
   ]
  },
  {
   "cell_type": "code",
   "execution_count": 223,
   "metadata": {
    "collapsed": false
   },
   "outputs": [],
   "source": [
    "# 180 stories total \n",
    "# Clinton : Do 60 < 9 and 60 > 12\n",
    "# Trump:  Do 60 < 8 and 60 > 11\n",
    "# Sanders:  Do 66 < 8.7 and 54 > 9.6\n",
    "# Cruz: Do 66 < 7 and 54 > 10\n",
    "def foobar(row): \n",
    "    if row['candidate'] == 'Hillary Clinton':\n",
    "        if row['flesch'] < 9:\n",
    "            return -1\n",
    "        elif row['flesch'] > 12: \n",
    "            return 1\n",
    "        else:\n",
    "            return 0\n",
    "    if row['candidate'] == 'Donald Trump':\n",
    "        if row['flesch'] < 8:\n",
    "            return -1\n",
    "        elif row['flesch'] > 11:\n",
    "            return 1\n",
    "        else: \n",
    "            return 0\n",
    "    if row['candidate'] == 'Bernie Sanders':\n",
    "        if row['flesch'] < 8.7:\n",
    "            return -1\n",
    "        elif row['flesch'] > 9.6:\n",
    "            return 1\n",
    "        else:\n",
    "            return 0\n",
    "    if row['candidate'] == 'Ted Cruz':\n",
    "        if row['flesch'] < 7:\n",
    "            return -1\n",
    "        elif row['flesch'] > 10:\n",
    "            return 1\n",
    "        else:\n",
    "            return 0        \n",
    "\n",
    "\n",
    "group_AB['flesch_coded'] = group_AB.apply(lambda row: foobar(row), axis=1)"
   ]
  },
  {
   "cell_type": "code",
   "execution_count": 258,
   "metadata": {
    "collapsed": false
   },
   "outputs": [
    {
     "data": {
      "text/plain": [
       "Index([u'age', u'party', u'voting_for', u'state', u'title', u'url', u'org',\n",
       "       u'candidate', u'flesch', u'gunning_fog', u'readability', u'topic',\n",
       "       u'favor', u'trust', u'group', u'trust_score', u'favor_score',\n",
       "       u'trust_binary', u'voting_for_coded', u'party_coded', u'flesch_coded'],\n",
       "      dtype='object')"
      ]
     },
     "execution_count": 258,
     "metadata": {},
     "output_type": "execute_result"
    }
   ],
   "source": [
    "group_AB.columns"
   ]
  },
  {
   "cell_type": "code",
   "execution_count": 241,
   "metadata": {
    "collapsed": false
   },
   "outputs": [
    {
     "data": {
      "text/plain": [
       "Power_divergenceResult(statistic=nan, pvalue=nan)"
      ]
     },
     "execution_count": 241,
     "metadata": {},
     "output_type": "execute_result"
    }
   ],
   "source": [
    "import scipy\n",
    "#scipy.stats.pearsonr(group_AB.flesch, group_AB.trust_score)\n",
    "scipy.stats.chisquare(group_AB.favor_score, group_AB.trust_score)"
   ]
  },
  {
   "cell_type": "markdown",
   "metadata": {},
   "source": [
    "Index([u'age', u'party', u'voting_for', u'state', u'title', u'url', u'org',\n",
    "       u'candidate', u'flesch', u'gunning_fog', u'readability', u'topic',\n",
    "       u'favor', u'trust', u'group', u'trust_score', u'favor_score',\n",
    "       u'trust_binary', u'voting_for_coded', u'party_coded', u'flesch_coded'],\n",
    "      dtype='object')"
   ]
  },
  {
   "cell_type": "code",
   "execution_count": 235,
   "metadata": {
    "collapsed": false
   },
   "outputs": [
    {
     "name": "stdout",
     "output_type": "stream",
     "text": [
      "trust/flesch 0.0310810827162\n",
      "favor/flesch -0.0601444639286\n",
      "-0.757368665905\n"
     ]
    }
   ],
   "source": [
    "print 'trust/flesch', group_AB['trust_score'].corr(group_AB['flesch'], method='kendall')\n",
    "print 'favor/flesch', group_AB['favor_score'].corr(group_AB['flesch'], method='kendall')\n",
    "print group_AB['readability'].corr(group_AB['flesch_coded'], method='kendall')"
   ]
  },
  {
   "cell_type": "code",
   "execution_count": 66,
   "metadata": {
    "collapsed": false
   },
   "outputs": [
    {
     "data": {
      "text/plain": [
       "0.091090114952398549"
      ]
     },
     "execution_count": 66,
     "metadata": {},
     "output_type": "execute_result"
    }
   ],
   "source": [
    " group_AB['trust_score'].corr(group_AB['favor_score'], method='spearman')\n"
   ]
  },
  {
   "cell_type": "code",
   "execution_count": 251,
   "metadata": {
    "collapsed": false
   },
   "outputs": [
    {
     "data": {
      "text/plain": [
       "<matplotlib.axes._subplots.AxesSubplot at 0x10e37add0>"
      ]
     },
     "execution_count": 251,
     "metadata": {},
     "output_type": "execute_result"
    },
    {
     "data": {
      "image/png": "[encoded data removed]",
      "text/plain": [
       "<matplotlib.figure.Figure at 0x10bc23c50>"
      ]
     },
     "metadata": {},
     "output_type": "display_data"
    }
   ],
   "source": [
    "group_AB.trust_score.hist(bins=15, ylabelsize=5, xlabelsize=5)\n"
   ]
  },
  {
   "cell_type": "code",
   "execution_count": 253,
   "metadata": {
    "collapsed": false
   },
   "outputs": [
    {
     "data": {
      "text/plain": [
       "<matplotlib.axes._subplots.AxesSubplot at 0x10bc2e750>"
      ]
     },
     "execution_count": 253,
     "metadata": {},
     "output_type": "execute_result"
    },
    {
     "data": {
      "image/png": "[encoded data removed]",
      "text/plain": [
       "<matplotlib.figure.Figure at 0x10e7e0a90>"
      ]
     },
     "metadata": {},
     "output_type": "display_data"
    }
   ],
   "source": [
    "group_AB.favor_score.hist()"
   ]
  },
  {
   "cell_type": "code",
   "execution_count": null,
   "metadata": {
    "collapsed": true
   },
   "outputs": [],
   "source": [
    "group"
   ]
  }
 ],
 "metadata": {
  "kernelspec": {
   "display_name": "Python 2",
   "language": "python",
   "name": "python2"
  },
  "language_info": {
   "codemirror_mode": {
    "name": "ipython",
    "version": 2
   },
   "file_extension": ".py",
   "mimetype": "text/x-python",
   "name": "python",
   "nbconvert_exporter": "python",
   "pygments_lexer": "ipython2",
   "version": "2.7.10"
  }
 },
 "nbformat": 4,
 "nbformat_minor": 0
}
