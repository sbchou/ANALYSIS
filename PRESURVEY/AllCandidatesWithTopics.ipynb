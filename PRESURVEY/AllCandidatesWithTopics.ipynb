{
 "cells": [
  {
   "cell_type": "code",
   "execution_count": 6,
   "metadata": {
    "collapsed": true
   },
   "outputs": [],
   "source": [
    "from textstat.textstat import textstat\n",
    "import csv\n",
    "import pandas\n",
    "import matplotlib\n",
    "#matplotlib.style.use('ggplot')\n",
    "%matplotlib inline\n",
    "import ast"
   ]
  },
  {
   "cell_type": "code",
   "execution_count": 2,
   "metadata": {
    "collapsed": false
   },
   "outputs": [],
   "source": [
    "trump_df = pandas.read_csv('data/all_trump_w_topics.csv')\n",
    "clinton_df = pandas.read_csv('data/all_clinton_w_topics.csv')\n",
    "sanders_df = pandas.read_csv('data/all_sanders_w_topics.csv')\n",
    "cruz_df = pandas.read_csv('data/all_cruz_w_topics.csv')\n",
    "ORGS = ['nyt', 'wsj', 'cnn', 'fox', 'ap', 'reuters', 'politico', 'mcclatchy', 'buzzfeed', 'huffpo','latimes']\n"
   ]
  },
  {
   "cell_type": "code",
   "execution_count": 3,
   "metadata": {
    "collapsed": false
   },
   "outputs": [],
   "source": [
    "n = len(clinton_df)\n",
    "clinton_df.index = xrange(len(trump_df), (len(trump_df) + n))\n",
    "m = len(sanders_df)\n",
    "sanders_df.index = xrange(max(clinton_df.index), max(clinton_df.index) + m)\n",
    "c = len(cruz_df)\n",
    "cruz_df.index = xrange(max(sanders_df.index), max(sanders_df.index) + c)"
   ]
  },
  {
   "cell_type": "code",
   "execution_count": 4,
   "metadata": {
    "collapsed": false
   },
   "outputs": [],
   "source": [
    "all_df = pandas.concat([trump_df,clinton_df, sanders_df, cruz_df]) \n",
    "all_df['gunning_fog'] = all_df['body'].apply(lambda x: textstat.gunning_fog(x) if type(x) == str else None)\n",
    "all_df['flesch'] = all_df['body'].apply(lambda x: textstat.flesch_kincaid_grade(x) if type(x) == str else None)\n",
    "all_df['readability'] = all_df['body'].apply(lambda x: textstat.flesch_reading_ease(x) if type(x) == str else None)"
   ]
  },
  {
   "cell_type": "markdown",
   "metadata": {},
   "source": [
    "# Convert topics to Dict and Filter by > 0.1"
   ]
  },
  {
   "cell_type": "code",
   "execution_count": 7,
   "metadata": {
    "collapsed": false
   },
   "outputs": [],
   "source": [
    "all_df['topic_dict'] = all_df['topic'].apply(lambda d: ast.literal_eval(d))\n",
    "all_df['top_topics'] = all_df['topic_dict'].apply(lambda d: {k:v for k, v in d.iteritems() if v > 0.1})\n",
    "all_df['topic_list'] = all_df['top_topics'].apply(lambda d: d.keys()) "
   ]
  },
  {
   "cell_type": "code",
   "execution_count": 8,
   "metadata": {
    "collapsed": false
   },
   "outputs": [
    {
     "name": "stdout",
     "output_type": "stream",
     "text": [
      "total num stories: 6130\n",
      "total num stories from nyt : 634\n",
      "total num stories from wsj : 373\n",
      "total num stories from cnn : 721\n",
      "total num stories from fox : 648\n",
      "total num stories from ap : 601\n",
      "total num stories from reuters : 297\n",
      "total num stories from politico : 1404\n",
      "total num stories from mcclatchy : 178\n",
      "total num stories from buzzfeed : 88\n",
      "total num stories from huffpo : 836\n",
      "total num stories from latimes : 243\n"
     ]
    }
   ],
   "source": [
    "print \"total num stories:\", len(all_df)\n",
    "for o in ORGS:\n",
    "    print \"total num stories from\", o, \":\", len(all_df[all_df['org'] == o])"
   ]
  },
  {
   "cell_type": "code",
   "execution_count": 71,
   "metadata": {
    "collapsed": false
   },
   "outputs": [
    {
     "name": "stdout",
     "output_type": "stream",
     "text": [
      "Average Flesch-Kincaid grade for nyt stories: 7.52767295597\n",
      "Average Flesch-Kincaid grade for wsj stories: 7.90375335121\n",
      "Average Flesch-Kincaid grade for cnn stories: 9.63106796117\n",
      "Average Flesch-Kincaid grade for fox stories: 9.2549382716\n",
      "Average Flesch-Kincaid grade for ap stories: 9.62196339434\n",
      "Average Flesch-Kincaid grade for reuters stories: 10.165993266\n",
      "Average Flesch-Kincaid grade for politico stories: 8.68668091168\n",
      "Average Flesch-Kincaid grade for mcclatchy stories: 8.63595505618\n",
      "Average Flesch-Kincaid grade for buzzfeed stories: 12.3454545455\n",
      "Average Flesch-Kincaid grade for huffpo stories: 9.82858851675\n",
      "Average Flesch-Kincaid grade for latimes stories: 9.90614754098\n"
     ]
    }
   ],
   "source": [
    " for o in orgs:\n",
    "    all_df['flesch_' + o] = all_df[all_df['org'] == o]['body'].apply(lambda x: textstat.flesch_kincaid_grade(x) if type(x) == str else None)\n",
    "    print \"Average Flesch-Kincaid grade for \" + o + \" stories:\", all_df['flesch_' + o].mean()\n",
    "    # Average Flesch-Kincaid grade for AP stories: 9.97941176471\n",
    "    "
   ]
  },
  {
   "cell_type": "code",
   "execution_count": 83,
   "metadata": {
    "collapsed": false
   },
   "outputs": [
    {
     "name": "stdout",
     "output_type": "stream",
     "text": [
      "59                        http://www.nytimes.com/2016/01/29/upshot/surge-for-sanders-or-trump-in-iowa-voter-registration-doesnt-suggest-it.html\n",
      "149                                          http://www.nytimes.com/2016/01/20/business/dealbook/why-donald-trumps-shadow-looms-over-davos.html\n",
      "275                                               http://www.nytimes.com/2016/01/06/opinion/campaign-stops/purity-disgust-and-donald-trump.html\n",
      "277                                                     http://www.nytimes.com/2016/02/24/opinion/campaign-stops/the-trump-sanders-fantasy.html\n",
      "279                                                                http://www.nytimes.com/2016/02/21/us/politics/exit-polls-primary-caucus.html\n",
      "655                           http://www.nytimes.com/2016/02/14/us/politics/donald-trump-will-be-gop-nominee-students-mock-convention-says.html\n",
      "667                                                    http://www.nytimes.com/2016/02/20/opinion/south-carolinas-legacy-exploited-by-trump.html\n",
      "668                                        http://www.nytimes.com/2016/01/09/opinion/trump-and-other-republicans-do-the-gun-lobbys-bidding.html\n",
      "686                                                          http://douthat.blogs.nytimes.com/2016/02/12/why-i-wont-learn-to-love-donald-trump/\n",
      "786                                            http://www.nytimes.com/politics/first-draft/2016/01/26/donald-trump-says-hes-unlikely-to-debate/\n",
      "814                          http://www.nytimes.com/politics/first-draft/2016/02/11/hispanic-celebrities-denounce-donald-trump-and-g-o-p-field/\n",
      "825              http://www.nytimes.com/politics/first-draft/2016/02/22/kevin-mccarthy-g-o-p-house-leader-says-he-could-work-with-donald-trump/\n",
      "848                http://www.nytimes.com/politics/first-draft/2016/02/21/poll-watch-donald-trumps-curiously-strong-support-among-evangelicals/\n",
      "991                    http://www.nytimes.com/2016/03/01/us/politics/gop-legislators-face-new-pressure-to-decide-can-they-get-behind-trump.html\n",
      "1256                                                               http://www.nytimes.com/2016/03/02/opinion/evangelicals-and-donald-trump.html\n",
      "1259                                        http://www.nytimes.com/2016/02/20/opinion/pope-francis-donald-trump-and-a-dip-into-us-politics.html\n",
      "1401                                                      http://www.nytimes.com/2016/01/13/magazine/how-donald-trump-redeemed-nikki-haley.html\n",
      "1447                                                 http://www.nytimes.com/2016/01/04/opinion/campaign-stops/trump-did-not-break-politics.html\n",
      "1473                                                            http://krugman.blogs.nytimes.com/2016/01/23/how-to-make-donald-trump-president/\n",
      "1666                                                           http://douthat.blogs.nytimes.com/2016/02/24/looking-on-the-bright-side-of-trump/\n",
      "1667                                                                   http://douthat.blogs.nytimes.com/2016/02/26/should-democrats-fear-trump/\n",
      "1901                         http://www.nytimes.com/2016/01/05/us/politics/in-first-ad-donald-trump-plays-to-fears-on-immigration-and-isis.html\n",
      "2893      http://www.nytimes.com/2016/01/20/us/politics/alarmed-hillary-clinton-supporters-begin-focusing-on-bernie-sanders-socialist-edge.html\n",
      "3260                                                               http://www.nytimes.com/2016/02/21/us/politics/exit-polls-primary-caucus.html\n",
      "3309                                                          http://www.nytimes.com/2016/01/31/opinion/sunday/hillary-clinton-endorsement.html\n",
      "3340                                              http://www.nytimes.com/politics/first-draft/2016/01/24/boston-globe-endorses-hillary-clinton/\n",
      "3344                        http://www.nytimes.com/politics/first-draft/2016/02/19/clinton-and-sanders-reach-out-to-latino-voters-in-las-vegas/\n",
      "3359                               http://www.nytimes.com/politics/first-draft/2016/02/01/hillary-clinton-leads-in-fund-raising-from-lobbyists/\n",
      "3370                                 http://www.nytimes.com/politics/first-draft/2016/02/14/major-donors-to-clinton-include-napster-co-founder/\n",
      "3373          http://www.nytimes.com/politics/first-draft/2016/01/07/planned-parenthood-in-its-first-primary-endorsement-backs-hillary-clinton/\n",
      "3374    http://www.nytimes.com/politics/first-draft/2016/01/29/super-pac-backing-hillary-clinton-says-it-is-raising-more-than-it-did-for-obama/\n",
      "3613                                                                              http://www.nytimes.com/2016/02/02/us/iowa-caucus-results.html\n",
      "3631                                                                    http://www.nytimes.com/2016/01/25/opinion/hillary-clinton-stumbles.html\n",
      "3990      http://www.nytimes.com/2016/01/20/us/politics/alarmed-hillary-clinton-supporters-begin-focusing-on-bernie-sanders-socialist-edge.html\n",
      "3999                      http://www.nytimes.com/2016/01/29/upshot/surge-for-sanders-or-trump-in-iowa-voter-registration-doesnt-suggest-it.html\n",
      "4282                                            http://www.nytimes.com/2016/02/19/opinion/campaign-stops/how-bernie-sanders-plays-in-vegas.html\n",
      "4283                                                    http://www.nytimes.com/2016/02/24/opinion/campaign-stops/the-trump-sanders-fantasy.html\n",
      "4363                http://www.nytimes.com/politics/first-draft/2016/02/13/bernie-sanders-tells-volunteers-in-reno-to-expect-victory-in-nevada/\n",
      "4370                        http://www.nytimes.com/politics/first-draft/2016/02/19/clinton-and-sanders-reach-out-to-latino-voters-in-las-vegas/\n",
      "4490                          http://www.nytimes.com/2016/02/16/us/politics/left-leaning-economists-question-cost-of-bernie-sanderss-plans.html\n",
      "4544                                               http://www.nytimes.com/2016/01/14/opinion/campaign-stops/the-tempting-of-bernie-sanders.html\n",
      "5046                                                          http://www.nytimes.com/2016/02/10/opinion/campaign-stops/what-about-ted-cruz.html\n",
      "5342                                                               http://www.nytimes.com/2016/01/31/magazine/ted-cruzs-evangelical-gamble.html\n",
      "5374           http://www.nytimes.com/politics/first-draft/2016/02/01/marco-rubio-and-ted-cruz-supporters-sought-new-donors-at-koch-conference/\n",
      "5587                                                                              http://www.nytimes.com/2016/02/02/us/iowa-caucus-results.html\n",
      "5602                                                              http://www.nytimes.com/2016/02/07/opinion/sunday/ted-cruz-wont-be-denied.html\n",
      "5603                                                                       http://www.nytimes.com/2016/02/24/opinion/the-devil-in-ted-cruz.html\n",
      "5607                         http://www.nytimes.com/2016/02/04/opinion/campaign-stops/ted-cruz-and-marco-rubio-made-history-didnt-you-hear.html\n",
      "Name: url, dtype: object\n"
     ]
    },
    {
     "data": {
      "image/png": "[encoded data removed]",
      "text/plain": [
       "<matplotlib.figure.Figure at 0x1083d69d0>"
      ]
     },
     "metadata": {},
     "output_type": "display_data"
    }
   ],
   "source": [
    "pandas.options.display.max_colwidth = 1000\n",
    "o = 'nyt'\n",
    "all_df['flesch_'+ o].hist().set_xlabel(\"F-K Reading Level\")  \n",
    "print all_df[all_df['flesch_' + o ] > 10]['url']"
   ]
  },
  {
   "cell_type": "code",
   "execution_count": 87,
   "metadata": {
    "collapsed": false
   },
   "outputs": [
    {
     "name": "stdout",
     "output_type": "stream",
     "text": [
      "WEST DES MOINES, Iowa —  Donald J. Trump, the builder, casino owner, golf course developer, reality television star and tabloid fixture who said his “life has been about winning” and led every national Republican presidential poll for the past seven months, will now be known by a title to which he is unaccustomed: loser.\n",
      "\n",
      "That epithet may not stick for long. The primary campaign now moves from Iowa, where Mr. Trump finished second behind Senator Ted Cruz, to New Hampshire, a state whose more libertarian-minded, less socially conservative electorate may be a better fit for Mr. Trump, a flamboyant New Yorker.\n",
      "\n",
      "But for one evening, and in his first true test with actual voters, the man who continually boasted that he was a winner because he was winning had to search for words to explain away a defeat.\n",
      "\n",
      "In his concession speech, Mr. Trump kept remarkably calm and focused, portraying the loss as having nonetheless surpassed expectations in a state where people had told him he could not win, and where aides had been whispering to him hours earlier about the high turnout. He began by saying how much he loves Iowans.\n",
      "\n",
      "“On to New Hampshire!” he said, with his family beside him in a half-filled ballroom at the Sheraton hotel here.\n",
      "\n",
      "Though his celebrity dazzled and his message of pitchfork populism caught fire, attracting large crowds to his rallies and turning the presidential debates into ratings bonanzas for television news networks, Mr. Trump’s campaign made important missteps that proved critical in the last six weeks.\n",
      "\n",
      "Above all, Mr. Trump lacked a true get-out-the-vote operation in Iowa. Indeed, he never seemed fully committed to the state, visiting only sporadically and very rarely engaging in the type of intimate retail campaigning that is typically rewarded here. An infrequent churchgoer, he scarcely tried to win over the many Christian conservatives here, and occasionally stumbled when he did: At a nondenominational church service on Sunday, when the communion plate was passed around with wafers and wine, he reached for his wallet.\n",
      "\n",
      "“It was apparent to me that Trump created a large enough pool of people to win the caucus, but his campaign failed to get them out to vote,” said Roger Stone, a longtime adviser who helped set up Mr. Trump’s campaign but parted ways with it last summer.\n",
      "\n",
      "Indeed, the curious and star-struck people who filled Mr. Trump’s rallies often had not caucused before. Wooing people to show up for the caucuses has historically required candidates to hold smaller gatherings where they field direct questions and give in-depth answers. And many new voters who showed up chose to support another candidate.\n",
      "\n",
      "“Trump was selling the sizzle, not the steak,” said Matt Strawn, the former chairman of the Republican Party of Iowa. “Iowans were hungry for more. More substance. More opportunity to actually pepper Trump with questions to discern if his more recent conservative policy conversions were authentic. More respect for the Iowa caucus process and traditions.”\n",
      "\n",
      "Mr. Trump did not run television ads until much later than his opponents. And while his rivals and other detractors had generally shied away from attacking him with negative advertising, he turned out to be susceptible to it: Ads by Mr. Cruz and two outside groups that showed Mr. Trump stating his support for abortion rights in 1999 inflicted significant damage. And without a network of trusted local surrogates that a stronger Iowa operation might have assembled, Mr. Trump had few character witnesses to speak up for him outside his own family.\n",
      "\n",
      "Perhaps his costliest, and certainly his most memorable, error was skipping the final Republican debate, hosted by Fox News in Des Moines the Wednesday before the caucuses. He assured audiences that he had been wise to withdraw, and some analysts praised his instinct for avoiding the line of fire as a kind of genius.\n",
      "\n",
      "But the decision halted Mr. Trump’s momentum, and after weeks of trying to seem more conventional, the furor stirred up by his quitting the debate reinforced the circuslike, rather than the statesmanlike, aspects of his candidacy.\n",
      "\n",
      "Mr. Trump now needs to demonstrate that his candidacy can withstand a loss. He could try to cauterize the Iowa wound with stoicism and magnanimity. But he could also seek to set aside the verdict here, portraying Iowa as unrepresentative of the country or of the Republican Party.\n",
      "\n",
      "He heads to New Hampshire with a wide lead in the polls there. But with the state’s primary on Feb. 9, he has little time to regroup. And he will come under pressure not just to show up but to deliver a strong performance at the next debate, on Saturday night.\n",
      "\n",
      "His fall in Iowa dealt a blow to the image Mr. Trump has sought to project since declaring his candidacy in the gold-plated lobby of the Midtown Manhattan tower bearing his name.\n",
      "\n",
      "He relished proving critics wrong: those who predicted he would never actually get in the race, and those who thought his caustic remarks about Mexicans and undocumented immigrants or his denigration of Senator John McCain’s record as a prisoner of war in Vietnam would prove fatal to his campaign. What seemed egregious by conventional political standards seemed only to endear Mr. Trump to voters fed up with the nation’s political leadership and hungry for something new. Again and again, his poll numbers held steady, or rose — even after he asked, “How stupid are the people of Iowa?”\n",
      "\n",
      "Yet in the final days, Mr. Trump’s famous confidence seemed not quite as blinding as before. He repeatedly said he really wanted to win. But he also sought to tamp down expectations in a series of interviews just before the caucuses began.\n",
      "\n",
      "In an interview on ABC’s “Good Morning America” on Monday, he refused to predict a victory, and even allowed that he had jitters.\n",
      "\n",
      "“You have to be a little bit nervous,” he said. “You know, I like to win.”\n"
     ]
    }
   ],
   "source": [
    "print all_df['body'][5]"
   ]
  },
  {
   "cell_type": "code",
   "execution_count": 82,
   "metadata": {
    "collapsed": false
   },
   "outputs": [
    {
     "data": {
      "text/plain": [
       "<matplotlib.text.Text at 0x107f559d0>"
      ]
     },
     "execution_count": 82,
     "metadata": {},
     "output_type": "execute_result"
    },
    {
     "data": {
      "image/png": "[encoded data removed]",
      "text/plain": [
       "<matplotlib.figure.Figure at 0x1081d7f90>"
      ]
     },
     "metadata": {},
     "output_type": "display_data"
    }
   ],
   "source": [
    "pandas.options.display.max_colwidth = 1000\n",
    "all_df['flesch_nyt'].hist().set_xlabel(\"F-K Reading Level For NYT\")  "
   ]
  },
  {
   "cell_type": "code",
   "execution_count": null,
   "metadata": {
    "collapsed": true
   },
   "outputs": [],
   "source": []
  }
 ],
 "metadata": {
  "kernelspec": {
   "display_name": "Python 2",
   "language": "python",
   "name": "python2"
  },
  "language_info": {
   "codemirror_mode": {
    "name": "ipython",
    "version": 2
   },
   "file_extension": ".py",
   "mimetype": "text/x-python",
   "name": "python",
   "nbconvert_exporter": "python",
   "pygments_lexer": "ipython2",
   "version": "2.7.10"
  }
 },
 "nbformat": 4,
 "nbformat_minor": 0
}
