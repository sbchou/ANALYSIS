{
 "cells": [
  {
   "cell_type": "code",
   "execution_count": 47,
   "metadata": {
    "collapsed": true
   },
   "outputs": [],
   "source": [
    "from textstat.textstat import textstat\n",
    "import csv"
   ]
  },
  {
   "cell_type": "code",
   "execution_count": 48,
   "metadata": {
    "collapsed": false
   },
   "outputs": [],
   "source": [
    "import pandas\n",
    "import matplotlib\n",
    "#matplotlib.style.use('ggplot')\n",
    "%matplotlib inline"
   ]
  },
  {
   "cell_type": "markdown",
   "metadata": {},
   "source": [
    "# Reading Level Analysis for All Clinton since 1/1"
   ]
  },
  {
   "cell_type": "code",
   "execution_count": 49,
   "metadata": {
    "collapsed": false
   },
   "outputs": [
    {
     "name": "stdout",
     "output_type": "stream",
     "text": [
      "1097\n"
     ]
    },
    {
     "data": {
      "text/html": [
       "<div>\n",
       "<table border=\"1\" class=\"dataframe\">\n",
       "  <thead>\n",
       "    <tr style=\"text-align: right;\">\n",
       "      <th></th>\n",
       "      <th>title</th>\n",
       "      <th>url</th>\n",
       "      <th>org</th>\n",
       "      <th>date_written</th>\n",
       "      <th>byline</th>\n",
       "      <th>body</th>\n",
       "    </tr>\n",
       "  </thead>\n",
       "  <tbody>\n",
       "    <tr>\n",
       "      <th>0</th>\n",
       "      <td>10 Notable DNC Members From Illinois Announce ...</td>\n",
       "      <td>http://www.huffingtonpost.com/reboot-illinois/...</td>\n",
       "      <td>huffpo</td>\n",
       "      <td>2016-01-29 20:29:56</td>\n",
       "      <td>NaN</td>\n",
       "      <td>Ten prominent Illinoisans and members of the D...</td>\n",
       "    </tr>\n",
       "    <tr>\n",
       "      <th>1</th>\n",
       "      <td>2015 Brought Big Money For Clinton And Bush; S...</td>\n",
       "      <td>http://www.npr.org/2016/02/01/465095927/2015-b...</td>\n",
       "      <td>npr</td>\n",
       "      <td>2016-02-01 17:30:52</td>\n",
       "      <td>NaN</td>\n",
       "      <td>\\n\\n\\n\\ni\\n\\n\\n\\n\\n            Republican pres...</td>\n",
       "    </tr>\n",
       "    <tr>\n",
       "      <th>2</th>\n",
       "      <td>2016 in SC: Chelsea Clinton visits for first t...</td>\n",
       "      <td>http://www.mcclatchydc.com/news/politics-gover...</td>\n",
       "      <td>mcclatchy</td>\n",
       "      <td>2016-02-02 17:06:12</td>\n",
       "      <td>NaN</td>\n",
       "      <td>South Carolina will have finally 2016 campaign...</td>\n",
       "    </tr>\n",
       "    <tr>\n",
       "      <th>3</th>\n",
       "      <td>22 Hillary Clinton emails declared 'top secret...</td>\n",
       "      <td>http://www.politico.com/story/2016/01/22-hilla...</td>\n",
       "      <td>politico</td>\n",
       "      <td>2016-01-29 20:27:10</td>\n",
       "      <td>NaN</td>\n",
       "      <td>\\n01/29/16 03:46 PM EST\\n\\n                   ...</td>\n",
       "    </tr>\n",
       "    <tr>\n",
       "      <th>4</th>\n",
       "      <td>2 Clintons and plenty of Republicans in motion</td>\n",
       "      <td>http://hosted2.ap.org/APDEFAULT/3d281c11a96b4a...</td>\n",
       "      <td>ap</td>\n",
       "      <td>2016-01-04 21:49:34</td>\n",
       "      <td>NaN</td>\n",
       "      <td>BOONE, Iowa (AP) â The sprint to the Iowa ca...</td>\n",
       "    </tr>\n",
       "  </tbody>\n",
       "</table>\n",
       "</div>"
      ],
      "text/plain": [
       "                                               title  \\\n",
       "0  10 Notable DNC Members From Illinois Announce ...   \n",
       "1  2015 Brought Big Money For Clinton And Bush; S...   \n",
       "2  2016 in SC: Chelsea Clinton visits for first t...   \n",
       "3  22 Hillary Clinton emails declared 'top secret...   \n",
       "4     2 Clintons and plenty of Republicans in motion   \n",
       "\n",
       "                                                 url        org  \\\n",
       "0  http://www.huffingtonpost.com/reboot-illinois/...     huffpo   \n",
       "1  http://www.npr.org/2016/02/01/465095927/2015-b...        npr   \n",
       "2  http://www.mcclatchydc.com/news/politics-gover...  mcclatchy   \n",
       "3  http://www.politico.com/story/2016/01/22-hilla...   politico   \n",
       "4  http://hosted2.ap.org/APDEFAULT/3d281c11a96b4a...         ap   \n",
       "\n",
       "          date_written byline  \\\n",
       "0  2016-01-29 20:29:56    NaN   \n",
       "1  2016-02-01 17:30:52    NaN   \n",
       "2  2016-02-02 17:06:12    NaN   \n",
       "3  2016-01-29 20:27:10    NaN   \n",
       "4  2016-01-04 21:49:34    NaN   \n",
       "\n",
       "                                                body  \n",
       "0  Ten prominent Illinoisans and members of the D...  \n",
       "1  \\n\\n\\n\\ni\\n\\n\\n\\n\\n            Republican pres...  \n",
       "2  South Carolina will have finally 2016 campaign...  \n",
       "3  \\n01/29/16 03:46 PM EST\\n\\n                   ...  \n",
       "4  BOONE, Iowa (AP) â The sprint to the Iowa ca...  "
      ]
     },
     "execution_count": 49,
     "metadata": {},
     "output_type": "execute_result"
    }
   ],
   "source": [
    "clinton_df = pandas.read_csv('data/all_clinton.csv')\n",
    "print len(clinton_df)\n",
    "clinton_df.head()\n"
   ]
  },
  {
   "cell_type": "code",
   "execution_count": 56,
   "metadata": {
    "collapsed": false
   },
   "outputs": [
    {
     "data": {
      "text/plain": [
       "<matplotlib.text.Text at 0x113dbaa90>"
      ]
     },
     "execution_count": 56,
     "metadata": {},
     "output_type": "execute_result"
    },
    {
     "data": {
      "image/png": "[encoded data removed]",
      "text/plain": [
       "<matplotlib.figure.Figure at 0x113a43e90>"
      ]
     },
     "metadata": {},
     "output_type": "display_data"
    }
   ],
   "source": [
    "clinton_df['flesch'] = clinton_df['body'].apply(lambda x: textstat.flesch_kincaid_grade(x) if type(x) == str else None)\n",
    "# Average Flesch-Kincaid grade for AP stories: 9.97941176471\n",
    "clinton_df['flesch'].hist().set_xlabel(\"Flesch Reading Level Clinton\") "
   ]
  },
  {
   "cell_type": "code",
   "execution_count": 51,
   "metadata": {
    "collapsed": false,
    "scrolled": true
   },
   "outputs": [
    {
     "name": "stdout",
     "output_type": "stream",
     "text": [
      "Average Gunning-Fog grade for AP stories: 9.7742935278\n"
     ]
    },
    {
     "data": {
      "text/plain": [
       "<matplotlib.text.Text at 0x113de2d50>"
      ]
     },
     "execution_count": 51,
     "metadata": {},
     "output_type": "execute_result"
    },
    {
     "data": {
      "image/png": "[encoded data removed]",
      "text/plain": [
       "<matplotlib.figure.Figure at 0x1139e2c90>"
      ]
     },
     "metadata": {},
     "output_type": "display_data"
    }
   ],
   "source": [
    "clinton_df['gunning_fog'] = clinton_df['body'].apply(lambda x: textstat.gunning_fog(x) if type(x) == str else None)\n",
    "print \"Average Gunning-Fog grade for AP stories:\", clinton_df['gunning_fog'].mean()\n",
    "# Average Flesch-Kincaid grade for AP stories: 9.85789473684\n",
    "clinton_df['gunning_fog'].hist().set_xlabel(\"Gunning Fog Reading Level\") "
   ]
  },
  {
   "cell_type": "markdown",
   "metadata": {},
   "source": [
    "# Reading level by Org"
   ]
  },
  {
   "cell_type": "code",
   "execution_count": 52,
   "metadata": {
    "collapsed": false
   },
   "outputs": [
    {
     "name": "stdout",
     "output_type": "stream",
     "text": [
      "Average Flesch-Kincaid grade for nyt stories: 8.31041666667\n",
      "Average Flesch-Kincaid grade for wsj stories: 8.48666666667\n",
      "Average Flesch-Kincaid grade for cnn stories: 9.97672413793\n",
      "Average Flesch-Kincaid grade for fox stories: 9.97043478261\n",
      "Average Flesch-Kincaid grade for ap stories: 9.99416666667\n",
      "Average Flesch-Kincaid grade for reuters stories: 10.6911111111\n",
      "Average Flesch-Kincaid grade for politico stories: 9.05913978495\n",
      "Average Flesch-Kincaid grade for mcclatchy stories: 9.17105263158\n",
      "Average Flesch-Kincaid grade for buzzfeed stories: 13.82\n",
      "Average Flesch-Kincaid grade for huffpo stories: 10.1356589147\n",
      "Average Flesch-Kincaid grade for latimes stories: 10.1435483871\n"
     ]
    }
   ],
   "source": [
    "orgs = ['nyt', 'wsj', 'cnn', 'fox', 'ap', 'reuters', 'politico', 'mcclatchy', 'buzzfeed', 'huffpo','latimes']\n",
    "for o in orgs:\n",
    "    clinton_df['flesch_' + o] = clinton_df[clinton_df['org'] == o]['body'].apply(lambda x: textstat.flesch_kincaid_grade(x) if type(x) == str else None)\n",
    "    print \"Average Flesch-Kincaid grade for \" + o + \" stories:\", clinton_df['flesch_' + o].mean()\n",
    "    # Average Flesch-Kincaid grade for AP stories: 9.97941176471\n",
    "    "
   ]
  },
  {
   "cell_type": "code",
   "execution_count": 53,
   "metadata": {
    "collapsed": false
   },
   "outputs": [
    {
     "data": {
      "text/plain": [
       "<matplotlib.text.Text at 0x113c1d190>"
      ]
     },
     "execution_count": 53,
     "metadata": {},
     "output_type": "execute_result"
    },
    {
     "data": {
      "image/png": "[encoded data removed]",
      "text/plain": [
       "<matplotlib.figure.Figure at 0x113bda1d0>"
      ]
     },
     "metadata": {},
     "output_type": "display_data"
    }
   ],
   "source": [
    "o = 'nyt'\n",
    "clinton_df['flesch_'+ o].hist().set_xlabel(\"Flesch Reading Level Clinton NYT\") "
   ]
  },
  {
   "cell_type": "code",
   "execution_count": 54,
   "metadata": {
    "collapsed": false
   },
   "outputs": [
    {
     "name": "stdout",
     "output_type": "stream",
     "text": [
      "Average Gunning Fog grade for nyt stories: 8.45416666667\n",
      "Average Gunning Fog grade for wsj stories: 8.256\n",
      "Average Gunning Fog grade for cnn stories: 9.95862068966\n",
      "Average Gunning Fog grade for fox stories: 9.43304347826\n",
      "Average Gunning Fog grade for ap stories: 9.67333333333\n",
      "Average Gunning Fog grade for reuters stories: 10.0977777778\n",
      "Average Gunning Fog grade for politico stories: 10.8616487455\n",
      "Average Gunning Fog grade for mcclatchy stories: 8.97894736842\n",
      "Average Gunning Fog grade for buzzfeed stories: 12.8\n",
      "Average Gunning Fog grade for huffpo stories: 9.63720930233\n",
      "Average Gunning Fog grade for latimes stories: 9.63225806452\n"
     ]
    }
   ],
   "source": [
    "for o in orgs:\n",
    "    clinton_df['gunning_' + o] = clinton_df[clinton_df['org'] == o]['body'].apply(lambda x: textstat.gunning_fog(x) if type(x) == str else None)\n",
    "    print \"Average Gunning Fog grade for \" + o + \" stories:\", clinton_df['gunning_' + o].mean()\n",
    "    # Average Flesch-Kincaid grade for AP stories: 9.97941176471\n",
    "    "
   ]
  },
  {
   "cell_type": "code",
   "execution_count": 55,
   "metadata": {
    "collapsed": false
   },
   "outputs": [
    {
     "name": "stdout",
     "output_type": "stream",
     "text": [
      "Average F-K Reading Ease for nyt stories: 64.2652083333\n",
      "Average F-K Reading Ease for wsj stories: 62.1454666667\n",
      "Average F-K Reading Ease for cnn stories: 59.0134482759\n",
      "Average F-K Reading Ease for fox stories: 56.662173913\n",
      "Average F-K Reading Ease for ap stories: 57.5051666667\n",
      "Average F-K Reading Ease for reuters stories: 54.5011111111\n",
      "Average F-K Reading Ease for politico stories: 69.5800716846\n",
      "Average F-K Reading Ease for mcclatchy stories: 60.4468421053\n",
      "Average F-K Reading Ease for buzzfeed stories: 44.074\n",
      "Average F-K Reading Ease for huffpo stories: 56.4266666667\n",
      "Average F-K Reading Ease for latimes stories: 56.3401612903\n"
     ]
    }
   ],
   "source": [
    "for o in orgs:\n",
    "    clinton_df['ease_' + o] = clinton_df[clinton_df['org'] == o]['body'].apply(lambda x: textstat.flesch_reading_ease(x) if type(x) == str else None)\n",
    "    print \"Average F-K Reading Ease for \" + o + \" stories:\", clinton_df['ease_' + o].mean()\n",
    " \n",
    "    "
   ]
  },
  {
   "cell_type": "code",
   "execution_count": null,
   "metadata": {
    "collapsed": true
   },
   "outputs": [],
   "source": []
  }
 ],
 "metadata": {
  "kernelspec": {
   "display_name": "Python 2",
   "language": "python",
   "name": "python2"
  },
  "language_info": {
   "codemirror_mode": {
    "name": "ipython",
    "version": 2
   },
   "file_extension": ".py",
   "mimetype": "text/x-python",
   "name": "python",
   "nbconvert_exporter": "python",
   "pygments_lexer": "ipython2",
   "version": "2.7.10"
  }
 },
 "nbformat": 4,
 "nbformat_minor": 0
}
