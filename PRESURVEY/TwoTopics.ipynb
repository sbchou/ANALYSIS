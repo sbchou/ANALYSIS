{
 "cells": [
  {
   "cell_type": "markdown",
   "metadata": {},
   "source": [
    "## Import Single-Candidate Story CSVs\n",
    "For the purpose of inter-topic comparison,\n",
    "and trying to prove that people write about different \n",
    "candidates differently it is best to have single-candidate stories"
   ]
  },
  {
   "cell_type": "code",
   "execution_count": 2,
   "metadata": {
    "collapsed": true
   },
   "outputs": [],
   "source": [
    "from textstat.textstat import textstat\n",
    "import csv\n",
    "import pandas\n",
    "import matplotlib\n",
    "#matplotlib.style.use('ggplot')\n",
    "%matplotlib inline\n",
    "import ast\n",
    "pandas.options.display.max_colwidth = 100000"
   ]
  },
  {
   "cell_type": "code",
   "execution_count": 238,
   "metadata": {
    "collapsed": false
   },
   "outputs": [],
   "source": [
    "all_df = pandas.read_csv('data/all_candidates_nop.csv') \n",
    "TOPICS = ['Immigration', 'Campaign Finance', 'Foreign Policy/National Security',\n",
    "         'Abortion']\n",
    "all_df = all_df[(all_df['top_topic'].isin(TOPICS))]\n",
    "deduped_title = all_df.drop_duplicates('title') "
   ]
  },
  {
   "cell_type": "markdown",
   "metadata": {},
   "source": []
  },
  {
   "cell_type": "markdown",
   "metadata": {},
   "source": [
    "# SOME CLEANING [UNRELATED]"
   ]
  },
  {
   "cell_type": "code",
   "execution_count": 158,
   "metadata": {
    "collapsed": false
   },
   "outputs": [],
   "source": [
    "all_df['topic_dict'] = all_df['topic_dict'].apply(lambda d: ast.literal_eval(d)) "
   ]
  },
  {
   "cell_type": "code",
   "execution_count": 183,
   "metadata": {
    "collapsed": false
   },
   "outputs": [],
   "source": [
    "import heapq\n",
    "#heapq.nlargest(k, dictionary, key=dictionary.__getitem__)\n",
    "#delete personality\n",
    "#all_df['top_topics'] = all_df['topic_dict'].apply(lambda d: {k:v for k, v in d.iteritems() if v > 0.1})\n",
    "\n",
    "all_df['topic_dict'] = all_df['topic_dict'].apply(lambda d: {k:v for k, v in d.iteritems() if k != 'Personality' and v > 0.2} )\n",
    "#all_df['topic_dict'].apply(lambda d: heapq.nlargest(3, d, key=lambda i: d[i]))"
   ]
  },
  {
   "cell_type": "code",
   "execution_count": 213,
   "metadata": {
    "collapsed": false
   },
   "outputs": [],
   "source": [
    "all_df['topic1'] = all_df['topic_dict'].apply(lambda d: heapq.nlargest(2, d, key=lambda i: d[i])[0] if d else 0)"
   ]
  },
  {
   "cell_type": "code",
   "execution_count": 215,
   "metadata": {
    "collapsed": false
   },
   "outputs": [],
   "source": [
    "all_df['topic2'] = all_df['topic_dict'].apply(lambda d: heapq.nlargest(2, d, key=lambda i: d[i])[1] if len(d) > 1 else None)"
   ]
  },
  {
   "cell_type": "code",
   "execution_count": 220,
   "metadata": {
    "collapsed": false
   },
   "outputs": [
    {
     "data": {
      "text/plain": [
       "Index([u'Unnamed: 0', u'title', u'url', u'org', u'date_written', u'byline',\n",
       "       u'body', u'topic', u'candidate', u'gunning_fog', u'flesch',\n",
       "       u'readability', u'topic_dict', u'top_topics', u'topic_list',\n",
       "       u'top_topic', u'top2_topics', u'topic1', u'topic2'],\n",
       "      dtype='object')"
      ]
     },
     "execution_count": 220,
     "metadata": {},
     "output_type": "execute_result"
    }
   ],
   "source": [
    "all_df.columns\n"
   ]
  },
  {
   "cell_type": "code",
   "execution_count": 221,
   "metadata": {
    "collapsed": false
   },
   "outputs": [],
   "source": [
    "all_df.to_csv('data/all_candidates_nop_two_topics.csv')"
   ]
  },
  {
   "cell_type": "code",
   "execution_count": 223,
   "metadata": {
    "collapsed": false
   },
   "outputs": [],
   "source": [
    " all_df.to_csv('data/all_candidates_nop_two_topics_select_fields.csv', columns=['title','org','topic1', 'topic2', 'flesch'])"
   ]
  },
  {
   "cell_type": "code",
   "execution_count": null,
   "metadata": {
    "collapsed": true
   },
   "outputs": [],
   "source": []
  }
 ],
 "metadata": {
  "kernelspec": {
   "display_name": "Python 2",
   "language": "python",
   "name": "python2"
  },
  "language_info": {
   "codemirror_mode": {
    "name": "ipython",
    "version": 2
   },
   "file_extension": ".py",
   "mimetype": "text/x-python",
   "name": "python",
   "nbconvert_exporter": "python",
   "pygments_lexer": "ipython2",
   "version": "2.7.10"
  }
 },
 "nbformat": 4,
 "nbformat_minor": 0
}
