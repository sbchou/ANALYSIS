{
 "cells": [
  {
   "cell_type": "code",
   "execution_count": 36,
   "metadata": {
    "collapsed": true
   },
   "outputs": [],
   "source": [
    "from textstat.textstat import textstat\n",
    "import csv\n",
    "import pandas\n",
    "import matplotlib\n",
    "#matplotlib.style.use('ggplot')\n",
    "%matplotlib inline\n",
    "import ast\n",
    "pandas.options.display.max_colwidth = 100000"
   ]
  },
  {
   "cell_type": "code",
   "execution_count": 37,
   "metadata": {
    "collapsed": true
   },
   "outputs": [],
   "source": [
    "GROUP_A = pandas.read_csv('../SURVEY/DATA/GROUP_A.csv')\n",
    "GROUP_B = pandas.read_csv('../SURVEY/DATA/GROUP_B.csv')\n",
    "GOLD_A = pandas.read_csv('../SURVEY/DATA/GOLD_A.csv')\n",
    "GOLD_B = pandas.read_csv('../SURVEY/DATA/GOLD_B.csv')"
   ]
  },
  {
   "cell_type": "code",
   "execution_count": 38,
   "metadata": {
    "collapsed": false
   },
   "outputs": [],
   "source": [
    "GROUP_A['gold_title'] = GOLD_A['title']\n",
    "GROUP_A['gold_url'] = GOLD_A['url']\n",
    "GROUP_A['gold_candidate'] = GOLD_A['candidate']\n",
    "GROUP_A['gold_org'] = GOLD_A['org']\n",
    "GROUP_A['gold_body'] = GOLD_A['body']"
   ]
  },
  {
   "cell_type": "code",
   "execution_count": 39,
   "metadata": {
    "collapsed": false
   },
   "outputs": [],
   "source": [
    "GROUP_B['gold_title'] = GOLD_B['title']\n",
    "GROUP_B['gold_url'] = GOLD_B['url']\n",
    "GROUP_B['gold_candidate'] = GOLD_B['candidate']\n",
    "GROUP_B['gold_org'] = GOLD_B['org']\n",
    "GROUP_B['gold_body'] = GOLD_B['body']"
   ]
  },
  {
   "cell_type": "code",
   "execution_count": 40,
   "metadata": {
    "collapsed": true
   },
   "outputs": [],
   "source": [
    "GROUP_A.to_csv('../SURVEY/DATA/GROUP_A_w_GOLD.csv')\n",
    "GROUP_B.to_csv('../SURVEY/DATA/GROUP_B_w_GOLD.csv')"
   ]
  },
  {
   "cell_type": "code",
   "execution_count": null,
   "metadata": {
    "collapsed": false
   },
   "outputs": [],
   "source": []
  },
  {
   "cell_type": "code",
   "execution_count": null,
   "metadata": {
    "collapsed": true
   },
   "outputs": [],
   "source": []
  }
 ],
 "metadata": {
  "kernelspec": {
   "display_name": "Python 2",
   "language": "python",
   "name": "python2"
  },
  "language_info": {
   "codemirror_mode": {
    "name": "ipython",
    "version": 2
   },
   "file_extension": ".py",
   "mimetype": "text/x-python",
   "name": "python",
   "nbconvert_exporter": "python",
   "pygments_lexer": "ipython2",
   "version": "2.7.10"
  }
 },
 "nbformat": 4,
 "nbformat_minor": 0
}
