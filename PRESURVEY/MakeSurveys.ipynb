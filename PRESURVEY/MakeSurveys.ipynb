{
 "cells": [
  {
   "cell_type": "code",
   "execution_count": 1,
   "metadata": {
    "collapsed": true
   },
   "outputs": [],
   "source": [
    "from textstat.textstat import textstat\n",
    "import csv\n",
    "import pandas\n",
    "import matplotlib\n",
    "#matplotlib.style.use('ggplot')\n",
    "%matplotlib inline\n",
    "import ast\n",
    "pandas.options.display.max_colwidth = 100000"
   ]
  },
  {
   "cell_type": "code",
   "execution_count": 2,
   "metadata": {
    "collapsed": true
   },
   "outputs": [],
   "source": [
    "def flatten(l):\n",
    "    return [item for sublist in l for item in sublist]"
   ]
  },
  {
   "cell_type": "markdown",
   "metadata": {},
   "source": [
    "## survey size = 5 stories + 1 Gold\n",
    "## 120 stories total = 24 surveys (24 rows)\n",
    "## x 2 = 48 rows"
   ]
  },
  {
   "cell_type": "code",
   "execution_count": 3,
   "metadata": {
    "collapsed": true
   },
   "outputs": [],
   "source": [
    "GROUP_A = pandas.read_csv('data/FOR_SURVEY/all_cleaned_new_flesch.csv')\n",
    "GROUP_B = pandas.read_csv('data/FOR_SURVEY/all_redacted_new_flesch.csv')"
   ]
  },
  {
   "cell_type": "code",
   "execution_count": 4,
   "metadata": {
    "collapsed": false
   },
   "outputs": [
    {
     "data": {
      "text/plain": [
       "120"
      ]
     },
     "execution_count": 4,
     "metadata": {},
     "output_type": "execute_result"
    }
   ],
   "source": [
    "len(GROUP_A)\n",
    "len(GROUP_B)"
   ]
  },
  {
   "cell_type": "code",
   "execution_count": 5,
   "metadata": {
    "collapsed": true
   },
   "outputs": [],
   "source": [
    "org_to_pretty = {'cnn':'CNN', 'fox':'Fox News', 'nyt':'The New York Times','wsj':'The Wall Street Journal', 'ap': 'the Associated Press'}\n",
    "candidate_to_pretty = {'trump':'Donald Trump', 'clinton':'Hillary Clinton', 'sanders':'Bernie Sanders','cruz':'Ted Cruz'}\n",
    "\n",
    "GROUP_A['pretty_org'] = GROUP_A['org'].apply(lambda row: org_to_pretty[row])\n",
    "GROUP_B['pretty_org'] = GROUP_B['org'].apply(lambda row: org_to_pretty[row])\n",
    "\n",
    "GROUP_A['pretty_name'] = GROUP_A['candidate'].apply(lambda row: candidate_to_pretty[row])\n",
    "GROUP_B['pretty_name'] = GROUP_B['candidate'].apply(lambda row: candidate_to_pretty[row])"
   ]
  },
  {
   "cell_type": "markdown",
   "metadata": {
    "collapsed": false
   },
   "source": [
    " ## Sample Group A: No redaction."
   ]
  },
  {
   "cell_type": "code",
   "execution_count": 6,
   "metadata": {
    "collapsed": false
   },
   "outputs": [],
   "source": [
    "test = GROUP_A.copy()\n",
    "len(test)\n",
    "samples = []\n",
    "for i in xrange(24):\n",
    "    t = test.sample(5)\n",
    "    samples.append(t)\n",
    "    test = test.drop(t.index)"
   ]
  },
  {
   "cell_type": "code",
   "execution_count": 7,
   "metadata": {
    "collapsed": false
   },
   "outputs": [
    {
     "name": "stdout",
     "output_type": "stream",
     "text": [
      "\n",
      "sanders    2\n",
      "clinton    2\n",
      "trump      1\n",
      "\n",
      "Immigration         3\n",
      "Campaign Finance    2\n",
      "\n"
     ]
    },
    {
     "data": {
      "image/png": "[encoded data removed]",
      "text/plain": [
       "<matplotlib.figure.Figure at 0x113793750>"
      ]
     },
     "metadata": {},
     "output_type": "display_data"
    },
    {
     "name": "stdout",
     "output_type": "stream",
     "text": [
      "\n",
      "##################################################\n",
      "\n",
      "sanders    2\n",
      "trump      2\n",
      "clinton    1\n",
      "\n",
      "Campaign Finance    5\n",
      "\n"
     ]
    },
    {
     "data": {
      "image/png": "[encoded data removed]",
      "text/plain": [
       "<matplotlib.figure.Figure at 0x113b3bc90>"
      ]
     },
     "metadata": {},
     "output_type": "display_data"
    },
    {
     "name": "stdout",
     "output_type": "stream",
     "text": [
      "\n",
      "##################################################\n",
      "\n",
      "cruz       2\n",
      "trump      2\n",
      "sanders    1\n",
      "\n",
      "Campaign Finance    3\n",
      "Immigration         2\n",
      "\n"
     ]
    },
    {
     "data": {
      "image/png": "[encoded data removed]",
      "text/plain": [
       "<matplotlib.figure.Figure at 0x1140111d0>"
      ]
     },
     "metadata": {},
     "output_type": "display_data"
    },
    {
     "name": "stdout",
     "output_type": "stream",
     "text": [
      "\n",
      "##################################################\n",
      "\n",
      "clinton    4\n",
      "trump      1\n",
      "\n",
      "Foreign Policy/National Security    3\n",
      "Abortion                            1\n",
      "Campaign Finance                    1\n",
      "\n"
     ]
    },
    {
     "data": {
      "image/png": "[encoded data removed]",
      "text/plain": [
       "<matplotlib.figure.Figure at 0x114186690>"
      ]
     },
     "metadata": {},
     "output_type": "display_data"
    },
    {
     "name": "stdout",
     "output_type": "stream",
     "text": [
      "\n",
      "##################################################\n",
      "\n",
      "trump      2\n",
      "clinton    1\n",
      "cruz       1\n",
      "sanders    1\n",
      "\n",
      "Campaign Finance                    2\n",
      "Immigration                         1\n",
      "Abortion                            1\n",
      "Foreign Policy/National Security    1\n",
      "\n"
     ]
    },
    {
     "data": {
      "image/png": "[encoded data removed]",
      "text/plain": [
       "<matplotlib.figure.Figure at 0x114159710>"
      ]
     },
     "metadata": {},
     "output_type": "display_data"
    },
    {
     "name": "stdout",
     "output_type": "stream",
     "text": [
      "\n",
      "##################################################\n",
      "\n",
      "sanders    3\n",
      "cruz       1\n",
      "clinton    1\n",
      "\n",
      "Campaign Finance                    3\n",
      "Foreign Policy/National Security    1\n",
      "Immigration                         1\n",
      "\n"
     ]
    },
    {
     "data": {
      "image/png": "[encoded data removed]",
      "text/plain": [
       "<matplotlib.figure.Figure at 0x111120c90>"
      ]
     },
     "metadata": {},
     "output_type": "display_data"
    },
    {
     "name": "stdout",
     "output_type": "stream",
     "text": [
      "\n",
      "##################################################\n",
      "\n",
      "cruz     4\n",
      "trump    1\n",
      "\n",
      "Immigration         3\n",
      "Campaign Finance    2\n",
      "\n"
     ]
    },
    {
     "data": {
      "image/png": "[encoded data removed]",
      "text/plain": [
       "<matplotlib.figure.Figure at 0x113b03110>"
      ]
     },
     "metadata": {},
     "output_type": "display_data"
    },
    {
     "name": "stdout",
     "output_type": "stream",
     "text": [
      "\n",
      "##################################################\n",
      "\n",
      "cruz       3\n",
      "trump      1\n",
      "sanders    1\n",
      "\n",
      "Abortion                            2\n",
      "Immigration                         1\n",
      "Foreign Policy/National Security    1\n",
      "Campaign Finance                    1\n",
      "\n"
     ]
    },
    {
     "data": {
      "image/png": "[encoded data removed]",
      "text/plain": [
       "<matplotlib.figure.Figure at 0x1142b7290>"
      ]
     },
     "metadata": {},
     "output_type": "display_data"
    },
    {
     "name": "stdout",
     "output_type": "stream",
     "text": [
      "\n",
      "##################################################\n",
      "\n",
      "cruz       3\n",
      "sanders    1\n",
      "clinton    1\n",
      "\n",
      "Campaign Finance                    3\n",
      "Foreign Policy/National Security    1\n",
      "Immigration                         1\n",
      "\n"
     ]
    },
    {
     "data": {
      "image/png": "[encoded data removed]",
      "text/plain": [
       "<matplotlib.figure.Figure at 0x1144056d0>"
      ]
     },
     "metadata": {},
     "output_type": "display_data"
    },
    {
     "name": "stdout",
     "output_type": "stream",
     "text": [
      "\n",
      "##################################################\n",
      "\n",
      "cruz       2\n",
      "clinton    2\n",
      "trump      1\n",
      "\n",
      "Campaign Finance    2\n",
      "Immigration         2\n",
      "Abortion            1\n",
      "\n"
     ]
    },
    {
     "data": {
      "image/png": "[encoded data removed]",
      "text/plain": [
       "<matplotlib.figure.Figure at 0x11455e450>"
      ]
     },
     "metadata": {},
     "output_type": "display_data"
    },
    {
     "name": "stdout",
     "output_type": "stream",
     "text": [
      "\n",
      "##################################################\n",
      "\n",
      "cruz       3\n",
      "trump      1\n",
      "clinton    1\n",
      "\n",
      "Campaign Finance                    3\n",
      "Foreign Policy/National Security    2\n",
      "\n"
     ]
    },
    {
     "data": {
      "image/png": "[encoded data removed]",
      "text/plain": [
       "<matplotlib.figure.Figure at 0x114612250>"
      ]
     },
     "metadata": {},
     "output_type": "display_data"
    },
    {
     "name": "stdout",
     "output_type": "stream",
     "text": [
      "\n",
      "##################################################\n",
      "\n",
      "clinton    4\n",
      "trump      1\n",
      "\n",
      "Campaign Finance    4\n",
      "Abortion            1\n",
      "\n"
     ]
    },
    {
     "data": {
      "image/png": "[encoded data removed]",
      "text/plain": [
       "<matplotlib.figure.Figure at 0x1146e6e50>"
      ]
     },
     "metadata": {},
     "output_type": "display_data"
    },
    {
     "name": "stdout",
     "output_type": "stream",
     "text": [
      "\n",
      "##################################################\n",
      "\n",
      "sanders    3\n",
      "trump      1\n",
      "clinton    1\n",
      "\n",
      "Foreign Policy/National Security    2\n",
      "Campaign Finance                    2\n",
      "Immigration                         1\n",
      "\n"
     ]
    },
    {
     "data": {
      "image/png": "[encoded data removed]",
      "text/plain": [
       "<matplotlib.figure.Figure at 0x114922510>"
      ]
     },
     "metadata": {},
     "output_type": "display_data"
    },
    {
     "name": "stdout",
     "output_type": "stream",
     "text": [
      "\n",
      "##################################################\n",
      "\n",
      "sanders    2\n",
      "trump      2\n",
      "cruz       1\n",
      "\n",
      "Campaign Finance                    3\n",
      "Foreign Policy/National Security    1\n",
      "Immigration                         1\n",
      "\n"
     ]
    },
    {
     "data": {
      "image/png": "[encoded data removed]",
      "text/plain": [
       "<matplotlib.figure.Figure at 0x114a79110>"
      ]
     },
     "metadata": {},
     "output_type": "display_data"
    },
    {
     "name": "stdout",
     "output_type": "stream",
     "text": [
      "\n",
      "##################################################\n",
      "\n",
      "cruz     4\n",
      "trump    1\n",
      "\n",
      "Foreign Policy/National Security    2\n",
      "Immigration                         1\n",
      "Abortion                            1\n",
      "Campaign Finance                    1\n",
      "\n"
     ]
    },
    {
     "data": {
      "image/png": "[encoded data removed]",
      "text/plain": [
       "<matplotlib.figure.Figure at 0x114bc69d0>"
      ]
     },
     "metadata": {},
     "output_type": "display_data"
    },
    {
     "name": "stdout",
     "output_type": "stream",
     "text": [
      "\n",
      "##################################################\n",
      "\n",
      "cruz       2\n",
      "trump      2\n",
      "sanders    1\n",
      "\n",
      "Foreign Policy/National Security    3\n",
      "Immigration                         2\n",
      "\n"
     ]
    },
    {
     "data": {
      "image/png": "[encoded data removed]",
      "text/plain": [
       "<matplotlib.figure.Figure at 0x114bfd910>"
      ]
     },
     "metadata": {},
     "output_type": "display_data"
    },
    {
     "name": "stdout",
     "output_type": "stream",
     "text": [
      "\n",
      "##################################################\n",
      "\n",
      "trump      3\n",
      "sanders    1\n",
      "clinton    1\n",
      "\n",
      "Campaign Finance                    3\n",
      "Foreign Policy/National Security    1\n",
      "Immigration                         1\n",
      "\n"
     ]
    },
    {
     "data": {
      "image/png": "[encoded data removed]",
      "text/plain": [
       "<matplotlib.figure.Figure at 0x1148f0ad0>"
      ]
     },
     "metadata": {},
     "output_type": "display_data"
    },
    {
     "name": "stdout",
     "output_type": "stream",
     "text": [
      "\n",
      "##################################################\n",
      "\n",
      "cruz       2\n",
      "trump      1\n",
      "clinton    1\n",
      "sanders    1\n",
      "\n",
      "Campaign Finance    3\n",
      "Immigration         2\n",
      "\n"
     ]
    },
    {
     "data": {
      "image/png": "[encoded data removed]",
      "text/plain": [
       "<matplotlib.figure.Figure at 0x1144056d0>"
      ]
     },
     "metadata": {},
     "output_type": "display_data"
    },
    {
     "name": "stdout",
     "output_type": "stream",
     "text": [
      "\n",
      "##################################################\n",
      "\n",
      "trump      2\n",
      "clinton    2\n",
      "sanders    1\n",
      "\n",
      "Campaign Finance    3\n",
      "Immigration         2\n",
      "\n"
     ]
    },
    {
     "data": {
      "image/png": "[encoded data removed]",
      "text/plain": [
       "<matplotlib.figure.Figure at 0x11493e990>"
      ]
     },
     "metadata": {},
     "output_type": "display_data"
    },
    {
     "name": "stdout",
     "output_type": "stream",
     "text": [
      "\n",
      "##################################################\n",
      "\n",
      "sanders    2\n",
      "clinton    2\n",
      "cruz       1\n",
      "\n",
      "Immigration         3\n",
      "Campaign Finance    2\n",
      "\n"
     ]
    },
    {
     "data": {
      "image/png": "[encoded data removed]",
      "text/plain": [
       "<matplotlib.figure.Figure at 0x1148fb750>"
      ]
     },
     "metadata": {},
     "output_type": "display_data"
    },
    {
     "name": "stdout",
     "output_type": "stream",
     "text": [
      "\n",
      "##################################################\n",
      "\n",
      "sanders    2\n",
      "trump      2\n",
      "clinton    1\n",
      "\n",
      "Campaign Finance    2\n",
      "Abortion            2\n",
      "Immigration         1\n",
      "\n"
     ]
    },
    {
     "data": {
      "image/png": "[encoded data removed]",
      "text/plain": [
       "<matplotlib.figure.Figure at 0x1147e6490>"
      ]
     },
     "metadata": {},
     "output_type": "display_data"
    },
    {
     "name": "stdout",
     "output_type": "stream",
     "text": [
      "\n",
      "##################################################\n",
      "\n",
      "sanders    2\n",
      "clinton    2\n",
      "trump      1\n",
      "\n",
      "Campaign Finance                    2\n",
      "Immigration                         1\n",
      "Abortion                            1\n",
      "Foreign Policy/National Security    1\n",
      "\n"
     ]
    },
    {
     "data": {
      "image/png": "[encoded data removed]",
      "text/plain": [
       "<matplotlib.figure.Figure at 0x113c89250>"
      ]
     },
     "metadata": {},
     "output_type": "display_data"
    },
    {
     "name": "stdout",
     "output_type": "stream",
     "text": [
      "\n",
      "##################################################\n",
      "\n",
      "sanders    3\n",
      "trump      1\n",
      "clinton    1\n",
      "\n",
      "Campaign Finance                    4\n",
      "Foreign Policy/National Security    1\n",
      "\n"
     ]
    },
    {
     "data": {
      "image/png": "[encoded data removed]",
      "text/plain": [
       "<matplotlib.figure.Figure at 0x1140e8e10>"
      ]
     },
     "metadata": {},
     "output_type": "display_data"
    },
    {
     "name": "stdout",
     "output_type": "stream",
     "text": [
      "\n",
      "##################################################\n",
      "\n",
      "clinton    2\n",
      "trump      1\n",
      "cruz       1\n",
      "sanders    1\n",
      "\n",
      "Foreign Policy/National Security    3\n",
      "Immigration                         2\n",
      "\n"
     ]
    },
    {
     "data": {
      "image/png": "[encoded data removed]",
      "text/plain": [
       "<matplotlib.figure.Figure at 0x114887350>"
      ]
     },
     "metadata": {},
     "output_type": "display_data"
    },
    {
     "name": "stdout",
     "output_type": "stream",
     "text": [
      "\n",
      "##################################################\n"
     ]
    }
   ],
   "source": [
    "for s in samples:\n",
    "    print \n",
    "    print s.candidate.value_counts().to_string()\n",
    "    print\n",
    "    print s.top_topic.value_counts().to_string()\n",
    "    print \n",
    "    s.flesch_new.hist()\n",
    "    matplotlib.pyplot.show()\n",
    "    print\n",
    "    print '#' * 50 "
   ]
  },
  {
   "cell_type": "markdown",
   "metadata": {},
   "source": [
    "## Save little dataframes"
   ]
  },
  {
   "cell_type": "code",
   "execution_count": 8,
   "metadata": {
    "collapsed": false
   },
   "outputs": [],
   "source": [
    "for i in xrange(len(samples)):\n",
    "    samples[i].to_csv('../SURVEY/DATA/GROUP_A/sample' + str(i) + '.csv') "
   ]
  },
  {
   "cell_type": "markdown",
   "metadata": {},
   "source": [
    "## Save as one big CSV for group A"
   ]
  },
  {
   "cell_type": "code",
   "execution_count": 9,
   "metadata": {
    "collapsed": false
   },
   "outputs": [],
   "source": [
    "import csv \n",
    "with open('../SURVEY/DATA/GROUP_A.csv', \"wb\") as f:\n",
    "    c = csv.writer(f) \n",
    "    c.writerow(['index_1','title_1','url_1','candidate_1','org_1','top_topic_1','body_1','gunning_fog_1','flesch_1','readability_1',\n",
    "                'index_2','title_2','url_2','candidate_2','org_2','top_topic_2','body_2','gunning_fog_2','flesch_2','readability_2',\n",
    "                'index_3','title_3','url_3','candidate_3','org_3','top_topic_3','body_3','gunning_fog_3','flesch_3','readability_3',\n",
    "                'index_4','title_4','url_4','candidate_4','org_4','top_topic_4','body_4','gunning_fog_4','flesch_4','readability_4',\n",
    "                'index_5','title_5','url_5','candidate_5','org_5','top_topic_5','body_5','gunning_fog_5','flesch_5','readability_5'])\n",
    "    for sample in samples:\n",
    "        x = [list(row[1][['Unnamed: 0','title', u'url', u'candidate', u'pretty_org',\\\n",
    "       u'top_topic', u'body', u'gunning_fog_new',\\\n",
    "       u'flesch_new', u'readability']]) for row in sample.iterrows()]\n",
    "        #for row in t.iterrows():\n",
    "        #c.writerow([])\n",
    "        c.writerow(flatten(x))\n",
    "        \n"
   ]
  },
  {
   "cell_type": "code",
   "execution_count": null,
   "metadata": {
    "collapsed": false
   },
   "outputs": [],
   "source": [
    " "
   ]
  },
  {
   "cell_type": "code",
   "execution_count": null,
   "metadata": {
    "collapsed": false
   },
   "outputs": [],
   "source": []
  },
  {
   "cell_type": "markdown",
   "metadata": {
    "collapsed": false
   },
   "source": [
    " # Construct GROUP B big CSV using GROUP A"
   ]
  },
  {
   "cell_type": "code",
   "execution_count": 10,
   "metadata": {
    "collapsed": false
   },
   "outputs": [
    {
     "data": {
      "text/plain": [
       "24"
      ]
     },
     "execution_count": 10,
     "metadata": {},
     "output_type": "execute_result"
    }
   ],
   "source": [
    "new_samples = []\n",
    "for s in samples:\n",
    "    new_samples.append(GROUP_B[GROUP_B['Unnamed: 0'].isin(list(s['Unnamed: 0']))])\n",
    "len(new_samples) "
   ]
  },
  {
   "cell_type": "markdown",
   "metadata": {},
   "source": [
    "## Save little dataframes"
   ]
  },
  {
   "cell_type": "code",
   "execution_count": 11,
   "metadata": {
    "collapsed": false
   },
   "outputs": [],
   "source": [
    "for i in xrange(len(new_samples)):\n",
    "    new_samples[i].to_csv('../SURVEY/DATA/GROUP_B/sample' + str(i) + '.csv')"
   ]
  },
  {
   "cell_type": "markdown",
   "metadata": {},
   "source": [
    "## Save as one big CSV for group B"
   ]
  },
  {
   "cell_type": "code",
   "execution_count": 12,
   "metadata": {
    "collapsed": false
   },
   "outputs": [],
   "source": [
    "import csv \n",
    "with open('../SURVEY/DATA/GROUP_B.csv', \"wb\") as f:\n",
    "    c = csv.writer(f) \n",
    "    c.writerow(['index_1','title_1','url_1','candidate_1','org_1','top_topic_1','body_1','gunning_fog_1','flesch_1','readability_1',\n",
    "                'index_2','title_2','url_2','candidate_2','org_2','top_topic_2','body_2','gunning_fog_2','flesch_2','readability_2',\n",
    "                'index_3','title_3','url_3','candidate_3','org_3','top_topic_3','body_3','gunning_fog_3','flesch_3','readability_3',\n",
    "                'index_4','title_4','url_4','candidate_4','org_4','top_topic_4','body_4','gunning_fog_4','flesch_4','readability_4',\n",
    "                'index_5','title_5','url_5','candidate_5','org_5','top_topic_5','body_5','gunning_fog_5','flesch_5','readability_5'])\n",
    "    for sample in new_samples:\n",
    "        x = [list(row[1][['Unnamed: 0','title', u'url', u'candidate', u'pretty_org',\\\n",
    "       u'top_topic', u'body', u'gunning_fog_new',\\\n",
    "       u'flesch_new', u'readability']]) for row in sample.iterrows()]\n",
    "        #for row in t.iterrows():\n",
    "        #c.writerow([])\n",
    "        c.writerow(flatten(x)) "
   ]
  },
  {
   "cell_type": "markdown",
   "metadata": {},
   "source": [
    " "
   ]
  },
  {
   "cell_type": "code",
   "execution_count": null,
   "metadata": {
    "collapsed": false
   },
   "outputs": [],
   "source": []
  },
  {
   "cell_type": "code",
   "execution_count": null,
   "metadata": {
    "collapsed": false
   },
   "outputs": [],
   "source": []
  },
  {
   "cell_type": "code",
   "execution_count": null,
   "metadata": {
    "collapsed": false
   },
   "outputs": [],
   "source": []
  },
  {
   "cell_type": "raw",
   "metadata": {
    "collapsed": false
   },
   "source": [
    "\n"
   ]
  },
  {
   "cell_type": "code",
   "execution_count": null,
   "metadata": {
    "collapsed": false
   },
   "outputs": [],
   "source": []
  },
  {
   "cell_type": "code",
   "execution_count": null,
   "metadata": {
    "collapsed": false
   },
   "outputs": [],
   "source": []
  },
  {
   "cell_type": "code",
   "execution_count": null,
   "metadata": {
    "collapsed": true
   },
   "outputs": [],
   "source": []
  }
 ],
 "metadata": {
  "kernelspec": {
   "display_name": "Python 2",
   "language": "python",
   "name": "python2"
  },
  "language_info": {
   "codemirror_mode": {
    "name": "ipython",
    "version": 2
   },
   "file_extension": ".py",
   "mimetype": "text/x-python",
   "name": "python",
   "nbconvert_exporter": "python",
   "pygments_lexer": "ipython2",
   "version": "2.7.10"
  }
 },
 "nbformat": 4,
 "nbformat_minor": 0
}
