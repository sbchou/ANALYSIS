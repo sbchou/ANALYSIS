{
 "cells": [
  {
   "cell_type": "code",
   "execution_count": 2,
   "metadata": {
    "collapsed": true
   },
   "outputs": [],
   "source": [
    "from textstat.textstat import textstat\n",
    "import csv"
   ]
  },
  {
   "cell_type": "code",
   "execution_count": 3,
   "metadata": {
    "collapsed": false
   },
   "outputs": [],
   "source": [
    "import pandas\n",
    "import matplotlib\n",
    "#matplotlib.style.use('ggplot')\n",
    "%matplotlib inline"
   ]
  },
  {
   "cell_type": "markdown",
   "metadata": {},
   "source": [
    "# Reading Level Analysis for All cruz"
   ]
  },
  {
   "cell_type": "code",
   "execution_count": 4,
   "metadata": {
    "collapsed": false
   },
   "outputs": [
    {
     "name": "stdout",
     "output_type": "stream",
     "text": [
      "1161\n"
     ]
    },
    {
     "data": {
      "text/html": [
       "<div>\n",
       "<table border=\"1\" class=\"dataframe\">\n",
       "  <thead>\n",
       "    <tr style=\"text-align: right;\">\n",
       "      <th></th>\n",
       "      <th>title</th>\n",
       "      <th>url</th>\n",
       "      <th>org</th>\n",
       "      <th>date_written</th>\n",
       "      <th>byline</th>\n",
       "      <th>body</th>\n",
       "    </tr>\n",
       "  </thead>\n",
       "  <tbody>\n",
       "    <tr>\n",
       "      <th>0</th>\n",
       "      <td>11 million watch Trump and Cruz spar on Fox Bu...</td>\n",
       "      <td>http://www.latimes.com/la-et-ct-debate-ratings...</td>\n",
       "      <td>latimes</td>\n",
       "      <td>2016-01-15 20:25:00</td>\n",
       "      <td>NaN</td>\n",
       "      <td>Fox Business Network\\n's Republican primary de...</td>\n",
       "    </tr>\n",
       "    <tr>\n",
       "      <th>1</th>\n",
       "      <td>538 projects Cruz, Clinton to win Iowa</td>\n",
       "      <td>http://www.politico.com/story/2016/01/538-cruz...</td>\n",
       "      <td>politico</td>\n",
       "      <td>2016-01-17 18:24:55</td>\n",
       "      <td>NaN</td>\n",
       "      <td>\\n2016\\n\\n                                    ...</td>\n",
       "    </tr>\n",
       "    <tr>\n",
       "      <th>2</th>\n",
       "      <td>A Cruz, Rubio battle over undecided Iowans int...</td>\n",
       "      <td>http://hosted2.ap.org/APDEFAULT/3d281c11a96b4a...</td>\n",
       "      <td>ap</td>\n",
       "      <td>2016-01-06 20:28:00</td>\n",
       "      <td>NaN</td>\n",
       "      <td>CEDAR RAPIDS, Iowa (AP) â Marco Rubio and Te...</td>\n",
       "    </tr>\n",
       "    <tr>\n",
       "      <th>3</th>\n",
       "      <td>A Cruz-Rubio feud flares in Iowa closer</td>\n",
       "      <td>http://hosted2.ap.org/apdefault/3d281c11a96b4a...</td>\n",
       "      <td>ap</td>\n",
       "      <td>2016-01-30 17:54:00</td>\n",
       "      <td>NaN</td>\n",
       "      <td>MANCHESTER, Iowa (AP) â As if hearing Marco ...</td>\n",
       "    </tr>\n",
       "    <tr>\n",
       "      <th>4</th>\n",
       "      <td>A Cruz-Rubio ticket may be the only way to sto...</td>\n",
       "      <td>http://www.latimes.com/la-oe-0223-goldberg-tru...</td>\n",
       "      <td>latimes</td>\n",
       "      <td>2016-02-23 13:00:00</td>\n",
       "      <td>NaN</td>\n",
       "      <td>As things stand, Donald Trump is the presumpti...</td>\n",
       "    </tr>\n",
       "  </tbody>\n",
       "</table>\n",
       "</div>"
      ],
      "text/plain": [
       "                                               title  \\\n",
       "0  11 million watch Trump and Cruz spar on Fox Bu...   \n",
       "1             538 projects Cruz, Clinton to win Iowa   \n",
       "2  A Cruz, Rubio battle over undecided Iowans int...   \n",
       "3            A Cruz-Rubio feud flares in Iowa closer   \n",
       "4  A Cruz-Rubio ticket may be the only way to sto...   \n",
       "\n",
       "                                                 url       org  \\\n",
       "0  http://www.latimes.com/la-et-ct-debate-ratings...   latimes   \n",
       "1  http://www.politico.com/story/2016/01/538-cruz...  politico   \n",
       "2  http://hosted2.ap.org/APDEFAULT/3d281c11a96b4a...        ap   \n",
       "3  http://hosted2.ap.org/apdefault/3d281c11a96b4a...        ap   \n",
       "4  http://www.latimes.com/la-oe-0223-goldberg-tru...   latimes   \n",
       "\n",
       "          date_written byline  \\\n",
       "0  2016-01-15 20:25:00    NaN   \n",
       "1  2016-01-17 18:24:55    NaN   \n",
       "2  2016-01-06 20:28:00    NaN   \n",
       "3  2016-01-30 17:54:00    NaN   \n",
       "4  2016-02-23 13:00:00    NaN   \n",
       "\n",
       "                                                body  \n",
       "0  Fox Business Network\\n's Republican primary de...  \n",
       "1  \\n2016\\n\\n                                    ...  \n",
       "2  CEDAR RAPIDS, Iowa (AP) â Marco Rubio and Te...  \n",
       "3  MANCHESTER, Iowa (AP) â As if hearing Marco ...  \n",
       "4  As things stand, Donald Trump is the presumpti...  "
      ]
     },
     "execution_count": 4,
     "metadata": {},
     "output_type": "execute_result"
    }
   ],
   "source": [
    "cruz_df = pandas.read_csv('data/all_cruz.csv')\n",
    "print len(cruz_df)\n",
    "\n",
    "#cruz_df['A'] = df['A'].astype('str')\n",
    "cruz_df.head()\n"
   ]
  },
  {
   "cell_type": "code",
   "execution_count": 5,
   "metadata": {
    "collapsed": false
   },
   "outputs": [
    {
     "name": "stdout",
     "output_type": "stream",
     "text": [
      "Average Flesch-Kincaid grade for AP stories: 8.84978466839\n"
     ]
    },
    {
     "data": {
      "text/plain": [
       "<matplotlib.text.Text at 0x110a7cc50>"
      ]
     },
     "execution_count": 5,
     "metadata": {},
     "output_type": "execute_result"
    },
    {
     "data": {
      "image/png": "[encoded data removed]",
      "text/plain": [
       "<matplotlib.figure.Figure at 0x110a62f10>"
      ]
     },
     "metadata": {},
     "output_type": "display_data"
    }
   ],
   "source": [
    "cruz_df['flesch'] = cruz_df['body'].apply(lambda x: textstat.flesch_kincaid_grade(x) if type(x) == str else None)\n",
    "print \"Average Flesch-Kincaid grade for AP stories:\", cruz_df['flesch'].mean()\n",
    "# Average Flesch-Kincaid grade for AP stories: 9.97941176471\n",
    "cruz_df['flesch'].hist().set_xlabel(\"Flesch Reading Level\") "
   ]
  },
  {
   "cell_type": "code",
   "execution_count": 6,
   "metadata": {
    "collapsed": false,
    "scrolled": true
   },
   "outputs": [
    {
     "name": "stdout",
     "output_type": "stream",
     "text": [
      "Average Gunning-Fog grade for AP stories: 9.46391042205\n"
     ]
    },
    {
     "data": {
      "text/plain": [
       "<matplotlib.text.Text at 0x1131a9810>"
      ]
     },
     "execution_count": 6,
     "metadata": {},
     "output_type": "execute_result"
    },
    {
     "data": {
      "image/png": "[encoded data removed]",
      "text/plain": [
       "<matplotlib.figure.Figure at 0x110a7c4d0>"
      ]
     },
     "metadata": {},
     "output_type": "display_data"
    }
   ],
   "source": [
    "cruz_df['gunning_fog'] = cruz_df['body'].apply(lambda x: textstat.gunning_fog(x) if type(x) == str else None)\n",
    "print \"Average Gunning-Fog grade for AP stories:\", cruz_df['gunning_fog'].mean()\n",
    "# Average Flesch-Kincaid grade for AP stories: 9.85789473684\n",
    "cruz_df['gunning_fog'].hist().set_xlabel(\"Gunning Fog Reading Level\") "
   ]
  },
  {
   "cell_type": "markdown",
   "metadata": {},
   "source": [
    "# Reading level by Org"
   ]
  },
  {
   "cell_type": "code",
   "execution_count": 7,
   "metadata": {
    "collapsed": false
   },
   "outputs": [
    {
     "name": "stdout",
     "output_type": "stream",
     "text": [
      "Average Flesch-Kincaid grade for nyt stories: 6.90593220339\n",
      "Average Flesch-Kincaid grade for wsj stories: 7.72235294118\n",
      "Average Flesch-Kincaid grade for cnn stories: 9.70853658537\n",
      "Average Flesch-Kincaid grade for fox stories: 8.95985915493\n",
      "Average Flesch-Kincaid grade for ap stories: 9.36829268293\n",
      "Average Flesch-Kincaid grade for reuters stories: 9.72051282051\n",
      "Average Flesch-Kincaid grade for politico stories: 8.60791366906\n",
      "Average Flesch-Kincaid grade for mcclatchy stories: 8.436\n",
      "Average Flesch-Kincaid grade for buzzfeed stories: 12.3523809524\n",
      "Average Flesch-Kincaid grade for huffpo stories: 9.26263736264\n",
      "Average Flesch-Kincaid grade for latimes stories: 10.0178571429\n"
     ]
    }
   ],
   "source": [
    "orgs = ['nyt', 'wsj', 'cnn', 'fox', 'ap', 'reuters', 'politico', 'mcclatchy', 'buzzfeed', 'huffpo','latimes']\n",
    "for o in orgs:\n",
    "    cruz_df['flesch_' + o] = cruz_df[cruz_df['org'] == o]['body'].apply(lambda x: textstat.flesch_kincaid_grade(x) if type(x) == str else None)\n",
    "    print \"Average Flesch-Kincaid grade for \" + o + \" stories:\", cruz_df['flesch_' + o].mean()\n",
    "    # Average Flesch-Kincaid grade for AP stories: 9.97941176471\n",
    "    "
   ]
  },
  {
   "cell_type": "code",
   "execution_count": 8,
   "metadata": {
    "collapsed": false
   },
   "outputs": [
    {
     "data": {
      "text/plain": [
       "<matplotlib.text.Text at 0x113197690>"
      ]
     },
     "execution_count": 8,
     "metadata": {},
     "output_type": "execute_result"
    },
    {
     "data": {
      "image/png": "[encoded data removed]",
      "text/plain": [
       "<matplotlib.figure.Figure at 0x113063c50>"
      ]
     },
     "metadata": {},
     "output_type": "display_data"
    }
   ],
   "source": [
    "o = 'nyt'\n",
    "cruz_df['flesch_'+ o].hist().set_xlabel(\"Flesch Reading Level \" + o) "
   ]
  },
  {
   "cell_type": "code",
   "execution_count": 9,
   "metadata": {
    "collapsed": false
   },
   "outputs": [
    {
     "name": "stdout",
     "output_type": "stream",
     "text": [
      "Average Gunning Fog grade for nyt stories: 7.6\n",
      "Average Gunning Fog grade for wsj stories: 8.0\n",
      "Average Gunning Fog grade for cnn stories: 9.97804878049\n",
      "Average Gunning Fog grade for fox stories: 9.14929577465\n",
      "Average Gunning Fog grade for ap stories: 9.35284552846\n",
      "Average Gunning Fog grade for reuters stories: 9.34358974359\n",
      "Average Gunning Fog grade for politico stories: 10.6503597122\n",
      "Average Gunning Fog grade for mcclatchy stories: 8.56\n",
      "Average Gunning Fog grade for buzzfeed stories: 12.0952380952\n",
      "Average Gunning Fog grade for huffpo stories: 9.11208791209\n",
      "Average Gunning Fog grade for latimes stories: 9.71428571429\n"
     ]
    }
   ],
   "source": [
    "for o in orgs:\n",
    "    cruz_df['gunning_' + o] = cruz_df[cruz_df['org'] == o]['body'].apply(lambda x: textstat.gunning_fog(x) if type(x) == str else None)\n",
    "    print \"Average Gunning Fog grade for \" + o + \" stories:\", cruz_df['gunning_' + o].mean()\n",
    "    # Average Flesch-Kincaid grade for AP stories: 9.97941176471\n",
    "    "
   ]
  },
  {
   "cell_type": "code",
   "execution_count": 10,
   "metadata": {
    "collapsed": false
   },
   "outputs": [
    {
     "name": "stdout",
     "output_type": "stream",
     "text": [
      "Average F-K Reading Ease for nyt stories: 70.5311864407\n",
      "Average F-K Reading Ease for wsj stories: 66.504\n",
      "Average F-K Reading Ease for cnn stories: 60.9826829268\n",
      "Average F-K Reading Ease for fox stories: 62.6896478873\n",
      "Average F-K Reading Ease for ap stories: 60.5921138211\n",
      "Average F-K Reading Ease for reuters stories: 58.0492307692\n",
      "Average F-K Reading Ease for politico stories: 71.8638848921\n",
      "Average F-K Reading Ease for mcclatchy stories: 63.7996\n",
      "Average F-K Reading Ease for buzzfeed stories: 51.5004761905\n",
      "Average F-K Reading Ease for huffpo stories: 60.3101098901\n",
      "Average F-K Reading Ease for latimes stories: 57.6432142857\n"
     ]
    }
   ],
   "source": [
    "for o in orgs:\n",
    "    cruz_df['ease_' + o] = cruz_df[cruz_df['org'] == o]['body'].apply(lambda x: textstat.flesch_reading_ease(x) if type(x) == str else None)\n",
    "    print \"Average F-K Reading Ease for \" + o + \" stories:\", cruz_df['ease_' + o].mean()\n",
    " \n",
    "    "
   ]
  },
  {
   "cell_type": "code",
   "execution_count": null,
   "metadata": {
    "collapsed": true
   },
   "outputs": [],
   "source": []
  }
 ],
 "metadata": {
  "kernelspec": {
   "display_name": "Python 2",
   "language": "python",
   "name": "python2"
  },
  "language_info": {
   "codemirror_mode": {
    "name": "ipython",
    "version": 2
   },
   "file_extension": ".py",
   "mimetype": "text/x-python",
   "name": "python",
   "nbconvert_exporter": "python",
   "pygments_lexer": "ipython2",
   "version": "2.7.10"
  }
 },
 "nbformat": 4,
 "nbformat_minor": 0
}
