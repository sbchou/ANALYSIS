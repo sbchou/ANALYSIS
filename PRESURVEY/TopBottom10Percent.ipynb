{
 "cells": [
  {
   "cell_type": "code",
   "execution_count": 1,
   "metadata": {
    "collapsed": true
   },
   "outputs": [],
   "source": [
    "from textstat.textstat import textstat\n",
    "import csv\n",
    "import pandas\n",
    "import matplotlib\n",
    "#matplotlib.style.use('ggplot')\n",
    "%matplotlib inline\n",
    "import ast\n",
    "pandas.options.display.max_colwidth = 100000"
   ]
  },
  {
   "cell_type": "markdown",
   "metadata": {},
   "source": [
    "## Keep all topics"
   ]
  },
  {
   "cell_type": "code",
   "execution_count": 13,
   "metadata": {
    "collapsed": false
   },
   "outputs": [],
   "source": [
    "all_df = pandas.read_csv('data/all_candidates_nop.csv') \n",
    "#TOPICS = ['Immigration', 'Campaign Finance', 'Foreign Policy/National Security','Abortion']\n",
    "#all_df = all_df[(all_df['top_topic'].isin(TOPICS))]\n",
    "deduped_title = all_df.drop_duplicates('title') "
   ]
  },
  {
   "cell_type": "code",
   "execution_count": 14,
   "metadata": {
    "collapsed": false
   },
   "outputs": [],
   "source": [
    "re_all = 'hillary|clinton|bernie|sanders|marco|rubio|donald|trump|ted|cruz|john|kasich'\n",
    "clinton_only = deduped_title[(~deduped_title['title'].str.contains('bernie|sanders|marco|rubio|donald|trump|ted|cruz|john|kasich', case=False))]\n",
    "trump_only = deduped_title[(~deduped_title['title'].str.contains('hillary|clinton|bernie|sanders|marco|rubio|ted|cruz|john|kasich', case=False))]\n",
    "sanders_only = deduped_title[(~deduped_title['title'].str.contains('hillary|clinton|marco|rubio|donald|trump|ted|cruz|john|kasich', case=False))]\n",
    "cruz_only = deduped_title[(~deduped_title['title'].str.contains('bernie|sanders|hillary|clinton|marco|rubio|donald|trump|john|kasich', case=False))]"
   ]
  },
  {
   "cell_type": "code",
   "execution_count": 15,
   "metadata": {
    "collapsed": false
   },
   "outputs": [
    {
     "name": "stdout",
     "output_type": "stream",
     "text": [
      "666\n",
      "181\n",
      "135\n",
      "177\n"
     ]
    }
   ],
   "source": [
    "print len(trump_only)\n",
    "print len(clinton_only)\n",
    "print len(sanders_only)\n",
    "print len(cruz_only)"
   ]
  },
  {
   "cell_type": "code",
   "execution_count": 19,
   "metadata": {
    "collapsed": true
   },
   "outputs": [],
   "source": [
    "all_df = pandas.concat([clinton_only, trump_only, sanders_only, cruz_only])\n",
    "all_df.to_csv('data/all_candidates_all_topics_single_candidate_stories.csv')"
   ]
  },
  {
   "cell_type": "markdown",
   "metadata": {},
   "source": [
    "# Get top n % by {Flesch, G-F}"
   ]
  },
  {
   "cell_type": "code",
   "execution_count": 48,
   "metadata": {
    "collapsed": false
   },
   "outputs": [
    {
     "name": "stdout",
     "output_type": "stream",
     "text": [
      "CLINTON\n",
      "\n",
      "HEAD\n"
     ]
    },
    {
     "data": {
      "image/png": "[encoded data removed]",
      "text/plain": [
       "<matplotlib.figure.Figure at 0x10cd1b810>"
      ]
     },
     "metadata": {},
     "output_type": "display_data"
    },
    {
     "name": "stdout",
     "output_type": "stream",
     "text": [
      "nyt          7\n",
      "politico     4\n",
      "wsj          2\n",
      "npr          1\n",
      "mcclatchy    1\n",
      "latimes      1\n",
      "cnn          1\n",
      "huffpo       1\n",
      "Name: org, dtype: int64\n",
      "TAIL\n"
     ]
    },
    {
     "data": {
      "image/png": "[encoded data removed]",
      "text/plain": [
       "<matplotlib.figure.Figure at 0x10c439290>"
      ]
     },
     "metadata": {},
     "output_type": "display_data"
    },
    {
     "name": "stdout",
     "output_type": "stream",
     "text": [
      "fox         6\n",
      "cnn         4\n",
      "npr         2\n",
      "latimes     2\n",
      "wsj         1\n",
      "politico    1\n",
      "huffpo      1\n",
      "ap          1\n",
      "Name: org, dtype: int64\n",
      "TRUMP\n",
      "\n",
      "HEAD\n"
     ]
    },
    {
     "data": {
      "image/png": "[encoded data removed]",
      "text/plain": [
       "<matplotlib.figure.Figure at 0x10c402510>"
      ]
     },
     "metadata": {},
     "output_type": "display_data"
    },
    {
     "name": "stdout",
     "output_type": "stream",
     "text": [
      "nyt          29\n",
      "politico     13\n",
      "huffpo        6\n",
      "wsj           5\n",
      "fox           4\n",
      "mcclatchy     3\n",
      "npr           2\n",
      "cnn           2\n",
      "ap            2\n",
      "Name: org, dtype: int64\n",
      "TAIL\n"
     ]
    },
    {
     "data": {
      "image/png": "[encoded data removed]",
      "text/plain": [
       "<matplotlib.figure.Figure at 0x10c367ad0>"
      ]
     },
     "metadata": {},
     "output_type": "display_data"
    },
    {
     "name": "stdout",
     "output_type": "stream",
     "text": [
      "huffpo       17\n",
      "buzzfeed     12\n",
      "cnn           8\n",
      "reuters       8\n",
      "latimes       7\n",
      "fox           4\n",
      "nyt           2\n",
      "politico      2\n",
      "ap            2\n",
      "wsj           2\n",
      "mcclatchy     1\n",
      "npr           1\n",
      "Name: org, dtype: int64\n",
      "CRUZ\n",
      "\n",
      "HEAD\n"
     ]
    },
    {
     "data": {
      "image/png": "[encoded data removed]",
      "text/plain": [
       "<matplotlib.figure.Figure at 0x10bd08310>"
      ]
     },
     "metadata": {},
     "output_type": "display_data"
    },
    {
     "name": "stdout",
     "output_type": "stream",
     "text": [
      "nyt         8\n",
      "wsj         4\n",
      "cnn         2\n",
      "politico    1\n",
      "huffpo      1\n",
      "ap          1\n",
      "Name: org, dtype: int64\n",
      "TAIL\n"
     ]
    },
    {
     "data": {
      "image/png": "[encoded data removed]",
      "text/plain": [
       "<matplotlib.figure.Figure at 0x10c0a0d90>"
      ]
     },
     "metadata": {},
     "output_type": "display_data"
    },
    {
     "name": "stdout",
     "output_type": "stream",
     "text": [
      "cnn         4\n",
      "huffpo      4\n",
      "politico    3\n",
      "buzzfeed    2\n",
      "nyt         1\n",
      "reuters     1\n",
      "ap          1\n",
      "wsj         1\n",
      "Name: org, dtype: int64\n",
      "SANDERS\n",
      "\n",
      "HEAD\n"
     ]
    },
    {
     "data": {
      "image/png": "[encoded data removed]",
      "text/plain": [
       "<matplotlib.figure.Figure at 0x10ce5b210>"
      ]
     },
     "metadata": {},
     "output_type": "display_data"
    },
    {
     "name": "stdout",
     "output_type": "stream",
     "text": [
      "politico    6\n",
      "nyt         4\n",
      "wsj         3\n",
      "Name: org, dtype: int64\n",
      "TAIL\n"
     ]
    },
    {
     "data": {
      "image/png": "[encoded data removed]",
      "text/plain": [
       "<matplotlib.figure.Figure at 0x10cb43b50>"
      ]
     },
     "metadata": {},
     "output_type": "display_data"
    },
    {
     "name": "stdout",
     "output_type": "stream",
     "text": [
      "huffpo      11\n",
      "cnn          1\n",
      "politico     1\n",
      "Name: org, dtype: int64\n"
     ]
    }
   ],
   "source": [
    "CANDIDATES = ['clinton', 'trump', 'cruz', 'sanders']\n",
    "for c in CANDIDATES:\n",
    "    print c.upper()\n",
    "    print\n",
    "    sorted_c = all_df[all_df['candidate'] == c].sort_values('flesch')\n",
    "    n = len(sorted_c)\n",
    "    head = sorted_c.head(int(n*.10))\n",
    "    tail = sorted_c.tail(int(n*.10))\n",
    "    print \"HEAD\"\n",
    "    head.flesch.hist()\n",
    "    matplotlib.pyplot.show()\n",
    "    print head.org.value_counts()\n",
    "    head.top_topic.value_counts()\n",
    "    head[['top_topic', 'org']]\n",
    "    \n",
    "    print \"TAIL\"\n",
    "    tail.flesch.hist()\n",
    "    matplotlib.pyplot.show()\n",
    "    print tail.org.value_counts()\n",
    "    tail.top_topic.value_counts()\n",
    "    tail[['top_topic', 'org']]\n"
   ]
  },
  {
   "cell_type": "code",
   "execution_count": 54,
   "metadata": {
    "collapsed": false
   },
   "outputs": [],
   "source": [
    "ORGS = set(all_df.org) "
   ]
  },
  {
   "cell_type": "markdown",
   "metadata": {},
   "source": [
    "# Also look at Topics dist"
   ]
  },
  {
   "cell_type": "code",
   "execution_count": 61,
   "metadata": {
    "collapsed": false
   },
   "outputs": [
    {
     "name": "stdout",
     "output_type": "stream",
     "text": [
      "CLINTON\n",
      "LOW\n",
      "Campaign Finance                    9\n",
      "Health Care                         3\n",
      "Foreign Policy/National Security    2\n",
      "Budget/Taxation                     1\n",
      "Ethics                              1\n",
      "Education                           1\n",
      "Economy                             1\n",
      "Name: top_topic, dtype: int64\n",
      "\n",
      "\n",
      "HIGH\n",
      "Ethics                              6\n",
      "Foreign Policy/National Security    4\n",
      "Abortion                            2\n",
      "Financial Regulation                1\n",
      "Immigration                         1\n",
      "Jobs/Employment                     1\n",
      "Economy                             1\n",
      "Health Care                         1\n",
      "Campaign Finance                    1\n",
      "Name: top_topic, dtype: int64\n",
      "\n",
      "\n",
      "TRUMP\n",
      "LOW\n",
      "Foreign Policy/National Security    18\n",
      "Campaign Finance                    12\n",
      "Immigration                         10\n",
      "Abortion                             6\n",
      "Health Care                          6\n",
      "LGBT Issues                          6\n",
      "Racial Issues                        2\n",
      "Veterans                             2\n",
      "Trade                                1\n",
      "Education                            1\n",
      "Budget/Taxation                      1\n",
      "Economy                              1\n",
      "Name: top_topic, dtype: int64\n",
      "\n",
      "\n",
      "HIGH\n",
      "Immigration                         19\n",
      "Foreign Policy/National Security     9\n",
      "Veterans                             6\n",
      "Campaign Finance                     6\n",
      "Health Care                          5\n",
      "Abortion                             5\n",
      "LGBT Issues                          4\n",
      "Economy                              3\n",
      "Guns                                 2\n",
      "Trade                                2\n",
      "Education                            1\n",
      "Budget/Taxation                      1\n",
      "Other                                1\n",
      "Ethics                               1\n",
      "Racial Issues                        1\n",
      "Name: top_topic, dtype: int64\n",
      "\n",
      "\n",
      "CRUZ\n",
      "LOW\n",
      "Campaign Finance                    5\n",
      "Immigration                         3\n",
      "Economy                             2\n",
      "Abortion                            2\n",
      "Foreign Policy/National Security    2\n",
      "Education                           1\n",
      "Veterans                            1\n",
      "LGBT Issues                         1\n",
      "Name: top_topic, dtype: int64\n",
      "\n",
      "\n",
      "HIGH\n",
      "Immigration                         3\n",
      "LGBT Issues                         3\n",
      "Campaign Finance                    3\n",
      "Foreign Policy/National Security    2\n",
      "Veterans                            1\n",
      "Education                           1\n",
      "Justice                             1\n",
      "Jobs/Employment                     1\n",
      "Abortion                            1\n",
      "Health Care                         1\n",
      "Name: top_topic, dtype: int64\n",
      "\n",
      "\n",
      "SANDERS\n",
      "LOW\n",
      "Campaign Finance                    5\n",
      "Foreign Policy/National Security    3\n",
      "Economy                             1\n",
      "Immigration                         1\n",
      "Abortion                            1\n",
      "Ethics                              1\n",
      "Racial Issues                       1\n",
      "Name: top_topic, dtype: int64\n",
      "\n",
      "\n",
      "HIGH\n",
      "Health Care                         4\n",
      "Campaign Finance                    3\n",
      "Racial Issues                       2\n",
      "Immigration                         1\n",
      "Income Inequality                   1\n",
      "Foreign Policy/National Security    1\n",
      "Environment/Energy                  1\n",
      "Name: top_topic, dtype: int64\n",
      "\n",
      "\n"
     ]
    }
   ],
   "source": [
    "CANDIDATES = ['clinton', 'trump', 'cruz', 'sanders']\n",
    "for c in CANDIDATES:\n",
    "    print c.upper()\n",
    "    sorted_c = all_df[all_df['candidate'] == c].sort_values('flesch')\n",
    "    n = len(sorted_c)\n",
    "    head = sorted_c.head(int(n*.10))\n",
    "    tail = sorted_c.tail(int(n*.10))\n",
    "    print \"LOW\"\n",
    "    print head.top_topic.value_counts()\n",
    "    print\n",
    "    #print head[['org', 'top_topic', 'flesch']]\n",
    "    print\n",
    "    print \"HIGH\"\n",
    "    print tail.top_topic.value_counts()\n",
    "    print\n",
    "    #print tail[['org', 'top_topic', 'flesch']]\n",
    "    print\n",
    "    \"\"\"\n",
    "    for o in ORGS:\n",
    "        print \"LOW\"\n",
    "        head\n",
    "    print \"LOW\" \n",
    "    matplotlib.pyplot.show()\n",
    "    print head.org.value_counts()\n",
    "    head.top_topic.value_counts()\n",
    "     \n",
    "    print \"HIGH\"\n",
    "    tail.flesch.hist()\n",
    "    matplotlib.pyplot.show()\n",
    "    print tail.org.value_counts()\n",
    "    tail.top_topic.value_counts()\n",
    "    tail[['top_topic', 'org']]\n",
    "    \"\"\"\n"
   ]
  },
  {
   "cell_type": "code",
   "execution_count": null,
   "metadata": {
    "collapsed": false
   },
   "outputs": [],
   "source": []
  },
  {
   "cell_type": "code",
   "execution_count": null,
   "metadata": {
    "collapsed": true
   },
   "outputs": [],
   "source": []
  },
  {
   "cell_type": "code",
   "execution_count": null,
   "metadata": {
    "collapsed": true
   },
   "outputs": [],
   "source": []
  }
 ],
 "metadata": {
  "kernelspec": {
   "display_name": "Python 2",
   "language": "python",
   "name": "python2"
  },
  "language_info": {
   "codemirror_mode": {
    "name": "ipython",
    "version": 2
   },
   "file_extension": ".py",
   "mimetype": "text/x-python",
   "name": "python",
   "nbconvert_exporter": "python",
   "pygments_lexer": "ipython2",
   "version": "2.7.10"
  }
 },
 "nbformat": 4,
 "nbformat_minor": 0
}
