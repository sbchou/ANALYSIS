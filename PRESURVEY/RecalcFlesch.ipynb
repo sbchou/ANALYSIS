{
 "cells": [
  {
   "cell_type": "code",
   "execution_count": 1,
   "metadata": {
    "collapsed": true
   },
   "outputs": [],
   "source": [
    "from textstat.textstat import textstat\n",
    "import csv\n",
    "import pandas\n",
    "import matplotlib\n",
    "#matplotlib.style.use('ggplot')\n",
    "%matplotlib inline\n",
    "import ast\n",
    "pandas.options.display.max_colwidth = 100000"
   ]
  },
  {
   "cell_type": "code",
   "execution_count": 2,
   "metadata": {
    "collapsed": true
   },
   "outputs": [],
   "source": [
    "cleaned = pandas.read_csv('data/LowMiddleHigh/all_clean_text.csv')"
   ]
  },
  {
   "cell_type": "code",
   "execution_count": 5,
   "metadata": {
    "collapsed": false
   },
   "outputs": [],
   "source": [
    "cleaned['gunning_fog_new'] = cleaned['body'].apply(lambda x: textstat.gunning_fog(x) if type(x) == str else None)\n",
    "cleaned['flesch_new'] = cleaned['body'].apply(lambda x: textstat.flesch_kincaid_grade(x) if type(x) == str else None)\n",
    "cleaned['readability'] = cleaned['body'].apply(lambda x: textstat.flesch_reading_ease(x) if type(x) == str else None)"
   ]
  },
  {
   "cell_type": "code",
   "execution_count": 16,
   "metadata": {
    "collapsed": false
   },
   "outputs": [
    {
     "name": "stdout",
     "output_type": "stream",
     "text": [
      "differences: 16\n",
      "differences over .5 0\n"
     ]
    }
   ],
   "source": [
    "diff = cleaned[cleaned.flesch_new != cleaned.flesch]\n",
    "cleaned['flesch_diff'] = cleaned['flesch_new'] - cleaned['flesch']\n",
    "print \"differences:\",len(diff) # 16 changes\n",
    "print \"differences over .5\",len(cleaned[(cleaned.flesch_new - cleaned.flesch) > .5])"
   ]
  },
  {
   "cell_type": "code",
   "execution_count": 18,
   "metadata": {
    "collapsed": false
   },
   "outputs": [
    {
     "data": {
      "text/plain": [
       "-0.063333333333333366"
      ]
     },
     "execution_count": 18,
     "metadata": {},
     "output_type": "execute_result"
    }
   ],
   "source": [
    "#diff[['title','url', 'flesch', 'flesch_new']]\n",
    "cleaned['flesch_diff'].mean()"
   ]
  },
  {
   "cell_type": "code",
   "execution_count": 19,
   "metadata": {
    "collapsed": false
   },
   "outputs": [
    {
     "data": {
      "text/plain": [
       "Index([u'Unnamed: 0', u'title', u'url', u'candidate', u'org', u'top_topic',\n",
       "       u'flesch', u'gunning_fog', u'body', u'gunning_fog_new', u'flesch_new',\n",
       "       u'readability', u'flesch_diff'],\n",
       "      dtype='object')"
      ]
     },
     "execution_count": 19,
     "metadata": {},
     "output_type": "execute_result"
    }
   ],
   "source": [
    "cleaned.columns\n"
   ]
  },
  {
   "cell_type": "code",
   "execution_count": 20,
   "metadata": {
    "collapsed": true
   },
   "outputs": [],
   "source": [
    "cleaned.to_csv('data/LowMiddleHigh/all_cleaned_new_flesch.csv')"
   ]
  },
  {
   "cell_type": "code",
   "execution_count": null,
   "metadata": {
    "collapsed": true
   },
   "outputs": [],
   "source": []
  }
 ],
 "metadata": {
  "kernelspec": {
   "display_name": "Python 2",
   "language": "python",
   "name": "python2"
  },
  "language_info": {
   "codemirror_mode": {
    "name": "ipython",
    "version": 2
   },
   "file_extension": ".py",
   "mimetype": "text/x-python",
   "name": "python",
   "nbconvert_exporter": "python",
   "pygments_lexer": "ipython2",
   "version": "2.7.10"
  }
 },
 "nbformat": 4,
 "nbformat_minor": 0
}
