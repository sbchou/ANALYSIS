{
 "cells": [
  {
   "cell_type": "code",
   "execution_count": 9,
   "metadata": {
    "collapsed": true
   },
   "outputs": [],
   "source": [
    "from textstat.textstat import textstat\n",
    "import csv\n",
    "import ast"
   ]
  },
  {
   "cell_type": "code",
   "execution_count": 3,
   "metadata": {
    "collapsed": false
   },
   "outputs": [],
   "source": [
    "import pandas\n",
    "import matplotlib\n",
    "#matplotlib.style.use('ggplot')\n",
    "%matplotlib inline"
   ]
  },
  {
   "cell_type": "markdown",
   "metadata": {},
   "source": [
    "# Reading Level Analysis for All Trump"
   ]
  },
  {
   "cell_type": "code",
   "execution_count": 21,
   "metadata": {
    "collapsed": false
   },
   "outputs": [
    {
     "name": "stdout",
     "output_type": "stream",
     "text": [
      "2877\n"
     ]
    }
   ],
   "source": [
    "trump_df = pandas.read_csv('data/all_trump_w_topics.csv')\n",
    "print len(trump_df)"
   ]
  },
  {
   "cell_type": "code",
   "execution_count": 29,
   "metadata": {
    "collapsed": false
   },
   "outputs": [],
   "source": [
    "trump_df['topic_dict'] = trump_df['topic'].apply(lambda d: ast.literal_eval(d))\n",
    "trump_df['top_topics'] = trump_df['topic_dict'].apply(lambda d: {k:v for k, v in d.iteritems() if v > 0.1})\n",
    "trump_df['topic_list'] = trump_df['top_topics'].apply(lambda d: d.keys())\n",
    "# convert topics to dict and filter\n",
    "#d = ast.literal_eval(trump_df['topic'][0]) \n",
    "#{k: v for k, v in d.iteritems() if v > 0.1}"
   ]
  },
  {
   "cell_type": "code",
   "execution_count": 31,
   "metadata": {
    "collapsed": false
   },
   "outputs": [
    {
     "data": {
      "text/plain": [
       "[u'Immigration']"
      ]
     },
     "execution_count": 31,
     "metadata": {},
     "output_type": "execute_result"
    }
   ],
   "source": [
    "trump_df['top_topics'][0]\n",
    "trump_df['topic_list'][9]"
   ]
  },
  {
   "cell_type": "code",
   "execution_count": 12,
   "metadata": {
    "collapsed": false
   },
   "outputs": [
    {
     "name": "stdout",
     "output_type": "stream",
     "text": [
      "Average Flesch-Kincaid grade for AP stories: 8.93694820994\n"
     ]
    },
    {
     "data": {
      "text/plain": [
       "<matplotlib.text.Text at 0x1116d5390>"
      ]
     },
     "execution_count": 12,
     "metadata": {},
     "output_type": "execute_result"
    },
    {
     "data": {
      "image/png": "[encoded data removed]",
      "text/plain": [
       "<matplotlib.figure.Figure at 0x112604690>"
      ]
     },
     "metadata": {},
     "output_type": "display_data"
    }
   ],
   "source": [
    "trump_df['flesch'] = trump_df['body'].apply(lambda x: textstat.flesch_kincaid_grade(x) if type(x) == str else None)\n",
    "print \"Average Flesch-Kincaid grade for AP stories:\", trump_df['flesch'].mean()\n",
    "# Average Flesch-Kincaid grade for AP stories: 9.97941176471\n",
    "trump_df['flesch'].hist().set_xlabel(\"Flesch Reading Level\") "
   ]
  },
  {
   "cell_type": "code",
   "execution_count": 13,
   "metadata": {
    "collapsed": false,
    "scrolled": true
   },
   "outputs": [
    {
     "name": "stdout",
     "output_type": "stream",
     "text": [
      "Average Gunning-Fog grade for AP stories: 9.39270072993\n"
     ]
    },
    {
     "data": {
      "text/plain": [
       "<matplotlib.text.Text at 0x112c33610>"
      ]
     },
     "execution_count": 13,
     "metadata": {},
     "output_type": "execute_result"
    },
    {
     "data": {
      "image/png": "[encoded data removed]",
      "text/plain": [
       "<matplotlib.figure.Figure at 0x1128312d0>"
      ]
     },
     "metadata": {},
     "output_type": "display_data"
    }
   ],
   "source": [
    "trump_df['gunning_fog'] = trump_df['body'].apply(lambda x: textstat.gunning_fog(x) if type(x) == str else None)\n",
    "print \"Average Gunning-Fog grade for AP stories:\", trump_df['gunning_fog'].mean()\n",
    "# Average Flesch-Kincaid grade for AP stories: 9.85789473684\n",
    "trump_df['gunning_fog'].hist().set_xlabel(\"Gunning Fog Reading Level\") "
   ]
  },
  {
   "cell_type": "markdown",
   "metadata": {},
   "source": [
    "# Reading level by Org"
   ]
  },
  {
   "cell_type": "code",
   "execution_count": 20,
   "metadata": {
    "collapsed": false
   },
   "outputs": [
    {
     "name": "stdout",
     "output_type": "stream",
     "text": [
      "Average Flesch-Kincaid grade for nyt stories: 7.35640243902\n",
      "Average Flesch-Kincaid grade for wsj stories: 7.63269230769\n",
      "Average Flesch-Kincaid grade for cnn stories: 9.33620689655\n",
      "Average Flesch-Kincaid grade for fox stories: 8.98108108108\n",
      "Average Flesch-Kincaid grade for ap stories: 9.39463601533\n",
      "Average Flesch-Kincaid grade for reuters stories: 10.1630681818\n",
      "Average Flesch-Kincaid grade for politico stories: 8.47330016584\n",
      "Average Flesch-Kincaid grade for mcclatchy stories: 8.38108108108\n",
      "Average Flesch-Kincaid grade for buzzfeed stories: 12.2416666667\n",
      "Average Flesch-Kincaid grade for huffpo stories: 9.48325242718\n",
      "Average Flesch-Kincaid grade for latimes stories: 9.78532110092\n"
     ]
    }
   ],
   "source": [
    "orgs = ['nyt', 'wsj', 'cnn', 'fox', 'ap', 'reuters', 'politico', 'mcclatchy', 'buzzfeed', 'huffpo','latimes']\n",
    "for o in orgs:\n",
    "    trump_df['flesch_' + o] = trump_df[trump_df['org'] == o]['body'].apply(lambda x: textstat.flesch_kincaid_grade(x) if type(x) == str else None)\n",
    "    print \"Average Flesch-Kincaid grade for \" + o + \" stories:\", trump_df['flesch_' + o].mean()\n",
    "    # Average Flesch-Kincaid grade for AP stories: 9.97941176471\n",
    "    "
   ]
  },
  {
   "cell_type": "code",
   "execution_count": 10,
   "metadata": {
    "collapsed": false
   },
   "outputs": [
    {
     "data": {
      "text/plain": [
       "<matplotlib.text.Text at 0x1122b2750>"
      ]
     },
     "execution_count": 10,
     "metadata": {},
     "output_type": "execute_result"
    },
    {
     "data": {
      "image/png": "[encoded data removed]",
      "text/plain": [
       "<matplotlib.figure.Figure at 0x111c4db90>"
      ]
     },
     "metadata": {},
     "output_type": "display_data"
    }
   ],
   "source": [
    "o = 'nyt'\n",
    "trump_df['flesch_'+ o].hist().set_xlabel(\"Flesch Reading Level \" + o) "
   ]
  },
  {
   "cell_type": "code",
   "execution_count": 23,
   "metadata": {
    "collapsed": false
   },
   "outputs": [
    {
     "name": "stdout",
     "output_type": "stream",
     "text": [
      "Average Gunning Fog grade for nyt stories: 7.94634146341\n",
      "Average Gunning Fog grade for wsj stories: 7.82564102564\n",
      "Average Gunning Fog grade for cnn stories: 9.62528735632\n",
      "Average Gunning Fog grade for fox stories: 9.12837837838\n",
      "Average Gunning Fog grade for ap stories: 9.33026819923\n",
      "Average Gunning Fog grade for reuters stories: 9.76363636364\n",
      "Average Gunning Fog grade for politico stories: 10.4948590381\n",
      "Average Gunning Fog grade for mcclatchy stories: 8.55675675676\n",
      "Average Gunning Fog grade for buzzfeed stories: 11.98\n",
      "Average Gunning Fog grade for huffpo stories: 9.14077669903\n",
      "Average Gunning Fog grade for latimes stories: 9.47889908257\n"
     ]
    }
   ],
   "source": [
    "for o in orgs:\n",
    "    trump_df['gunning_' + o] = trump_df[trump_df['org'] == o]['body'].apply(lambda x: textstat.gunning_fog(x) if type(x) == str else None)\n",
    "    print \"Average Gunning Fog grade for \" + o + \" stories:\", trump_df['gunning_' + o].mean()\n",
    "    # Average Flesch-Kincaid grade for AP stories: 9.97941176471\n",
    "    "
   ]
  },
  {
   "cell_type": "code",
   "execution_count": 24,
   "metadata": {
    "collapsed": false
   },
   "outputs": [
    {
     "name": "stdout",
     "output_type": "stream",
     "text": [
      "Average F-K Reading Ease for nyt stories: 68.8467073171\n",
      "Average F-K Reading Ease for wsj stories: 66.3479487179\n",
      "Average F-K Reading Ease for cnn stories: 62.0714367816\n",
      "Average F-K Reading Ease for fox stories: 62.4208445946\n",
      "Average F-K Reading Ease for ap stories: 60.2996168582\n",
      "Average F-K Reading Ease for reuters stories: 56.7761931818\n",
      "Average F-K Reading Ease for politico stories: 72.1448922056\n",
      "Average F-K Reading Ease for mcclatchy stories: 64.2143243243\n",
      "Average F-K Reading Ease for buzzfeed stories: 51.7928333333\n",
      "Average F-K Reading Ease for huffpo stories: 58.8816262136\n",
      "Average F-K Reading Ease for latimes stories: 58.2434862385\n"
     ]
    }
   ],
   "source": [
    "for o in orgs:\n",
    "    trump_df['ease_' + o] = trump_df[trump_df['org'] == o]['body'].apply(lambda x: textstat.flesch_reading_ease(x) if type(x) == str else None)\n",
    "    print \"Average F-K Reading Ease for \" + o + \" stories:\", trump_df['ease_' + o].mean()\n",
    " \n",
    "    "
   ]
  },
  {
   "cell_type": "code",
   "execution_count": null,
   "metadata": {
    "collapsed": true
   },
   "outputs": [],
   "source": []
  }
 ],
 "metadata": {
  "kernelspec": {
   "display_name": "Python 2",
   "language": "python",
   "name": "python2"
  },
  "language_info": {
   "codemirror_mode": {
    "name": "ipython",
    "version": 2
   },
   "file_extension": ".py",
   "mimetype": "text/x-python",
   "name": "python",
   "nbconvert_exporter": "python",
   "pygments_lexer": "ipython2",
   "version": "2.7.10"
  }
 },
 "nbformat": 4,
 "nbformat_minor": 0
}
