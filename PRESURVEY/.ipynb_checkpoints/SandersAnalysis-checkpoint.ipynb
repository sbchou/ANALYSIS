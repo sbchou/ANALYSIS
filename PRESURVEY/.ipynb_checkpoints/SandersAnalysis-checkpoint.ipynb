{
 "cells": [
  {
   "cell_type": "code",
   "execution_count": 1,
   "metadata": {
    "collapsed": true
   },
   "outputs": [],
   "source": [
    "from textstat.textstat import textstat\n",
    "import csv"
   ]
  },
  {
   "cell_type": "code",
   "execution_count": 2,
   "metadata": {
    "collapsed": false
   },
   "outputs": [],
   "source": [
    "import pandas\n",
    "import matplotlib\n",
    "#matplotlib.style.use('ggplot')\n",
    "%matplotlib inline"
   ]
  },
  {
   "cell_type": "markdown",
   "metadata": {},
   "source": [
    "# Reading Level Analysis for All sanders"
   ]
  },
  {
   "cell_type": "code",
   "execution_count": 3,
   "metadata": {
    "collapsed": false
   },
   "outputs": [
    {
     "name": "stdout",
     "output_type": "stream",
     "text": [
      "995\n"
     ]
    },
    {
     "data": {
      "text/html": [
       "<div>\n",
       "<table border=\"1\" class=\"dataframe\">\n",
       "  <thead>\n",
       "    <tr style=\"text-align: right;\">\n",
       "      <th></th>\n",
       "      <th>title</th>\n",
       "      <th>url</th>\n",
       "      <th>org</th>\n",
       "      <th>date_written</th>\n",
       "      <th>byline</th>\n",
       "      <th>body</th>\n",
       "    </tr>\n",
       "  </thead>\n",
       "  <tbody>\n",
       "    <tr>\n",
       "      <th>0</th>\n",
       "      <td>2015 Brought Big Money For Clinton And Bush; S...</td>\n",
       "      <td>http://www.npr.org/2016/02/01/465095927/2015-b...</td>\n",
       "      <td>npr</td>\n",
       "      <td>2016-02-01 17:30:52</td>\n",
       "      <td>NaN</td>\n",
       "      <td>\\n\\n\\n\\ni\\n\\n\\n\\n\\n            Republican pres...</td>\n",
       "    </tr>\n",
       "    <tr>\n",
       "      <th>1</th>\n",
       "      <td>3 New Presidential Mashups: Bernie Sanders, Je...</td>\n",
       "      <td>http://www.huffingtonpost.com/john-seed/three-...</td>\n",
       "      <td>huffpo</td>\n",
       "      <td>2016-02-19 23:31:02</td>\n",
       "      <td>NaN</td>\n",
       "      <td>For this week's political mashups I mixed seve...</td>\n",
       "    </tr>\n",
       "    <tr>\n",
       "      <th>2</th>\n",
       "      <td>5 Establishment Democrat Myths About Bernie Sa...</td>\n",
       "      <td>http://www.huffingtonpost.com/d-c-rutledge/5-e...</td>\n",
       "      <td>huffpo</td>\n",
       "      <td>2016-02-23 16:55:56</td>\n",
       "      <td>NaN</td>\n",
       "      <td>Fresh off the heels of a narrow democratic cau...</td>\n",
       "    </tr>\n",
       "    <tr>\n",
       "      <th>3</th>\n",
       "      <td>5 Reasons Bernie Sanders Will Win the Presiden...</td>\n",
       "      <td>http://www.huffingtonpost.com/h-a-goodman/5-re...</td>\n",
       "      <td>huffpo</td>\n",
       "      <td>2016-01-27 14:16:24</td>\n",
       "      <td>NaN</td>\n",
       "      <td>If the notion of Bernie Sanders winning the De...</td>\n",
       "    </tr>\n",
       "    <tr>\n",
       "      <th>4</th>\n",
       "      <td>5 Reasons To Vote For Bernie Sanders You Won't...</td>\n",
       "      <td>http://www.huffingtonpost.com/seth-abramson/5-...</td>\n",
       "      <td>huffpo</td>\n",
       "      <td>2016-01-28 21:52:49</td>\n",
       "      <td>NaN</td>\n",
       "      <td>1. A vote for Bernie Sanders in Iowa and New H...</td>\n",
       "    </tr>\n",
       "  </tbody>\n",
       "</table>\n",
       "</div>"
      ],
      "text/plain": [
       "                                               title  \\\n",
       "0  2015 Brought Big Money For Clinton And Bush; S...   \n",
       "1  3 New Presidential Mashups: Bernie Sanders, Je...   \n",
       "2  5 Establishment Democrat Myths About Bernie Sa...   \n",
       "3  5 Reasons Bernie Sanders Will Win the Presiden...   \n",
       "4  5 Reasons To Vote For Bernie Sanders You Won't...   \n",
       "\n",
       "                                                 url     org  \\\n",
       "0  http://www.npr.org/2016/02/01/465095927/2015-b...     npr   \n",
       "1  http://www.huffingtonpost.com/john-seed/three-...  huffpo   \n",
       "2  http://www.huffingtonpost.com/d-c-rutledge/5-e...  huffpo   \n",
       "3  http://www.huffingtonpost.com/h-a-goodman/5-re...  huffpo   \n",
       "4  http://www.huffingtonpost.com/seth-abramson/5-...  huffpo   \n",
       "\n",
       "          date_written byline  \\\n",
       "0  2016-02-01 17:30:52    NaN   \n",
       "1  2016-02-19 23:31:02    NaN   \n",
       "2  2016-02-23 16:55:56    NaN   \n",
       "3  2016-01-27 14:16:24    NaN   \n",
       "4  2016-01-28 21:52:49    NaN   \n",
       "\n",
       "                                                body  \n",
       "0  \\n\\n\\n\\ni\\n\\n\\n\\n\\n            Republican pres...  \n",
       "1  For this week's political mashups I mixed seve...  \n",
       "2  Fresh off the heels of a narrow democratic cau...  \n",
       "3  If the notion of Bernie Sanders winning the De...  \n",
       "4  1. A vote for Bernie Sanders in Iowa and New H...  "
      ]
     },
     "execution_count": 3,
     "metadata": {},
     "output_type": "execute_result"
    }
   ],
   "source": [
    "sanders_df = pandas.read_csv('data/all_sanders.csv')\n",
    "print len(sanders_df)\n",
    "\n",
    "#sanders_df['A'] = df['A'].astype('str')\n",
    "sanders_df.head()\n"
   ]
  },
  {
   "cell_type": "code",
   "execution_count": 4,
   "metadata": {
    "collapsed": false
   },
   "outputs": [
    {
     "name": "stdout",
     "output_type": "stream",
     "text": [
      "Average Flesch-Kincaid grade for AP stories: 9.54603015075\n"
     ]
    },
    {
     "data": {
      "text/plain": [
       "<matplotlib.text.Text at 0x106810950>"
      ]
     },
     "execution_count": 4,
     "metadata": {},
     "output_type": "execute_result"
    },
    {
     "data": {
      "image/png": "[encoded data removed]",
      "text/plain": [
       "<matplotlib.figure.Figure at 0x108df6c90>"
      ]
     },
     "metadata": {},
     "output_type": "display_data"
    }
   ],
   "source": [
    "sanders_df['flesch'] = sanders_df['body'].apply(lambda x: textstat.flesch_kincaid_grade(x) if type(x) == str else None)\n",
    "print \"Average Flesch-Kincaid grade for AP stories:\", sanders_df['flesch'].mean()\n",
    "# Average Flesch-Kincaid grade for AP stories: 9.97941176471\n",
    "sanders_df['flesch'].hist().set_xlabel(\"Flesch Reading Level\") "
   ]
  },
  {
   "cell_type": "code",
   "execution_count": 5,
   "metadata": {
    "collapsed": false,
    "scrolled": true
   },
   "outputs": [
    {
     "name": "stdout",
     "output_type": "stream",
     "text": [
      "Average Gunning-Fog grade for AP stories: 9.72904522613\n"
     ]
    },
    {
     "data": {
      "text/plain": [
       "<matplotlib.text.Text at 0x108fd13d0>"
      ]
     },
     "execution_count": 5,
     "metadata": {},
     "output_type": "execute_result"
    },
    {
     "data": {
      "image/png": "[encoded data removed]",
      "text/plain": [
       "<matplotlib.figure.Figure at 0x108f14cd0>"
      ]
     },
     "metadata": {},
     "output_type": "display_data"
    }
   ],
   "source": [
    "sanders_df['gunning_fog'] = sanders_df['body'].apply(lambda x: textstat.gunning_fog(x) if type(x) == str else None)\n",
    "print \"Average Gunning-Fog grade for AP stories:\", sanders_df['gunning_fog'].mean()\n",
    "# Average Flesch-Kincaid grade for AP stories: 9.85789473684\n",
    "sanders_df['gunning_fog'].hist().set_xlabel(\"Gunning Fog Reading Level\") "
   ]
  },
  {
   "cell_type": "markdown",
   "metadata": {},
   "source": [
    "# Reading level by Org"
   ]
  },
  {
   "cell_type": "code",
   "execution_count": 6,
   "metadata": {
    "collapsed": false
   },
   "outputs": [
    {
     "name": "stdout",
     "output_type": "stream",
     "text": [
      "Average Flesch-Kincaid grade for nyt stories: 8.1097826087\n",
      "Average Flesch-Kincaid grade for wsj stories: 8.14912280702\n",
      "Average Flesch-Kincaid grade for cnn stories: 10.1666666667\n",
      "Average Flesch-Kincaid grade for fox stories: 9.68315789474\n",
      "Average Flesch-Kincaid grade for ap stories: 10.0948453608\n",
      "Average Flesch-Kincaid grade for reuters stories: 10.0108108108\n",
      "Average Flesch-Kincaid grade for politico stories: 8.87786885246\n",
      "Average Flesch-Kincaid grade for mcclatchy stories: 9.16875\n",
      "Average Flesch-Kincaid grade for buzzfeed stories: 11.7\n",
      "Average Flesch-Kincaid grade for huffpo stories: 10.5843137255\n",
      "Average Flesch-Kincaid grade for latimes stories: 9.83409090909\n"
     ]
    }
   ],
   "source": [
    "orgs = ['nyt', 'wsj', 'cnn', 'fox', 'ap', 'reuters', 'politico', 'mcclatchy', 'buzzfeed', 'huffpo','latimes']\n",
    "for o in orgs:\n",
    "    sanders_df['flesch_' + o] = sanders_df[sanders_df['org'] == o]['body'].apply(lambda x: textstat.flesch_kincaid_grade(x) if type(x) == str else None)\n",
    "    print \"Average Flesch-Kincaid grade for \" + o + \" stories:\", sanders_df['flesch_' + o].mean()\n",
    "    # Average Flesch-Kincaid grade for AP stories: 9.97941176471\n",
    "    "
   ]
  },
  {
   "cell_type": "code",
   "execution_count": 7,
   "metadata": {
    "collapsed": false
   },
   "outputs": [
    {
     "data": {
      "text/plain": [
       "<matplotlib.text.Text at 0x108df6c10>"
      ]
     },
     "execution_count": 7,
     "metadata": {},
     "output_type": "execute_result"
    },
    {
     "data": {
      "image/png": "[encoded data removed]",
      "text/plain": [
       "<matplotlib.figure.Figure at 0x109003790>"
      ]
     },
     "metadata": {},
     "output_type": "display_data"
    }
   ],
   "source": [
    "o = 'nyt'\n",
    "sanders_df['flesch_'+ o].hist().set_xlabel(\"Flesch Reading Level \" + o) "
   ]
  },
  {
   "cell_type": "code",
   "execution_count": 8,
   "metadata": {
    "collapsed": false
   },
   "outputs": [
    {
     "name": "stdout",
     "output_type": "stream",
     "text": [
      "Average Gunning Fog grade for nyt stories: 8.45217391304\n",
      "Average Gunning Fog grade for wsj stories: 8.14035087719\n",
      "Average Gunning Fog grade for cnn stories: 10.1032258065\n",
      "Average Gunning Fog grade for fox stories: 9.37263157895\n",
      "Average Gunning Fog grade for ap stories: 9.71134020619\n",
      "Average Gunning Fog grade for reuters stories: 9.44864864865\n",
      "Average Gunning Fog grade for politico stories: 10.7442622951\n",
      "Average Gunning Fog grade for mcclatchy stories: 8.85\n",
      "Average Gunning Fog grade for buzzfeed stories: 10.6\n",
      "Average Gunning Fog grade for huffpo stories: 9.82156862745\n",
      "Average Gunning Fog grade for latimes stories: 9.18181818182\n"
     ]
    }
   ],
   "source": [
    "for o in orgs:\n",
    "    sanders_df['gunning_' + o] = sanders_df[sanders_df['org'] == o]['body'].apply(lambda x: textstat.gunning_fog(x) if type(x) == str else None)\n",
    "    print \"Average Gunning Fog grade for \" + o + \" stories:\", sanders_df['gunning_' + o].mean()\n",
    "    # Average Flesch-Kincaid grade for AP stories: 9.97941176471\n",
    "    "
   ]
  },
  {
   "cell_type": "code",
   "execution_count": 9,
   "metadata": {
    "collapsed": false
   },
   "outputs": [
    {
     "name": "stdout",
     "output_type": "stream",
     "text": [
      "Average F-K Reading Ease for nyt stories: 65.6797826087\n",
      "Average F-K Reading Ease for wsj stories: 64.0598245614\n",
      "Average F-K Reading Ease for cnn stories: 58.2835483871\n",
      "Average F-K Reading Ease for fox stories: 58.4686315789\n",
      "Average F-K Reading Ease for ap stories: 56.9681443299\n",
      "Average F-K Reading Ease for reuters stories: 56.4635135135\n",
      "Average F-K Reading Ease for politico stories: 70.3695901639\n",
      "Average F-K Reading Ease for mcclatchy stories: 59.911875\n",
      "Average F-K Reading Ease for buzzfeed stories: 49.655\n",
      "Average F-K Reading Ease for huffpo stories: 54.0353921569\n",
      "Average F-K Reading Ease for latimes stories: 56.5215909091\n"
     ]
    }
   ],
   "source": [
    "for o in orgs:\n",
    "    sanders_df['ease_' + o] = sanders_df[sanders_df['org'] == o]['body'].apply(lambda x: textstat.flesch_reading_ease(x) if type(x) == str else None)\n",
    "    print \"Average F-K Reading Ease for \" + o + \" stories:\", sanders_df['ease_' + o].mean()\n",
    " \n",
    "    "
   ]
  },
  {
   "cell_type": "code",
   "execution_count": null,
   "metadata": {
    "collapsed": true
   },
   "outputs": [],
   "source": []
  }
 ],
 "metadata": {
  "kernelspec": {
   "display_name": "Python 2",
   "language": "python",
   "name": "python2"
  },
  "language_info": {
   "codemirror_mode": {
    "name": "ipython",
    "version": 2
   },
   "file_extension": ".py",
   "mimetype": "text/x-python",
   "name": "python",
   "nbconvert_exporter": "python",
   "pygments_lexer": "ipython2",
   "version": "2.7.10"
  }
 },
 "nbformat": 4,
 "nbformat_minor": 0
}
