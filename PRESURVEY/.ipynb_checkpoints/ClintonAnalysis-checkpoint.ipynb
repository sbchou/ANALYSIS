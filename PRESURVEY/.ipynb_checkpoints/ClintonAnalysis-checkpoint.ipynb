{
 "cells": [
  {
   "cell_type": "code",
   "execution_count": 2,
   "metadata": {
    "collapsed": true
   },
   "outputs": [],
   "source": [
    "from textstat.textstat import textstat\n",
    "import csv"
   ]
  },
  {
   "cell_type": "code",
   "execution_count": 15,
   "metadata": {
    "collapsed": false
   },
   "outputs": [],
   "source": [
    "with open('data/fox_redacted.csv', 'rb') as f:\n",
    "    reader = csv.reader(f)\n",
    "    for row in reader:\n",
    "        title, url, org, date_written, byline, text = row\n",
    "        if text:\n",
    "            pass\n",
    "            #print textstat.flesch_reading_ease(text)\n",
    "            #print textstat.smog_index(text)\n",
    "            #print textstat.flesch_kincaid_grade(text)\n",
    "            #print textstat.coleman_liau_index(text)\n",
    "            #print textstat.automated_readability_index(text)\n",
    "            #print textstat.dale_chall_readability_score(text)\n",
    "            #print textstat.difficult_words(text)\n",
    "            #print textstat.linsear_write_formula(text)\n",
    "            #print textstat.gunning_fog(text)\n",
    "            #print textstat.text_standard(text)\n",
    "        else:\n",
    "            pass\n",
    "            #print title"
   ]
  },
  {
   "cell_type": "code",
   "execution_count": 46,
   "metadata": {
    "collapsed": true
   },
   "outputs": [],
   "source": [
    "import pandas\n",
    "import matplotlib\n",
    "matplotlib.style.use('ggplot')\n",
    "%matplotlib inline"
   ]
  },
  {
   "cell_type": "markdown",
   "metadata": {},
   "source": [
    "# Reading Level Analysis for AP"
   ]
  },
  {
   "cell_type": "code",
   "execution_count": 64,
   "metadata": {
    "collapsed": false
   },
   "outputs": [
    {
     "data": {
      "text/html": [
       "<div>\n",
       "<table border=\"1\" class=\"dataframe\">\n",
       "  <thead>\n",
       "    <tr style=\"text-align: right;\">\n",
       "      <th></th>\n",
       "      <th>title</th>\n",
       "      <th>url</th>\n",
       "      <th>org</th>\n",
       "      <th>date_written</th>\n",
       "      <th>byline</th>\n",
       "      <th>body</th>\n",
       "    </tr>\n",
       "  </thead>\n",
       "  <tbody>\n",
       "    <tr>\n",
       "      <th>0</th>\n",
       "      <td>XXX delegate count: Trump not yet on track to ...</td>\n",
       "      <td>http://hosted2.ap.org/APDEFAULT/3d281c11a96b4a...</td>\n",
       "      <td>ap</td>\n",
       "      <td>3/2/2016 20:49:56</td>\n",
       "      <td>NaN</td>\n",
       "      <td>Despite Donald Trump's string of Super Tuesday...</td>\n",
       "    </tr>\n",
       "    <tr>\n",
       "      <th>1</th>\n",
       "      <td>XXX News Guide: Decision night, Super Tuesday</td>\n",
       "      <td>http://hosted2.ap.org/APDEFAULT/386c25518f4641...</td>\n",
       "      <td>ap</td>\n",
       "      <td>3/2/2016 4:50:01</td>\n",
       "      <td>NaN</td>\n",
       "      <td>Democrat Hillary Clinton and Republican Donald...</td>\n",
       "    </tr>\n",
       "    <tr>\n",
       "      <th>2</th>\n",
       "      <td>XXX News Guide: Super Tuesday is super 'nail-b...</td>\n",
       "      <td>http://hosted2.ap.org/APDEFAULT/89ae8247abe849...</td>\n",
       "      <td>ap</td>\n",
       "      <td>3/1/2016 9:22:27</td>\n",
       "      <td>NaN</td>\n",
       "      <td>Super Tuesday is the big gulp moment for any p...</td>\n",
       "    </tr>\n",
       "    <tr>\n",
       "      <th>3</th>\n",
       "      <td>Before Trump, there was Jesse Ventura _ and a ...</td>\n",
       "      <td>http://hosted2.ap.org/apdefault/89ae8247abe849...</td>\n",
       "      <td>ap</td>\n",
       "      <td>3/1/2016 14:23:15</td>\n",
       "      <td>NaN</td>\n",
       "      <td>He was a candidate few thought stood a chance....</td>\n",
       "    </tr>\n",
       "    <tr>\n",
       "      <th>4</th>\n",
       "      <td>Ben Carson says 'no path forward' in his bid f...</td>\n",
       "      <td>http://hosted2.ap.org/APDEFAULT/3d281c11a96b4a...</td>\n",
       "      <td>ap</td>\n",
       "      <td>3/2/2016 20:49:56</td>\n",
       "      <td>NaN</td>\n",
       "      <td>Retired neurosurgeon Ben Carson said he is eff...</td>\n",
       "    </tr>\n",
       "  </tbody>\n",
       "</table>\n",
       "</div>"
      ],
      "text/plain": [
       "                                               title  \\\n",
       "0  XXX delegate count: Trump not yet on track to ...   \n",
       "1      XXX News Guide: Decision night, Super Tuesday   \n",
       "2  XXX News Guide: Super Tuesday is super 'nail-b...   \n",
       "3  Before Trump, there was Jesse Ventura _ and a ...   \n",
       "4  Ben Carson says 'no path forward' in his bid f...   \n",
       "\n",
       "                                                 url org       date_written  \\\n",
       "0  http://hosted2.ap.org/APDEFAULT/3d281c11a96b4a...  ap  3/2/2016 20:49:56   \n",
       "1  http://hosted2.ap.org/APDEFAULT/386c25518f4641...  ap   3/2/2016 4:50:01   \n",
       "2  http://hosted2.ap.org/APDEFAULT/89ae8247abe849...  ap   3/1/2016 9:22:27   \n",
       "3  http://hosted2.ap.org/apdefault/89ae8247abe849...  ap  3/1/2016 14:23:15   \n",
       "4  http://hosted2.ap.org/APDEFAULT/3d281c11a96b4a...  ap  3/2/2016 20:49:56   \n",
       "\n",
       "   byline                                               body  \n",
       "0     NaN  Despite Donald Trump's string of Super Tuesday...  \n",
       "1     NaN  Democrat Hillary Clinton and Republican Donald...  \n",
       "2     NaN  Super Tuesday is the big gulp moment for any p...  \n",
       "3     NaN  He was a candidate few thought stood a chance....  \n",
       "4     NaN  Retired neurosurgeon Ben Carson said he is eff...  "
      ]
     },
     "execution_count": 64,
     "metadata": {},
     "output_type": "execute_result"
    }
   ],
   "source": [
    "AP_df = pandas.read_csv('data/AP_redacted.csv')\n",
    "\n",
    "AP_df['A'] = df['A'].astype('str')\n",
    "AP_df.head()\n"
   ]
  },
  {
   "cell_type": "code",
   "execution_count": 66,
   "metadata": {
    "collapsed": false
   },
   "outputs": [
    {
     "name": "stdout",
     "output_type": "stream",
     "text": [
      "Average Flesch-Kincaid grade for AP stories: 9.97941176471\n"
     ]
    },
    {
     "data": {
      "text/plain": [
       "<matplotlib.text.Text at 0x10c6f96d0>"
      ]
     },
     "execution_count": 66,
     "metadata": {},
     "output_type": "execute_result"
    },
    {
     "data": {
      "image/png": "[encoded data removed]",
      "text/plain": [
       "<matplotlib.figure.Figure at 0x10d3cf7d0>"
      ]
     },
     "metadata": {},
     "output_type": "display_data"
    }
   ],
   "source": [
    "AP_df['flesch'] = AP_df['body'].apply(lambda x: textstat.flesch_kincaid_grade(x) if type(x) == str else None)\n",
    "print \"Average Flesch-Kincaid grade for AP stories:\", AP_df['flesch'].mean()\n",
    "# Average Flesch-Kincaid grade for AP stories: 9.97941176471\n",
    "AP_df['flesch'].hist().set_xlabel(\"Flesch Reading Level\") "
   ]
  },
  {
   "cell_type": "code",
   "execution_count": 67,
   "metadata": {
    "collapsed": false,
    "scrolled": true
   },
   "outputs": [
    {
     "name": "stdout",
     "output_type": "stream",
     "text": [
      "Average Gunning-Fog grade for AP stories: 9.57647058824\n"
     ]
    },
    {
     "data": {
      "text/plain": [
       "<matplotlib.text.Text at 0x10c96ca90>"
      ]
     },
     "execution_count": 67,
     "metadata": {},
     "output_type": "execute_result"
    },
    {
     "data": {
      "image/png": "[encoded data removed]",
      "text/plain": [
       "<matplotlib.figure.Figure at 0x10d57ec50>"
      ]
     },
     "metadata": {},
     "output_type": "display_data"
    }
   ],
   "source": [
    "AP_df['gunning_fog'] = AP_df['body'].apply(lambda x: textstat.gunning_fog(x) if type(x) == str else None)\n",
    "print \"Average Gunning-Fog grade for AP stories:\", AP_df['gunning_fog'].mean()\n",
    "# Average Flesch-Kincaid grade for AP stories: 9.85789473684\n",
    "AP_df['gunning_fog'].hist().set_xlabel(\"Gunning Fog Reading Level\") "
   ]
  },
  {
   "cell_type": "markdown",
   "metadata": {},
   "source": [
    "# Reading Level Analysis for CNN"
   ]
  },
  {
   "cell_type": "code",
   "execution_count": 60,
   "metadata": {
    "collapsed": false
   },
   "outputs": [
    {
     "data": {
      "text/html": [
       "<div>\n",
       "<table border=\"1\" class=\"dataframe\">\n",
       "  <thead>\n",
       "    <tr style=\"text-align: right;\">\n",
       "      <th></th>\n",
       "      <th>title</th>\n",
       "      <th>url</th>\n",
       "      <th>org</th>\n",
       "      <th>date_written</th>\n",
       "      <th>byline</th>\n",
       "      <th>body</th>\n",
       "    </tr>\n",
       "  </thead>\n",
       "  <tbody>\n",
       "    <tr>\n",
       "      <th>0</th>\n",
       "      <td>6 takeaways from Super Tuesday</td>\n",
       "      <td>http://www.cnn.com/2016/03/02/politics/super-t...</td>\n",
       "      <td>cnn</td>\n",
       "      <td>3/2/2016 6:06:47</td>\n",
       "      <td>NaN</td>\n",
       "      <td>Donald Trump and Hillary Clinton didn't win th...</td>\n",
       "    </tr>\n",
       "    <tr>\n",
       "      <th>1</th>\n",
       "      <td>After GOP establishment 'froze' on Trump, Demo...</td>\n",
       "      <td>http://www.cnn.com/2016/02/29/politics/donald-...</td>\n",
       "      <td>cnn</td>\n",
       "      <td>3/1/2016 4:20:46</td>\n",
       "      <td>NaN</td>\n",
       "      <td>As Donald Trump seems poised for a huge night ...</td>\n",
       "    </tr>\n",
       "    <tr>\n",
       "      <th>2</th>\n",
       "      <td>Ben Carson skipping GOP debate</td>\n",
       "      <td>http://www.cnn.com/2016/03/02/politics/ben-car...</td>\n",
       "      <td>cnn</td>\n",
       "      <td>3/2/2016 19:18:26</td>\n",
       "      <td>NaN</td>\n",
       "      <td>Ben Carson doesn't \"see a political path forwa...</td>\n",
       "    </tr>\n",
       "    <tr>\n",
       "      <th>3</th>\n",
       "      <td>Clinton takes aim at Trump over KKK stumble</td>\n",
       "      <td>http://www.cnn.com/2016/03/01/politics/hillary...</td>\n",
       "      <td>cnn</td>\n",
       "      <td>3/1/2016 20:49:46</td>\n",
       "      <td>NaN</td>\n",
       "      <td>Hillary Clinton on Super Tuesday took aim at D...</td>\n",
       "    </tr>\n",
       "    <tr>\n",
       "      <th>4</th>\n",
       "      <td>Colorado Republicans aren't getting much of a ...</td>\n",
       "      <td>http://www.cnn.com/2016/03/01/politics/colorad...</td>\n",
       "      <td>cnn</td>\n",
       "      <td>3/2/2016 3:53:56</td>\n",
       "      <td>NaN</td>\n",
       "      <td>For Republicans in Colorado, this Super Tuesda...</td>\n",
       "    </tr>\n",
       "  </tbody>\n",
       "</table>\n",
       "</div>"
      ],
      "text/plain": [
       "                                               title  \\\n",
       "0                     6 takeaways from Super Tuesday   \n",
       "1  After GOP establishment 'froze' on Trump, Demo...   \n",
       "2                     Ben Carson skipping GOP debate   \n",
       "3        Clinton takes aim at Trump over KKK stumble   \n",
       "4  Colorado Republicans aren't getting much of a ...   \n",
       "\n",
       "                                                 url  org       date_written  \\\n",
       "0  http://www.cnn.com/2016/03/02/politics/super-t...  cnn   3/2/2016 6:06:47   \n",
       "1  http://www.cnn.com/2016/02/29/politics/donald-...  cnn   3/1/2016 4:20:46   \n",
       "2  http://www.cnn.com/2016/03/02/politics/ben-car...  cnn  3/2/2016 19:18:26   \n",
       "3  http://www.cnn.com/2016/03/01/politics/hillary...  cnn  3/1/2016 20:49:46   \n",
       "4  http://www.cnn.com/2016/03/01/politics/colorad...  cnn   3/2/2016 3:53:56   \n",
       "\n",
       "   byline                                               body  \n",
       "0     NaN  Donald Trump and Hillary Clinton didn't win th...  \n",
       "1     NaN  As Donald Trump seems poised for a huge night ...  \n",
       "2     NaN  Ben Carson doesn't \"see a political path forwa...  \n",
       "3     NaN  Hillary Clinton on Super Tuesday took aim at D...  \n",
       "4     NaN  For Republicans in Colorado, this Super Tuesda...  "
      ]
     },
     "execution_count": 60,
     "metadata": {},
     "output_type": "execute_result"
    }
   ],
   "source": [
    "CNN_df = pandas.read_csv('data/CNN_redacted.csv')\n",
    "CNN_df.head()\n"
   ]
  },
  {
   "cell_type": "code",
   "execution_count": 62,
   "metadata": {
    "collapsed": false
   },
   "outputs": [
    {
     "name": "stdout",
     "output_type": "stream",
     "text": [
      "Average Flesch-Kincaid grade for CNN stories: 9.86571428571\n"
     ]
    },
    {
     "data": {
      "text/plain": [
       "<matplotlib.text.Text at 0x10d5b6750>"
      ]
     },
     "execution_count": 62,
     "metadata": {},
     "output_type": "execute_result"
    },
    {
     "data": {
      "image/png": "[encoded data removed]",
      "text/plain": [
       "<matplotlib.figure.Figure at 0x10d5f0610>"
      ]
     },
     "metadata": {},
     "output_type": "display_data"
    }
   ],
   "source": [
    "CNN_df['flesch'] = CNN_df['body'].apply(lambda x: textstat.flesch_kincaid_grade(x) if type(x) == str else None)\n",
    "print \"Average Flesch-Kincaid grade for CNN stories:\", CNN_df['flesch'].mean()\n",
    "# Average Flesch-Kincaid grade for CNN stories: 9.86571428571\n",
    "CNN_df['flesch'].hist().set_xlabel(\"Flesch Reading Level\") "
   ]
  },
  {
   "cell_type": "code",
   "execution_count": 88,
   "metadata": {
    "collapsed": false
   },
   "outputs": [
    {
     "name": "stdout",
     "output_type": "stream",
     "text": [
      "30    http://www.cnn.com/2016/03/02/politics/super-tuesday-cost-of-votes/index.html\n",
      "Name: url, dtype: object\n"
     ]
    }
   ],
   "source": [
    "pandas.options.display.max_colwidth=100000000\n",
    "print CNN_df[CNN_df['flesch'] < 5].url"
   ]
  },
  {
   "cell_type": "code",
   "execution_count": 63,
   "metadata": {
    "collapsed": false,
    "scrolled": true
   },
   "outputs": [
    {
     "name": "stdout",
     "output_type": "stream",
     "text": [
      "Average Gunning-Fog grade for CNN stories: 9.92\n"
     ]
    },
    {
     "data": {
      "text/plain": [
       "<matplotlib.text.Text at 0x10ca53d90>"
      ]
     },
     "execution_count": 63,
     "metadata": {},
     "output_type": "execute_result"
    },
    {
     "data": {
      "image/png": "[encoded data removed]",
      "text/plain": [
       "<matplotlib.figure.Figure at 0x10cf0fe10>"
      ]
     },
     "metadata": {},
     "output_type": "display_data"
    }
   ],
   "source": [
    "CNN_df['gunning_fog'] = CNN_df['body'].apply(lambda x: textstat.gunning_fog(x) if type(x) == str else None)\n",
    "print \"Average Gunning-Fog grade for CNN stories:\", CNN_df['gunning_fog'].mean()\n",
    "# Average Flesch-Kincaid grade for CNN stories: 9.92\n",
    "Fox_df['gunning_fog'].hist().set_xlabel(\"Gunning Fog Reading Level\") "
   ]
  },
  {
   "cell_type": "markdown",
   "metadata": {},
   "source": [
    "# Reading Level Analysis for Fox News"
   ]
  },
  {
   "cell_type": "code",
   "execution_count": 47,
   "metadata": {
    "collapsed": false
   },
   "outputs": [
    {
     "data": {
      "text/html": [
       "<div>\n",
       "<table border=\"1\" class=\"dataframe\">\n",
       "  <thead>\n",
       "    <tr style=\"text-align: right;\">\n",
       "      <th></th>\n",
       "      <th>title</th>\n",
       "      <th>url</th>\n",
       "      <th>org</th>\n",
       "      <th>date_written</th>\n",
       "      <th>byline</th>\n",
       "      <th>body</th>\n",
       "    </tr>\n",
       "  </thead>\n",
       "  <tbody>\n",
       "    <tr>\n",
       "      <th>0</th>\n",
       "      <td>After disappointing Super Tuesday, Kasich turn...</td>\n",
       "      <td>http://feeds.foxnews.com/~r/foxnews/most-popul...</td>\n",
       "      <td>fox</td>\n",
       "      <td>3/1/2016 23:04:00</td>\n",
       "      <td>NaN</td>\n",
       "      <td>Ohio Gov. John Kasich maintained that the Repu...</td>\n",
       "    </tr>\n",
       "    <tr>\n",
       "      <th>1</th>\n",
       "      <td>Bernie Sanders campaign raises $42M in February</td>\n",
       "      <td>http://feeds.foxnews.com/~r/foxnews/politics/~...</td>\n",
       "      <td>fox</td>\n",
       "      <td>3/1/2016 7:58:00</td>\n",
       "      <td>NaN</td>\n",
       "      <td>Ahead of a possible make-or-break Super Tuesda...</td>\n",
       "    </tr>\n",
       "    <tr>\n",
       "      <th>2</th>\n",
       "      <td>BREAKING NEWS Ben Carson bows out of Fox News ...</td>\n",
       "      <td>http://www.foxnews.com/politics/2016/03/02/car...</td>\n",
       "      <td>fox</td>\n",
       "      <td>3/2/2016 19:28:36</td>\n",
       "      <td>NaN</td>\n",
       "      <td>Republican presidential candidate Ben Carson a...</td>\n",
       "    </tr>\n",
       "    <tr>\n",
       "      <th>3</th>\n",
       "      <td>BREAKING NEWS: TRUMP AND CLINTON PROJECTED TO ...</td>\n",
       "      <td>http://www.foxnews.com/politics/2016/03/01/fox...</td>\n",
       "      <td>fox</td>\n",
       "      <td>3/2/2016 0:38:27</td>\n",
       "      <td>NaN</td>\n",
       "      <td>DEVELOPING ... \\nXXX projects that Donald Trum...</td>\n",
       "    </tr>\n",
       "    <tr>\n",
       "      <th>4</th>\n",
       "      <td>BREAKING NEWS: Trump projected to win Alabama,...</td>\n",
       "      <td>http://www.foxnews.com/politics/2016/03/01/fox...</td>\n",
       "      <td>fox</td>\n",
       "      <td>3/2/2016 1:05:33</td>\n",
       "      <td>NaN</td>\n",
       "      <td>DEVELOPING ... \\nDonald Trump and Hillary Clin...</td>\n",
       "    </tr>\n",
       "  </tbody>\n",
       "</table>\n",
       "</div>"
      ],
      "text/plain": [
       "                                               title  \\\n",
       "0  After disappointing Super Tuesday, Kasich turn...   \n",
       "1    Bernie Sanders campaign raises $42M in February   \n",
       "2  BREAKING NEWS Ben Carson bows out of Fox News ...   \n",
       "3  BREAKING NEWS: TRUMP AND CLINTON PROJECTED TO ...   \n",
       "4  BREAKING NEWS: Trump projected to win Alabama,...   \n",
       "\n",
       "                                                 url  org       date_written  \\\n",
       "0  http://feeds.foxnews.com/~r/foxnews/most-popul...  fox  3/1/2016 23:04:00   \n",
       "1  http://feeds.foxnews.com/~r/foxnews/politics/~...  fox   3/1/2016 7:58:00   \n",
       "2  http://www.foxnews.com/politics/2016/03/02/car...  fox  3/2/2016 19:28:36   \n",
       "3  http://www.foxnews.com/politics/2016/03/01/fox...  fox   3/2/2016 0:38:27   \n",
       "4  http://www.foxnews.com/politics/2016/03/01/fox...  fox   3/2/2016 1:05:33   \n",
       "\n",
       "   byline                                               body  \n",
       "0     NaN  Ohio Gov. John Kasich maintained that the Repu...  \n",
       "1     NaN  Ahead of a possible make-or-break Super Tuesda...  \n",
       "2     NaN  Republican presidential candidate Ben Carson a...  \n",
       "3     NaN  DEVELOPING ... \\nXXX projects that Donald Trum...  \n",
       "4     NaN  DEVELOPING ... \\nDonald Trump and Hillary Clin...  "
      ]
     },
     "execution_count": 47,
     "metadata": {},
     "output_type": "execute_result"
    }
   ],
   "source": [
    "Fox_df = pandas.read_csv('data/FOX_redacted.csv')\n",
    "Fox_df.head()\n"
   ]
  },
  {
   "cell_type": "code",
   "execution_count": 55,
   "metadata": {
    "collapsed": false
   },
   "outputs": [
    {
     "name": "stdout",
     "output_type": "stream",
     "text": [
      "Average Flesch-Kincaid grade for Fox stories: 9.85789473684\n"
     ]
    },
    {
     "data": {
      "text/plain": [
       "<matplotlib.text.Text at 0x10cb90710>"
      ]
     },
     "execution_count": 55,
     "metadata": {},
     "output_type": "execute_result"
    },
    {
     "data": {
      "image/png": "[encoded data removed]",
      "text/plain": [
       "<matplotlib.figure.Figure at 0x10c3acbd0>"
      ]
     },
     "metadata": {},
     "output_type": "display_data"
    }
   ],
   "source": [
    "Fox_df['flesch'] = Fox_df['body'].apply(lambda x: textstat.flesch_kincaid_grade(x) if type(x) == str else None)\n",
    "print \"Average Flesch-Kincaid grade for Fox stories:\", Fox_df['flesch'].mean()\n",
    "# Average Flesch-Kincaid grade for Fox stories: 9.85789473684\n",
    "Fox_df['flesch'].hist().set_xlabel(\"Flesch Reading Level\") "
   ]
  },
  {
   "cell_type": "code",
   "execution_count": 58,
   "metadata": {
    "collapsed": false,
    "scrolled": true
   },
   "outputs": [
    {
     "name": "stdout",
     "output_type": "stream",
     "text": [
      "Average Gunning-Fog grade for Fox stories: 9.81052631579\n"
     ]
    },
    {
     "data": {
      "text/plain": [
       "<matplotlib.text.Text at 0x10d140b10>"
      ]
     },
     "execution_count": 58,
     "metadata": {},
     "output_type": "execute_result"
    },
    {
     "data": {
      "image/png": "[encoded data removed]",
      "text/plain": [
       "<matplotlib.figure.Figure at 0x10ce3d7d0>"
      ]
     },
     "metadata": {},
     "output_type": "display_data"
    }
   ],
   "source": [
    "Fox_df['gunning_fog'] = Fox_df['body'].apply(lambda x: textstat.gunning_fog(x) if type(x) == str else None)\n",
    "print \"Average Gunning-Fog grade for Fox stories:\", Fox_df['gunning_fog'].mean()\n",
    "# Average Flesch-Kincaid grade for Fox stories: 9.85789473684\n",
    "Fox_df['gunning_fog'].hist().set_xlabel(\"Gunning Fog Reading Level\") "
   ]
  },
  {
   "cell_type": "code",
   "execution_count": null,
   "metadata": {
    "collapsed": true
   },
   "outputs": [],
   "source": []
  }
 ],
 "metadata": {
  "kernelspec": {
   "display_name": "Python 2",
   "language": "python",
   "name": "python2"
  },
  "language_info": {
   "codemirror_mode": {
    "name": "ipython",
    "version": 2
   },
   "file_extension": ".py",
   "mimetype": "text/x-python",
   "name": "python",
   "nbconvert_exporter": "python",
   "pygments_lexer": "ipython2",
   "version": "2.7.10"
  }
 },
 "nbformat": 4,
 "nbformat_minor": 0
}
