{
 "cells": [
  {
   "cell_type": "code",
   "execution_count": 60,
   "metadata": {
    "collapsed": true
   },
   "outputs": [],
   "source": [
    "from textstat.textstat import textstat\n",
    "import csv\n",
    "import pandas\n",
    "import matplotlib\n",
    "#matplotlib.style.use('ggplot')\n",
    "%matplotlib inline\n",
    "import ast\n",
    "pandas.options.display.max_colwidth = 100000"
   ]
  },
  {
   "cell_type": "code",
   "execution_count": 61,
   "metadata": {
    "collapsed": true
   },
   "outputs": [],
   "source": [
    "def flatten(l):\n",
    "    return [item for sublist in l for item in sublist]"
   ]
  },
  {
   "cell_type": "markdown",
   "metadata": {},
   "source": [
    "## survey size = 5 stories + 1 Gold\n",
    "## 120 stories total = 24 surveys (24 rows)\n",
    "## x 2 = 48 rows"
   ]
  },
  {
   "cell_type": "code",
   "execution_count": 62,
   "metadata": {
    "collapsed": true
   },
   "outputs": [],
   "source": [
    "GROUP_A = pandas.read_csv('data/FOR_SURVEY/all_cleaned_new_flesch.csv')\n",
    "GROUP_B = pandas.read_csv('data/FOR_SURVEY/all_redacted_new_flesch.csv')"
   ]
  },
  {
   "cell_type": "code",
   "execution_count": 63,
   "metadata": {
    "collapsed": false
   },
   "outputs": [
    {
     "data": {
      "text/plain": [
       "120"
      ]
     },
     "execution_count": 63,
     "metadata": {},
     "output_type": "execute_result"
    }
   ],
   "source": [
    "len(GROUP_A)\n",
    "len(GROUP_B)"
   ]
  },
  {
   "cell_type": "markdown",
   "metadata": {
    "collapsed": false
   },
   "source": [
    " ## Sample Group A: No redaction."
   ]
  },
  {
   "cell_type": "code",
   "execution_count": 64,
   "metadata": {
    "collapsed": false
   },
   "outputs": [],
   "source": [
    "test = GROUP_A.copy()\n",
    "len(test)\n",
    "samples = []\n",
    "for i in xrange(24):\n",
    "    t = test.sample(5)\n",
    "    samples.append(t)\n",
    "    test = test.drop(t.index)"
   ]
  },
  {
   "cell_type": "code",
   "execution_count": 65,
   "metadata": {
    "collapsed": false
   },
   "outputs": [
    {
     "name": "stdout",
     "output_type": "stream",
     "text": [
      "\n",
      "cruz       2\n",
      "clinton    2\n",
      "sanders    1\n",
      "\n",
      "Foreign Policy/National Security    2\n",
      "Campaign Finance                    2\n",
      "Immigration                         1\n",
      "\n"
     ]
    },
    {
     "data": {
      "image/png": "[encoded data removed]",
      "text/plain": [
       "<matplotlib.figure.Figure at 0x108a39210>"
      ]
     },
     "metadata": {},
     "output_type": "display_data"
    },
    {
     "name": "stdout",
     "output_type": "stream",
     "text": [
      "\n",
      "##################################################\n",
      "\n",
      "sanders    2\n",
      "clinton    2\n",
      "cruz       1\n",
      "\n",
      "Campaign Finance                    3\n",
      "Foreign Policy/National Security    1\n",
      "Immigration                         1\n",
      "\n"
     ]
    },
    {
     "data": {
      "image/png": "[encoded data removed]",
      "text/plain": [
       "<matplotlib.figure.Figure at 0x105ee5510>"
      ]
     },
     "metadata": {},
     "output_type": "display_data"
    },
    {
     "name": "stdout",
     "output_type": "stream",
     "text": [
      "\n",
      "##################################################\n",
      "\n",
      "trump      2\n",
      "clinton    1\n",
      "cruz       1\n",
      "sanders    1\n",
      "\n",
      "Foreign Policy/National Security    3\n",
      "Immigration                         1\n",
      "Campaign Finance                    1\n",
      "\n"
     ]
    },
    {
     "data": {
      "image/png": "[encoded data removed]",
      "text/plain": [
       "<matplotlib.figure.Figure at 0x109098c90>"
      ]
     },
     "metadata": {},
     "output_type": "display_data"
    },
    {
     "name": "stdout",
     "output_type": "stream",
     "text": [
      "\n",
      "##################################################\n",
      "\n",
      "sanders    2\n",
      "trump      1\n",
      "clinton    1\n",
      "cruz       1\n",
      "\n",
      "Immigration                         2\n",
      "Campaign Finance                    2\n",
      "Foreign Policy/National Security    1\n",
      "\n"
     ]
    },
    {
     "data": {
      "image/png": "[encoded data removed]",
      "text/plain": [
       "<matplotlib.figure.Figure at 0x109394b50>"
      ]
     },
     "metadata": {},
     "output_type": "display_data"
    },
    {
     "name": "stdout",
     "output_type": "stream",
     "text": [
      "\n",
      "##################################################\n",
      "\n",
      "clinton    2\n",
      "trump      1\n",
      "cruz       1\n",
      "sanders    1\n",
      "\n",
      "Campaign Finance                    3\n",
      "Foreign Policy/National Security    1\n",
      "Immigration                         1\n",
      "\n"
     ]
    },
    {
     "data": {
      "image/png": "[encoded data removed]",
      "text/plain": [
       "<matplotlib.figure.Figure at 0x109098150>"
      ]
     },
     "metadata": {},
     "output_type": "display_data"
    },
    {
     "name": "stdout",
     "output_type": "stream",
     "text": [
      "\n",
      "##################################################\n",
      "\n",
      "cruz       3\n",
      "sanders    1\n",
      "clinton    1\n",
      "\n",
      "Foreign Policy/National Security    2\n",
      "Campaign Finance                    2\n",
      "Immigration                         1\n",
      "\n"
     ]
    },
    {
     "data": {
      "image/png": "[encoded data removed]",
      "text/plain": [
       "<matplotlib.figure.Figure at 0x109076690>"
      ]
     },
     "metadata": {},
     "output_type": "display_data"
    },
    {
     "name": "stdout",
     "output_type": "stream",
     "text": [
      "\n",
      "##################################################\n",
      "\n",
      "clinton    2\n",
      "trump      1\n",
      "cruz       1\n",
      "sanders    1\n",
      "\n",
      "Campaign Finance    3\n",
      "Immigration         2\n",
      "\n"
     ]
    },
    {
     "data": {
      "image/png": "[encoded data removed]",
      "text/plain": [
       "<matplotlib.figure.Figure at 0x108578e10>"
      ]
     },
     "metadata": {},
     "output_type": "display_data"
    },
    {
     "name": "stdout",
     "output_type": "stream",
     "text": [
      "\n",
      "##################################################\n",
      "\n",
      "cruz       2\n",
      "trump      2\n",
      "sanders    1\n",
      "\n",
      "Immigration         3\n",
      "Campaign Finance    2\n",
      "\n"
     ]
    },
    {
     "data": {
      "image/png": "[encoded data removed]",
      "text/plain": [
       "<matplotlib.figure.Figure at 0x108e812d0>"
      ]
     },
     "metadata": {},
     "output_type": "display_data"
    },
    {
     "name": "stdout",
     "output_type": "stream",
     "text": [
      "\n",
      "##################################################\n",
      "\n",
      "trump    3\n",
      "cruz     2\n",
      "\n",
      "Campaign Finance    2\n",
      "Abortion            2\n",
      "Immigration         1\n",
      "\n"
     ]
    },
    {
     "data": {
      "image/png": "[encoded data removed]",
      "text/plain": [
       "<matplotlib.figure.Figure at 0x10970b410>"
      ]
     },
     "metadata": {},
     "output_type": "display_data"
    },
    {
     "name": "stdout",
     "output_type": "stream",
     "text": [
      "\n",
      "##################################################\n",
      "\n",
      "sanders    3\n",
      "trump      1\n",
      "clinton    1\n",
      "\n",
      "Immigration         2\n",
      "Campaign Finance    2\n",
      "Abortion            1\n",
      "\n"
     ]
    },
    {
     "data": {
      "image/png": "[encoded data removed]",
      "text/plain": [
       "<matplotlib.figure.Figure at 0x10984bd90>"
      ]
     },
     "metadata": {},
     "output_type": "display_data"
    },
    {
     "name": "stdout",
     "output_type": "stream",
     "text": [
      "\n",
      "##################################################\n",
      "\n",
      "sanders    2\n",
      "clinton    2\n",
      "cruz       1\n",
      "\n",
      "Campaign Finance    3\n",
      "Abortion            1\n",
      "Immigration         1\n",
      "\n"
     ]
    },
    {
     "data": {
      "image/png": "[encoded data removed]",
      "text/plain": [
       "<matplotlib.figure.Figure at 0x109bb3990>"
      ]
     },
     "metadata": {},
     "output_type": "display_data"
    },
    {
     "name": "stdout",
     "output_type": "stream",
     "text": [
      "\n",
      "##################################################\n",
      "\n",
      "cruz       2\n",
      "clinton    2\n",
      "sanders    1\n",
      "\n",
      "Campaign Finance                    3\n",
      "Foreign Policy/National Security    1\n",
      "Abortion                            1\n",
      "\n"
     ]
    },
    {
     "data": {
      "image/png": "[encoded data removed]",
      "text/plain": [
       "<matplotlib.figure.Figure at 0x109076f50>"
      ]
     },
     "metadata": {},
     "output_type": "display_data"
    },
    {
     "name": "stdout",
     "output_type": "stream",
     "text": [
      "\n",
      "##################################################\n",
      "\n",
      "cruz       2\n",
      "sanders    2\n",
      "trump      1\n",
      "\n",
      "Foreign Policy/National Security    2\n",
      "Campaign Finance                    2\n",
      "Immigration                         1\n",
      "\n"
     ]
    },
    {
     "data": {
      "image/png": "[encoded data removed]",
      "text/plain": [
       "<matplotlib.figure.Figure at 0x109394510>"
      ]
     },
     "metadata": {},
     "output_type": "display_data"
    },
    {
     "name": "stdout",
     "output_type": "stream",
     "text": [
      "\n",
      "##################################################\n",
      "\n",
      "clinton    3\n",
      "cruz       1\n",
      "trump      1\n",
      "\n",
      "Foreign Policy/National Security    2\n",
      "Campaign Finance                    2\n",
      "Immigration                         1\n",
      "\n"
     ]
    },
    {
     "data": {
      "image/png": "[encoded data removed]",
      "text/plain": [
       "<matplotlib.figure.Figure at 0x108a85790>"
      ]
     },
     "metadata": {},
     "output_type": "display_data"
    },
    {
     "name": "stdout",
     "output_type": "stream",
     "text": [
      "\n",
      "##################################################\n",
      "\n",
      "cruz       2\n",
      "sanders    2\n",
      "trump      1\n",
      "\n",
      "Campaign Finance    3\n",
      "Immigration         1\n",
      "Abortion            1\n",
      "\n"
     ]
    },
    {
     "data": {
      "image/png": "[encoded data removed]",
      "text/plain": [
       "<matplotlib.figure.Figure at 0x109587890>"
      ]
     },
     "metadata": {},
     "output_type": "display_data"
    },
    {
     "name": "stdout",
     "output_type": "stream",
     "text": [
      "\n",
      "##################################################\n",
      "\n",
      "sanders    3\n",
      "trump      1\n",
      "clinton    1\n",
      "\n",
      "Campaign Finance                    4\n",
      "Foreign Policy/National Security    1\n",
      "\n"
     ]
    },
    {
     "data": {
      "image/png": "[encoded data removed]",
      "text/plain": [
       "<matplotlib.figure.Figure at 0x1097e8850>"
      ]
     },
     "metadata": {},
     "output_type": "display_data"
    },
    {
     "name": "stdout",
     "output_type": "stream",
     "text": [
      "\n",
      "##################################################\n",
      "\n",
      "trump      2\n",
      "clinton    1\n",
      "cruz       1\n",
      "sanders    1\n",
      "\n",
      "Foreign Policy/National Security    2\n",
      "Campaign Finance                    2\n",
      "Immigration                         1\n",
      "\n"
     ]
    },
    {
     "data": {
      "image/png": "[encoded data removed]",
      "text/plain": [
       "<matplotlib.figure.Figure at 0x1093dfd10>"
      ]
     },
     "metadata": {},
     "output_type": "display_data"
    },
    {
     "name": "stdout",
     "output_type": "stream",
     "text": [
      "\n",
      "##################################################\n",
      "\n",
      "trump      3\n",
      "sanders    1\n",
      "cruz       1\n",
      "\n",
      "Immigration         3\n",
      "Campaign Finance    2\n",
      "\n"
     ]
    },
    {
     "data": {
      "image/png": "[encoded data removed]",
      "text/plain": [
       "<matplotlib.figure.Figure at 0x1099990d0>"
      ]
     },
     "metadata": {},
     "output_type": "display_data"
    },
    {
     "name": "stdout",
     "output_type": "stream",
     "text": [
      "\n",
      "##################################################\n",
      "\n",
      "cruz       2\n",
      "trump      2\n",
      "clinton    1\n",
      "\n",
      "Immigration         2\n",
      "Campaign Finance    2\n",
      "Abortion            1\n",
      "\n"
     ]
    },
    {
     "data": {
      "image/png": "[encoded data removed]",
      "text/plain": [
       "<matplotlib.figure.Figure at 0x109ba5690>"
      ]
     },
     "metadata": {},
     "output_type": "display_data"
    },
    {
     "name": "stdout",
     "output_type": "stream",
     "text": [
      "\n",
      "##################################################\n",
      "\n",
      "clinton    3\n",
      "trump      2\n",
      "\n",
      "Foreign Policy/National Security    4\n",
      "Campaign Finance                    1\n",
      "\n"
     ]
    },
    {
     "data": {
      "image/png": "[encoded data removed]",
      "text/plain": [
       "<matplotlib.figure.Figure at 0x108ed3d10>"
      ]
     },
     "metadata": {},
     "output_type": "display_data"
    },
    {
     "name": "stdout",
     "output_type": "stream",
     "text": [
      "\n",
      "##################################################\n",
      "\n",
      "trump      3\n",
      "sanders    1\n",
      "clinton    1\n",
      "\n",
      "Campaign Finance    3\n",
      "Immigration         2\n",
      "\n"
     ]
    },
    {
     "data": {
      "image/png": "[encoded data removed]",
      "text/plain": [
       "<matplotlib.figure.Figure at 0x108ea6450>"
      ]
     },
     "metadata": {},
     "output_type": "display_data"
    },
    {
     "name": "stdout",
     "output_type": "stream",
     "text": [
      "\n",
      "##################################################\n",
      "\n",
      "clinton    3\n",
      "trump      1\n",
      "sanders    1\n",
      "\n",
      "Campaign Finance    4\n",
      "Abortion            1\n",
      "\n"
     ]
    },
    {
     "data": {
      "image/png": "[encoded data removed]",
      "text/plain": [
       "<matplotlib.figure.Figure at 0x108a46490>"
      ]
     },
     "metadata": {},
     "output_type": "display_data"
    },
    {
     "name": "stdout",
     "output_type": "stream",
     "text": [
      "\n",
      "##################################################\n",
      "\n",
      "sanders    2\n",
      "cruz       2\n",
      "trump      1\n",
      "\n",
      "Immigration         2\n",
      "Campaign Finance    2\n",
      "Abortion            1\n",
      "\n"
     ]
    },
    {
     "data": {
      "image/png": "[encoded data removed]",
      "text/plain": [
       "<matplotlib.figure.Figure at 0x10919d290>"
      ]
     },
     "metadata": {},
     "output_type": "display_data"
    },
    {
     "name": "stdout",
     "output_type": "stream",
     "text": [
      "\n",
      "##################################################\n",
      "\n",
      "cruz       2\n",
      "trump      1\n",
      "clinton    1\n",
      "sanders    1\n",
      "\n",
      "Immigration                         2\n",
      "Abortion                            1\n",
      "Foreign Policy/National Security    1\n",
      "Campaign Finance                    1\n",
      "\n"
     ]
    },
    {
     "data": {
      "image/png": "[encoded data removed]",
      "text/plain": [
       "<matplotlib.figure.Figure at 0x108f35e50>"
      ]
     },
     "metadata": {},
     "output_type": "display_data"
    },
    {
     "name": "stdout",
     "output_type": "stream",
     "text": [
      "\n",
      "##################################################\n"
     ]
    }
   ],
   "source": [
    "for s in samples:\n",
    "    print \n",
    "    print s.candidate.value_counts().to_string()\n",
    "    print\n",
    "    print s.top_topic.value_counts().to_string()\n",
    "    print \n",
    "    s.flesch_new.hist()\n",
    "    matplotlib.pyplot.show()\n",
    "    print\n",
    "    print '#' * 50 "
   ]
  },
  {
   "cell_type": "markdown",
   "metadata": {},
   "source": [
    "## Save little dataframes"
   ]
  },
  {
   "cell_type": "code",
   "execution_count": 66,
   "metadata": {
    "collapsed": false
   },
   "outputs": [],
   "source": [
    "for i in xrange(len(samples)):\n",
    "    samples[i].to_csv('../SURVEY/DATA/GROUP_A/sample' + str(i) + '.csv') "
   ]
  },
  {
   "cell_type": "markdown",
   "metadata": {},
   "source": [
    "## Save as one big CSV for group A"
   ]
  },
  {
   "cell_type": "code",
   "execution_count": 67,
   "metadata": {
    "collapsed": false
   },
   "outputs": [],
   "source": [
    "import csv \n",
    "with open('../SURVEY/DATA/GROUP_A.csv', \"wb\") as f:\n",
    "    c = csv.writer(f) \n",
    "    c.writerow(['index_1','title_1','url_1','candidate_1','org_1','top_topic_1','body_1','gunning_fog_1','flesch_1','readability_1',\n",
    "                'index_2','title_2','url_2','candidate_2','org_2','top_topic_2','body_2','gunning_fog_2','flesch_2','readability_2',\n",
    "                'index_3','title_3','url_3','candidate_3','org_3','top_topic_3','body_3','gunning_fog_3','flesch_3','readability_3',\n",
    "                'index_4','title_4','url_4','candidate_4','org_4','top_topic_4','body_4','gunning_fog_4','flesch_4','readability_4',\n",
    "                'index_5','title_5','url_5','candidate_5','org_5','top_topic_5','body_5','gunning_fog_5','flesch_5','readability_5'])\n",
    "    for sample in samples:\n",
    "        x = [list(row[1][['Unnamed: 0','title', u'url', u'candidate', u'org',\\\n",
    "       u'top_topic', u'body', u'gunning_fog_new',\\\n",
    "       u'flesch_new', u'readability']]) for row in sample.iterrows()]\n",
    "        #for row in t.iterrows():\n",
    "        #c.writerow([])\n",
    "        c.writerow(flatten(x))\n",
    "        \n"
   ]
  },
  {
   "cell_type": "code",
   "execution_count": 68,
   "metadata": {
    "collapsed": false
   },
   "outputs": [
    {
     "data": {
      "text/plain": [
       "Index([u'Unnamed: 0', u'Unnamed: 0.1', u'title', u'url', u'candidate', u'org',\n",
       "       u'top_topic', u'flesch', u'gunning_fog', u'body', u'gunning_fog_new',\n",
       "       u'flesch_new', u'readability', u'flesch_diff'],\n",
       "      dtype='object')"
      ]
     },
     "execution_count": 68,
     "metadata": {},
     "output_type": "execute_result"
    }
   ],
   "source": [
    "GROUP_B.columns"
   ]
  },
  {
   "cell_type": "code",
   "execution_count": null,
   "metadata": {
    "collapsed": false
   },
   "outputs": [],
   "source": []
  },
  {
   "cell_type": "markdown",
   "metadata": {
    "collapsed": false
   },
   "source": [
    " # Construct GROUP B big CSV using GROUP A"
   ]
  },
  {
   "cell_type": "code",
   "execution_count": 75,
   "metadata": {
    "collapsed": false
   },
   "outputs": [
    {
     "data": {
      "text/plain": [
       "24"
      ]
     },
     "execution_count": 75,
     "metadata": {},
     "output_type": "execute_result"
    }
   ],
   "source": [
    "new_samples = []\n",
    "for s in samples:\n",
    "    new_samples.append(GROUP_B[GROUP_B['Unnamed: 0'].isin(list(s['Unnamed: 0']))])\n",
    "len(new_samples) "
   ]
  },
  {
   "cell_type": "markdown",
   "metadata": {},
   "source": [
    "## Save little dataframes"
   ]
  },
  {
   "cell_type": "code",
   "execution_count": 76,
   "metadata": {
    "collapsed": false
   },
   "outputs": [],
   "source": [
    "for i in xrange(len(new_samples)):\n",
    "    new_samples[i].to_csv('../SURVEY/DATA/GROUP_B/sample' + str(i) + '.csv')"
   ]
  },
  {
   "cell_type": "markdown",
   "metadata": {},
   "source": [
    "## Save as one big CSV for group B"
   ]
  },
  {
   "cell_type": "code",
   "execution_count": 77,
   "metadata": {
    "collapsed": false
   },
   "outputs": [],
   "source": [
    "import csv \n",
    "with open('../SURVEY/DATA/GROUP_B.csv', \"wb\") as f:\n",
    "    c = csv.writer(f) \n",
    "    c.writerow(['index_1','title_1','url_1','candidate_1','org_1','top_topic_1','body_1','gunning_fog_1','flesch_1','readability_1',\n",
    "                'index_2','title_2','url_2','candidate_2','org_2','top_topic_2','body_2','gunning_fog_2','flesch_2','readability_2',\n",
    "                'index_3','title_3','url_3','candidate_3','org_3','top_topic_3','body_3','gunning_fog_3','flesch_3','readability_3',\n",
    "                'index_4','title_4','url_4','candidate_4','org_4','top_topic_4','body_4','gunning_fog_4','flesch_4','readability_4',\n",
    "                'index_5','title_5','url_5','candidate_5','org_5','top_topic_5','body_5','gunning_fog_5','flesch_5','readability_5'])\n",
    "    for sample in new_samples:\n",
    "        x = [list(row[1][['Unnamed: 0','title', u'url', u'candidate', u'org',\\\n",
    "       u'top_topic', u'body', u'gunning_fog_new',\\\n",
    "       u'flesch_new', u'readability']]) for row in sample.iterrows()]\n",
    "        #for row in t.iterrows():\n",
    "        #c.writerow([])\n",
    "        c.writerow(flatten(x)) "
   ]
  },
  {
   "cell_type": "markdown",
   "metadata": {},
   "source": [
    " "
   ]
  },
  {
   "cell_type": "code",
   "execution_count": null,
   "metadata": {
    "collapsed": false
   },
   "outputs": [],
   "source": []
  },
  {
   "cell_type": "code",
   "execution_count": null,
   "metadata": {
    "collapsed": false
   },
   "outputs": [],
   "source": []
  },
  {
   "cell_type": "code",
   "execution_count": null,
   "metadata": {
    "collapsed": false
   },
   "outputs": [],
   "source": []
  },
  {
   "cell_type": "raw",
   "metadata": {
    "collapsed": false
   },
   "source": [
    "\n"
   ]
  },
  {
   "cell_type": "code",
   "execution_count": null,
   "metadata": {
    "collapsed": false
   },
   "outputs": [],
   "source": []
  },
  {
   "cell_type": "code",
   "execution_count": null,
   "metadata": {
    "collapsed": false
   },
   "outputs": [],
   "source": []
  },
  {
   "cell_type": "code",
   "execution_count": null,
   "metadata": {
    "collapsed": true
   },
   "outputs": [],
   "source": []
  }
 ],
 "metadata": {
  "kernelspec": {
   "display_name": "Python 2",
   "language": "python",
   "name": "python2"
  },
  "language_info": {
   "codemirror_mode": {
    "name": "ipython",
    "version": 2
   },
   "file_extension": ".py",
   "mimetype": "text/x-python",
   "name": "python",
   "nbconvert_exporter": "python",
   "pygments_lexer": "ipython2",
   "version": "2.7.10"
  }
 },
 "nbformat": 4,
 "nbformat_minor": 0
}
