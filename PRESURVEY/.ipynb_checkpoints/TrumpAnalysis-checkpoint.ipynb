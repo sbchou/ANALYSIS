{
 "cells": [
  {
   "cell_type": "code",
   "execution_count": 1,
   "metadata": {
    "collapsed": true
   },
   "outputs": [],
   "source": [
    "from textstat.textstat import textstat\n",
    "import csv"
   ]
  },
  {
   "cell_type": "code",
   "execution_count": 3,
   "metadata": {
    "collapsed": false
   },
   "outputs": [],
   "source": [
    "import pandas\n",
    "import matplotlib\n",
    "#matplotlib.style.use('ggplot')\n",
    "%matplotlib inline"
   ]
  },
  {
   "cell_type": "markdown",
   "metadata": {},
   "source": [
    "# Reading Level Analysis for All Clinton"
   ]
  },
  {
   "cell_type": "code",
   "execution_count": 5,
   "metadata": {
    "collapsed": false
   },
   "outputs": [
    {
     "data": {
      "text/html": [
       "<div>\n",
       "<table border=\"1\" class=\"dataframe\">\n",
       "  <thead>\n",
       "    <tr style=\"text-align: right;\">\n",
       "      <th></th>\n",
       "      <th>title</th>\n",
       "      <th>url</th>\n",
       "      <th>org</th>\n",
       "      <th>date_written</th>\n",
       "      <th>byline</th>\n",
       "      <th>body</th>\n",
       "    </tr>\n",
       "  </thead>\n",
       "  <tbody>\n",
       "    <tr>\n",
       "      <th>0</th>\n",
       "      <td>10 Notable DNC Members From Illinois Announce ...</td>\n",
       "      <td>http://www.huffingtonpost.com/reboot-illinois/...</td>\n",
       "      <td>huffpo</td>\n",
       "      <td>2016-01-29 20:29:56</td>\n",
       "      <td>NaN</td>\n",
       "      <td>Ten prominent Illinoisans and members of the D...</td>\n",
       "    </tr>\n",
       "    <tr>\n",
       "      <th>1</th>\n",
       "      <td>2015 Brought Big Money For Clinton And Bush; S...</td>\n",
       "      <td>http://www.npr.org/2016/02/01/465095927/2015-b...</td>\n",
       "      <td>npr</td>\n",
       "      <td>2016-02-01 17:30:52</td>\n",
       "      <td>NaN</td>\n",
       "      <td>\\n\\n\\n\\ni\\n\\n\\n\\n\\n            Republican pres...</td>\n",
       "    </tr>\n",
       "    <tr>\n",
       "      <th>2</th>\n",
       "      <td>2016 in SC: Chelsea Clinton visits for first t...</td>\n",
       "      <td>http://www.mcclatchydc.com/news/politics-gover...</td>\n",
       "      <td>mcclatchy</td>\n",
       "      <td>2016-02-02 17:06:12</td>\n",
       "      <td>NaN</td>\n",
       "      <td>South Carolina will have finally 2016 campaign...</td>\n",
       "    </tr>\n",
       "    <tr>\n",
       "      <th>3</th>\n",
       "      <td>22 Hillary Clinton emails declared 'top secret...</td>\n",
       "      <td>http://www.politico.com/story/2016/01/22-hilla...</td>\n",
       "      <td>politico</td>\n",
       "      <td>2016-01-29 20:27:10</td>\n",
       "      <td>NaN</td>\n",
       "      <td>\\n01/29/16 03:46 PM EST\\n\\n                   ...</td>\n",
       "    </tr>\n",
       "    <tr>\n",
       "      <th>4</th>\n",
       "      <td>2 Clintons and plenty of Republicans in motion</td>\n",
       "      <td>http://hosted2.ap.org/APDEFAULT/3d281c11a96b4a...</td>\n",
       "      <td>ap</td>\n",
       "      <td>2016-01-04 21:49:34</td>\n",
       "      <td>NaN</td>\n",
       "      <td>BOONE, Iowa (AP) â The sprint to the Iowa ca...</td>\n",
       "    </tr>\n",
       "  </tbody>\n",
       "</table>\n",
       "</div>"
      ],
      "text/plain": [
       "                                               title  \\\n",
       "0  10 Notable DNC Members From Illinois Announce ...   \n",
       "1  2015 Brought Big Money For Clinton And Bush; S...   \n",
       "2  2016 in SC: Chelsea Clinton visits for first t...   \n",
       "3  22 Hillary Clinton emails declared 'top secret...   \n",
       "4     2 Clintons and plenty of Republicans in motion   \n",
       "\n",
       "                                                 url        org  \\\n",
       "0  http://www.huffingtonpost.com/reboot-illinois/...     huffpo   \n",
       "1  http://www.npr.org/2016/02/01/465095927/2015-b...        npr   \n",
       "2  http://www.mcclatchydc.com/news/politics-gover...  mcclatchy   \n",
       "3  http://www.politico.com/story/2016/01/22-hilla...   politico   \n",
       "4  http://hosted2.ap.org/APDEFAULT/3d281c11a96b4a...         ap   \n",
       "\n",
       "          date_written byline  \\\n",
       "0  2016-01-29 20:29:56    NaN   \n",
       "1  2016-02-01 17:30:52    NaN   \n",
       "2  2016-02-02 17:06:12    NaN   \n",
       "3  2016-01-29 20:27:10    NaN   \n",
       "4  2016-01-04 21:49:34    NaN   \n",
       "\n",
       "                                                body  \n",
       "0  Ten prominent Illinoisans and members of the D...  \n",
       "1  \\n\\n\\n\\ni\\n\\n\\n\\n\\n            Republican pres...  \n",
       "2  South Carolina will have finally 2016 campaign...  \n",
       "3  \\n01/29/16 03:46 PM EST\\n\\n                   ...  \n",
       "4  BOONE, Iowa (AP) â The sprint to the Iowa ca...  "
      ]
     },
     "execution_count": 5,
     "metadata": {},
     "output_type": "execute_result"
    }
   ],
   "source": [
    "AP_df = pandas.read_csv('data/all_clinton_select_outlets.csv')\n",
    "\n",
    "#AP_df['A'] = df['A'].astype('str')\n",
    "AP_df.head()\n"
   ]
  },
  {
   "cell_type": "code",
   "execution_count": 6,
   "metadata": {
    "collapsed": false
   },
   "outputs": [
    {
     "name": "stdout",
     "output_type": "stream",
     "text": [
      "Average Flesch-Kincaid grade for AP stories: 9.39360986547\n"
     ]
    },
    {
     "data": {
      "text/plain": [
       "<matplotlib.text.Text at 0x10e6fcb50>"
      ]
     },
     "execution_count": 6,
     "metadata": {},
     "output_type": "execute_result"
    },
    {
     "data": {
      "image/png": "[encoded data removed]",
      "text/plain": [
       "<matplotlib.figure.Figure at 0x110da4c10>"
      ]
     },
     "metadata": {},
     "output_type": "display_data"
    }
   ],
   "source": [
    "AP_df['flesch'] = AP_df['body'].apply(lambda x: textstat.flesch_kincaid_grade(x) if type(x) == str else None)\n",
    "print \"Average Flesch-Kincaid grade for AP stories:\", AP_df['flesch'].mean()\n",
    "# Average Flesch-Kincaid grade for AP stories: 9.97941176471\n",
    "AP_df['flesch'].hist().set_xlabel(\"Flesch Reading Level\") "
   ]
  },
  {
   "cell_type": "code",
   "execution_count": 7,
   "metadata": {
    "collapsed": false,
    "scrolled": true
   },
   "outputs": [
    {
     "name": "stdout",
     "output_type": "stream",
     "text": [
      "Average Gunning-Fog grade for AP stories: 9.79013452915\n"
     ]
    },
    {
     "data": {
      "text/plain": [
       "<matplotlib.text.Text at 0x111255310>"
      ]
     },
     "execution_count": 7,
     "metadata": {},
     "output_type": "execute_result"
    },
    {
     "data": {
      "image/png": "[encoded data removed]",
      "text/plain": [
       "<matplotlib.figure.Figure at 0x10e7f9c50>"
      ]
     },
     "metadata": {},
     "output_type": "display_data"
    }
   ],
   "source": [
    "AP_df['gunning_fog'] = AP_df['body'].apply(lambda x: textstat.gunning_fog(x) if type(x) == str else None)\n",
    "print \"Average Gunning-Fog grade for AP stories:\", AP_df['gunning_fog'].mean()\n",
    "# Average Flesch-Kincaid grade for AP stories: 9.85789473684\n",
    "AP_df['gunning_fog'].hist().set_xlabel(\"Gunning Fog Reading Level\") "
   ]
  },
  {
   "cell_type": "markdown",
   "metadata": {},
   "source": [
    "# Reading level by Org"
   ]
  },
  {
   "cell_type": "code",
   "execution_count": 21,
   "metadata": {
    "collapsed": false
   },
   "outputs": [
    {
     "name": "stdout",
     "output_type": "stream",
     "text": [
      "Average Flesch-Kincaid grade for buzzfeed stories: 13.82\n",
      "Average Flesch-Kincaid grade for nyt stories: 8.27798165138\n",
      "Average Flesch-Kincaid grade for wsj stories: 8.50506329114\n",
      "Average Flesch-Kincaid grade for reuters stories: 10.8339622642\n",
      "Average Flesch-Kincaid grade for ap stories: 9.99852941176\n",
      "Average Flesch-Kincaid grade for politico stories: 9.01948051948\n",
      "Average Flesch-Kincaid grade for huffpo stories: 10.13125\n"
     ]
    }
   ],
   "source": [
    "orgs = ['buzzfeed', 'nyt', 'wsj', 'reuters', 'ap', 'politico', 'huffpo']\n",
    "for o in orgs:\n",
    "    AP_df['flesch_' + o] = AP_df[AP_df['org'] == o]['body'].apply(lambda x: textstat.flesch_kincaid_grade(x) if type(x) == str else None)\n",
    "    print \"Average Flesch-Kincaid grade for \" + o + \" stories:\", AP_df['flesch_' + o].mean()\n",
    "    # Average Flesch-Kincaid grade for AP stories: 9.97941176471\n",
    "    "
   ]
  },
  {
   "cell_type": "code",
   "execution_count": 33,
   "metadata": {
    "collapsed": false
   },
   "outputs": [
    {
     "data": {
      "text/plain": [
       "<matplotlib.text.Text at 0x111b28c10>"
      ]
     },
     "execution_count": 33,
     "metadata": {},
     "output_type": "execute_result"
    },
    {
     "data": {
      "image/png": "[encoded data removed]",
      "text/plain": [
       "<matplotlib.figure.Figure at 0x1117bff10>"
      ]
     },
     "metadata": {},
     "output_type": "display_data"
    }
   ],
   "source": [
    "o = 'nyt'\n",
    "AP_df['flesch_'+ o].hist().set_xlabel(\"Flesch Reading Level \" + o) "
   ]
  },
  {
   "cell_type": "code",
   "execution_count": null,
   "metadata": {
    "collapsed": true
   },
   "outputs": [],
   "source": []
  }
 ],
 "metadata": {
  "kernelspec": {
   "display_name": "Python 2",
   "language": "python",
   "name": "python2"
  },
  "language_info": {
   "codemirror_mode": {
    "name": "ipython",
    "version": 2
   },
   "file_extension": ".py",
   "mimetype": "text/x-python",
   "name": "python",
   "nbconvert_exporter": "python",
   "pygments_lexer": "ipython2",
   "version": "2.7.10"
  }
 },
 "nbformat": 4,
 "nbformat_minor": 0
}
