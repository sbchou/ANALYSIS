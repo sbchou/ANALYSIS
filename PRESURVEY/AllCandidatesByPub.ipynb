{
 "cells": [
  {
   "cell_type": "code",
   "execution_count": 17,
   "metadata": {
    "collapsed": true
   },
   "outputs": [],
   "source": [
    "from textstat.textstat import textstat\n",
    "import csv\n",
    "import pandas\n",
    "import matplotlib\n",
    "#matplotlib.style.use('ggplot')\n",
    "%matplotlib inline"
   ]
  },
  {
   "cell_type": "code",
   "execution_count": 55,
   "metadata": {
    "collapsed": false
   },
   "outputs": [],
   "source": [
    "trump_df = pandas.read_csv('data/all_trump.csv')\n",
    "clinton_df = pandas.read_csv('data/all_clinton.csv')\n",
    "sanders_df = pandas.read_csv('data/all_sanders.csv')\n",
    "cruz_df = pandas.read_csv('data/all_cruz.csv')\n",
    "ORGS = ['nyt', 'wsj', 'cnn', 'fox', 'ap', 'reuters', 'politico', 'mcclatchy', 'buzzfeed', 'huffpo','latimes']\n"
   ]
  },
  {
   "cell_type": "code",
   "execution_count": 56,
   "metadata": {
    "collapsed": false
   },
   "outputs": [],
   "source": [
    "n = len(clinton_df)\n",
    "clinton_df.index = xrange(len(trump_df), (len(trump_df) + n))\n",
    "m = len(sanders_df)\n",
    "sanders_df.index = xrange(max(clinton_df.index), max(clinton_df.index) + m)\n",
    "c = len(cruz_df)\n",
    "cruz_df.index = xrange(max(sanders_df.index), max(sanders_df.index) + c)"
   ]
  },
  {
   "cell_type": "code",
   "execution_count": null,
   "metadata": {
    "collapsed": false
   },
   "outputs": [],
   "source": [
    "all_df = pandas.concat([trump_df,clinton_df, sanders_df, cruz_df]) \n",
    "all_df['gunning_fog'] = all_df['body'].apply(lambda x: textstat.gunning_fog(x) if type(x) == str else None)\n",
    "all_df['flesch'] = all_df['body'].apply(lambda x: textstat.flesch_kincaid_grade(x) if type(x) == str else None)\n",
    "all_df['readability'] = all_df['body'].apply(lambda x: textstat.flesch_reading_ease(x) if type(x) == str else None)"
   ]
  },
  {
   "cell_type": "code",
   "execution_count": 64,
   "metadata": {
    "collapsed": false
   },
   "outputs": [
    {
     "name": "stdout",
     "output_type": "stream",
     "text": [
      "total num stories: 6130\n",
      "total num stories from nyt : 634\n",
      "total num stories from wsj : 373\n",
      "total num stories from cnn : 721\n",
      "total num stories from fox : 648\n",
      "total num stories from ap : 601\n",
      "total num stories from reuters : 297\n",
      "total num stories from politico : 1404\n",
      "total num stories from mcclatchy : 178\n",
      "total num stories from buzzfeed : 88\n",
      "total num stories from huffpo : 836\n",
      "total num stories from latimes : 243\n"
     ]
    }
   ],
   "source": [
    "print \"total num stories:\", len(all_df)\n",
    "for o in ORGS:\n",
    "    print \"total num stories from\", o, \":\", len(all_df[all_df['org'] == o])"
   ]
  },
  {
   "cell_type": "code",
   "execution_count": 65,
   "metadata": {
    "collapsed": false
   },
   "outputs": [
    {
     "name": "stdout",
     "output_type": "stream",
     "text": [
      "Average Flesch-Kincaid grade for nyt stories: 7.52767295597\n",
      "Average Flesch-Kincaid grade for wsj stories: 7.90375335121\n",
      "Average Flesch-Kincaid grade for cnn stories: 9.63106796117\n",
      "Average Flesch-Kincaid grade for fox stories: 9.2549382716\n",
      "Average Flesch-Kincaid grade for ap stories: 9.62196339434\n",
      "Average Flesch-Kincaid grade for reuters stories: 10.165993266\n",
      "Average Flesch-Kincaid grade for politico stories: 8.68668091168\n",
      "Average Flesch-Kincaid grade for mcclatchy stories: 8.63595505618\n",
      "Average Flesch-Kincaid grade for buzzfeed stories: 12.3454545455\n",
      "Average Flesch-Kincaid grade for huffpo stories: 9.82858851675\n",
      "Average Flesch-Kincaid grade for latimes stories: 9.90614754098\n"
     ]
    }
   ],
   "source": [
    " for o in orgs:\n",
    "    all_df['flesch_' + o] = all_df[all_df['org'] == o]['body'].apply(lambda x: textstat.flesch_kincaid_grade(x) if type(x) == str else None)\n",
    "    print \"Average Flesch-Kincaid grade for \" + o + \" stories:\", all_df['flesch_' + o].mean()\n",
    "    # Average Flesch-Kincaid grade for AP stories: 9.97941176471\n",
    "    "
   ]
  },
  {
   "cell_type": "code",
   "execution_count": 67,
   "metadata": {
    "collapsed": false
   },
   "outputs": [
    {
     "data": {
      "text/plain": [
       "<matplotlib.text.Text at 0x1073307d0>"
      ]
     },
     "execution_count": 67,
     "metadata": {},
     "output_type": "execute_result"
    },
    {
     "data": {
      "image/png": "[encoded data removed]",
      "text/plain": [
       "<matplotlib.figure.Figure at 0x107270f10>"
      ]
     },
     "metadata": {},
     "output_type": "display_data"
    }
   ],
   "source": [
    "o = 'nyt'\n",
    "all_df['flesch_'+ o].hist().set_xlabel(\"F-K Reading Level\") \n",
    "all_df[all_df['flesch_']]"
   ]
  },
  {
   "cell_type": "code",
   "execution_count": null,
   "metadata": {
    "collapsed": true
   },
   "outputs": [],
   "source": []
  }
 ],
 "metadata": {
  "kernelspec": {
   "display_name": "Python 2",
   "language": "python",
   "name": "python2"
  },
  "language_info": {
   "codemirror_mode": {
    "name": "ipython",
    "version": 2
   },
   "file_extension": ".py",
   "mimetype": "text/x-python",
   "name": "python",
   "nbconvert_exporter": "python",
   "pygments_lexer": "ipython2",
   "version": "2.7.10"
  }
 },
 "nbformat": 4,
 "nbformat_minor": 0
}
