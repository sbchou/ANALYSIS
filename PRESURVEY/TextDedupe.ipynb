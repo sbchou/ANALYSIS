{
 "cells": [
  {
   "cell_type": "markdown",
   "metadata": {},
   "source": [
    "## Code to clean all the articles and remove dupe sentences then save to CSV :) (these are the correct CSVs to use!)"
   ]
  },
  {
   "cell_type": "markdown",
   "metadata": {},
   "source": [
    "First, import and combine all candidate articles."
   ]
  },
  {
   "cell_type": "code",
   "execution_count": 38,
   "metadata": {
    "collapsed": true
   },
   "outputs": [],
   "source": [
    "from textstat.textstat import textstat\n",
    "import csv\n",
    "import pandas\n",
    "import matplotlib\n",
    "#matplotlib.style.use('ggplot')\n",
    "%matplotlib inline\n",
    "import ast\n",
    "pandas.options.display.max_colwidth = 1000 #for printing long strings\n",
    "\n",
    "trump_df = pandas.read_csv('data/all_trump_w_topics.csv')\n",
    "trump_df['candidate'] = 'trump'\n",
    "clinton_df = pandas.read_csv('data/all_clinton_w_topics.csv')\n",
    "clinton_df['candidate'] = 'clinton'\n",
    "sanders_df = pandas.read_csv('data/all_sanders_w_topics.csv')\n",
    "sanders_df['candidate'] = 'sanders'\n",
    "cruz_df = pandas.read_csv('data/all_cruz_w_topics.csv')\n",
    "cruz_df['candidate'] = 'cruz'\n",
    "\n",
    "n = len(clinton_df) \n",
    "clinton_df.index = xrange(len(trump_df), (len(trump_df) + n))\n",
    "m = len(sanders_df)\n",
    "sanders_df.index = xrange(max(clinton_df.index), max(clinton_df.index) + m)\n",
    "c = len(cruz_df)\n",
    "cruz_df.index = xrange(max(sanders_df.index), max(sanders_df.index) + c)\n",
    "\n",
    "all_df = pandas.concat([trump_df,clinton_df, sanders_df, cruz_df]) "
   ]
  },
  {
   "cell_type": "markdown",
   "metadata": {},
   "source": [
    "# Tokenize & Dedupe Sentences"
   ]
  },
  {
   "cell_type": "code",
   "execution_count": 46,
   "metadata": {
    "collapsed": true
   },
   "outputs": [],
   "source": [
    "# Order preserving uniqifier\n",
    "def uniqify(seq, idfun=None): \n",
    "   # order preserving\n",
    "   if idfun is None:\n",
    "       def idfun(x): return x\n",
    "   seen = {}\n",
    "   result = []\n",
    "   for item in seq:\n",
    "       marker = idfun(item)\n",
    "       # in old Python versions:\n",
    "       # if seen.has_key(marker)\n",
    "       # but in new ones:\n",
    "       if marker in seen: continue\n",
    "       seen[marker] = 1\n",
    "       result.append(item)\n",
    "   return result"
   ]
  },
  {
   "cell_type": "code",
   "execution_count": 139,
   "metadata": {
    "collapsed": false
   },
   "outputs": [],
   "source": [
    "# Regex tokenizer test\n",
    "import re\n",
    "l = re.compile(\"(?<!\\w\\.\\w.)(?<![A-Z][a-z]\\.)(?<=\\.|\\?)\\s\").split(test) \n",
    "l = uniqify(l)\n",
    "l = [x.replace(\"\\n\",'') for x in l]\n",
    "#print '\\n-----\\n'.join(l)"
   ]
  },
  {
   "cell_type": "code",
   "execution_count": 148,
   "metadata": {
    "collapsed": false
   },
   "outputs": [],
   "source": [
    "import nltk.data\n",
    "def dedupe(story):\n",
    "    if type(story) == str:\n",
    "        #story = re.compile(\"(?<!\\w\\.\\w.)(?<![A-Z][a-z]\\.)(?<=\\.|\\?)\\s\").split(story) # tokenize \n",
    "        tokenizer = nltk.data.load('tokenizers/punkt/english.pickle')\n",
    "        story = tokenizer.tokenize(story)\n",
    "        story = uniqify(story) #uniqify\n",
    "        story = [sentence.replace(\"\\n\", \"\") for sentence in story] #remove excess whitespace\n",
    "        story = \"\\n\\n\".join(story) # join that shit back up with newline\n",
    "        return story\n",
    "    else:\n",
    "        return None\n",
    "    \n",
    "import nltk.data\n",
    "def sentences(story):\n",
    "    if type(story) == str:\n",
    "        #story = re.compile(\"(?<!\\w\\.\\w.)(?<![A-Z][a-z]\\.)(?<=\\.|\\?)\\s\").split(story) # tokenize \n",
    "        tokenizer = nltk.data.load('tokenizers/punkt/english.pickle')\n",
    "        story = tokenizer.tokenize(story)\n",
    "        story = uniqify(story) #uniqify\n",
    "        story = [sentence.replace(\"\\n\", \"\") for sentence in story] #remove excess whitespace\n",
    "        return story\n",
    "    else:\n",
    "        return None"
   ]
  },
  {
   "cell_type": "code",
   "execution_count": 149,
   "metadata": {
    "collapsed": false
   },
   "outputs": [],
   "source": [
    "all_df['body_deduped'] = all_df['body'].apply(lambda x: dedupe(x))\n",
    "all_df['sentences'] = all_df['body'].apply(lambda x: sentences(x))"
   ]
  },
  {
   "cell_type": "code",
   "execution_count": 150,
   "metadata": {
    "collapsed": true
   },
   "outputs": [],
   "source": [
    "all_df.to_csv('data/all_candidates_deduped.csv')"
   ]
  },
  {
   "cell_type": "code",
   "execution_count": 136,
   "metadata": {
    "collapsed": true
   },
   "outputs": [],
   "source": [
    "#helper print fun\n",
    "def print_full(x):\n",
    "    pandas.set_option('display.max_rows', len(x))\n",
    "    print(x)\n",
    "    pandas.reset_option('display.max_rows')"
   ]
  },
  {
   "cell_type": "code",
   "execution_count": 151,
   "metadata": {
    "collapsed": false
   },
   "outputs": [
    {
     "name": "stdout",
     "output_type": "stream",
     "text": [
      "http://www.huffingtonpost.com/2016/02/26/hillary-clinton-donald-trump-foundation-speaking-fees_n_9349644.html\n",
      "Millions of dollars in donations to two charitable foundations associated with Hillary Clinton and Donald Trump may not meet the legal standard for charitable gifts, four tax law experts tell The Huffington Post.\n",
      "Clinton and Trump command hundreds of thousands of dollars for their speeches and appearances. But not all of this money goes to them. Significant portions of it are directed to the charitable foundations bearing their names.\n",
      "To qualify as true charitable gifts, donations made to the Donald J. Trump Foundation or the Bill, Hillary and Chelsea Clinton Foundation must come with no strings attached. As the Internal Revenue Service puts it, they must be made \"out of detached and disinterested generosity.\"\n",
      "But as HuffPost reported, many of the donors to Trump's private charitable foundation got something in return from the billionaire at the time they gave to his foundation. Similarly, the Clinton Foundation received millions of dollars in exchange for 16 speeches given by Hillary Clinton, according to a list released by the foundation.\n",
      "Rich people like Clinton and Trump pay accountants and lawyers huge sums to prepare their taxes; it's likely that those people could offer justifications for how the candidates reported their income. But neither the Trump campaign nor Clinton's team would tell HuffPost how they assigned money to their foundations. The IRS will not discuss individual taxpayers. And the tax experts who spoke to HuffPost said they struggled to see how such large sums donated in conjunction with appearances could be considered anything but personal income.\n",
      "Donations that are part of a quid pro quo, in which Trump or Clinton did something in return for the gift, are considered payment for services rendered and part of their income, according to the IRS rules. Such donations to a foundation must be reported as part of the candidates' taxable income. \n",
      "In IRS speak, this is called the \"fruit of the tree\" doctrine, which says that an individual who earns income cannot transfer that income to a third party in order to avoid paying taxes on it. The person who earns the money must report it as his or her own gross income, even if the person doesn't directly receive the money.\n",
      "Suppose, for example, that your neighbors offer to pay you to speak at their kid's school. You agree to do it and tell them that in lieu of payment, they should \"give the money to PETA.\" (You hate fur in this hypothetical.) You never see the money because it goes to PETA. But to the IRS, it's still income that you earned and that you're obligated to include on your tax returns.\n",
      "Hillary Clinton's tax returns and financial disclosures do not contain any mention of more than a quarter-million dollars that Goldman Sachs paid to the Clinton Foundation in exchange for a speech. Trump has not released his tax returns -- despite IRS assurances that he's perfectly free to do so -- so there's no telling yet whether he might have reported donations in lieu of appearance fees as part of his earnings.\n",
      "There is no evidence that the Clinton Foundation or the Trump Foundation did anything improper, said Alice Thomas, an associate professor of law at Howard University and an expert on nonprofit tax law.\n",
      "\"This is an individual taxpayer issue,\" Thomas said. It's the individual who \"exercises control over where [the money] goes,\" she emphasized. \"I'm providing a service, but instead of giving me the check, I'm telling you to give it to the nonprofit.\"\n",
      "From a tax law perspective, that kind of transaction is \"pretty simple,\" Thomas said. \"When you do something for someone, you get income.\" \n",
      "According to tax experts, the Donald J. Trump Foundation's IRS reports do not resemble those of a typical private foundation. Unlike public charities, private foundations do not solicit donations from the general public; their funding typically comes from the members of one wealthy family. But tax returns filed by the Trump Foundation from 2001 to 2014 list dozens of non-familial donors, many of whom did business with Trump enterprises.\n",
      "Over the past seven years, Donald Trump has directed more than $4 million to his foundation, but none of it came directly from the man himself.\n",
      "In 2011, Comedy Central gave the foundation $400,000 -- money that the network told HuffPost it had given in exchange for Trump's appearance on Comedy Central's \"Roast of Donald Trump.\" In 2013, as Trump was busy raising his political profile through frequent appearances on Fox News, the company gave the Trump Foundation $10,000. A spokeswoman for Fox News declined to discuss the gift.\n",
      "Watch Comedy Central's \"Roast of Donald Trump\":\n",
      "\"The basic analysis is that these donations should be counted as income,\" said Roger Colinvaux, a professor of law and director of the Law and Public Policy Program at Catholic University of America in Washington, D.C.\n",
      "\"Under the law, you can't have a contribution if there's a quid pro quo,\" explained Nick Mirkay, a professor of law and associate dean for planning and initiatives at Creighton University School of Law in Omaha, Nebraska. \"If Trump said, 'I will appear in exchange for you making a contribution,' then the money should have been reported on Trump's income tax returns.\"\n",
      "But because Trump hasn't released his tax returns, there is no telling whether he reported this money.\n",
      "Hillary Clinton is connected to two major foundations, one of which has received money only from Clinton family members. The other is the Bill, Hillary and Chelsea Clinton Foundation. Commonly referred to as the Clinton Foundation, it's a public nonprofit with thousands of individual donors, and it collects the majority of its funding from the public at large.\n",
      "When Hillary Clinton has requested donations in exchange for speeches, the money has gone to the public charity. The former secretary of state has earned millions for this larger foundation. According to the Clinton Foundation's website, \"speeches by President, Secretary, and Chelsea Clinton have helped support the implementation of the Clinton Foundation's work.\"\n",
      "Last year, the foundation released a list of nearly 100 speeches given by the three Clintons since 2002 (no specific dates were given). The list includes 16 speeches given by Hillary Clinton that brought in between $2.95 million and $6.25 million for the foundation. A foundation spokeswoman declined to offer any additional details about the speeches, but said that the list \"gives the public an unprecedented level of transparency into the Foundation.\"\n",
      "One company on the list is Goldman Sachs & Co., which gave the Clinton Foundation between $250,000 and $500,000 in exchange for a speech. The Wall Street bank also paid Clinton directly for speaking, including $675,000 in fees for three speeches in 2013.\n",
      "See Clinton speaking at the Goldman Sachs \"10,000 Women\" Dinner: \n",
      "No one with the Clinton campaign or the Clinton Foundation would explain why the fee for one Goldman Sachs speech was reported as part of the foundation's revenue and the fee for other Goldman Sachs speeches were reported as part of Clinton's personal income.\n",
      "But individual taxpayers aren't supposed to pick and choose which earnings they classify as income and which they direct to a foundation, tax law experts told HuffPost. \"Overall, there are only very narrow exceptions to one's ability to sign away or waive income,\" said Mirkay, of Creighton University. \"Otherwise, people would do it all the time.\"\n",
      "Getting answers about donations that were made as payment for services is just as difficult with Trump's spokespeople as with Clinton's.\n",
      "Mutually beneficial relationships between Trump and donors to his foundation can be traced back at least to 2005, the year Norwegian Cruise Lines paid the Trump Foundation $100,000 \"in lieu of an appearance fee for Melania Trump,\" a spokeswoman for the cruise line told HuffPost. The Trump campaign declined to comment on whether his wife reported the money as income.\n",
      "The following year, a couple from New Zealand gave the Trump Foundation $10,000 for a 30-minute meeting with The Donald. Phil and Corinna Jones, the owners of a get-rich-quick seminar business, were ecstatic about the get-together. \"You just can't underestimate the value of this sort of one-on-one time with someone like Donald Trump,\" Phil Jones told reporters.\n",
      "Some of the foundation's donors, including Comedy Central and Norwegian Cruise Lines, admitted giving to the foundation in lieu of paying appearance fees. But 18 other donors to the foundation (all of which appeared to benefit from relationships with Trump) declined to discuss why they donated or what sort of business they may have with him.\n",
      "These include media companies like NBC, which aired Trump's reality show, \"The Apprentice,\" and gave the foundation $500,000 in 2012, as well as tenants in Trump's buildings and companies that supply goods and services to his real estate holdings.\n",
      "In 2007, the Trump Foundation collected $4 million from Vince McMahon, the owner of the WWE wrestling franchise. That was also the year that Trump appeared with McMahon on the WWE's signature broadcast, \"Wrestlemania.\" McMahon gave another $1 million to the foundation in 2009, when Trump reprised his role on the show. A spokeswoman for WWE said the company paid Trump a separate appearance fee, but she wouldn't elaborate.\n",
      "Watch Trump attack McMahon on \"Wrestlemania\":\n",
      "Over the past four years, a New York-based ticket reseller named Richard Ebers has become the single biggest backer of the Trump Foundation, giving more than $1.8 million. Reached by phone, Ebers refused to say whether Trump had ever done anything in return for those donations.\n",
      "But \"if he's telling them, 'Pay the money to the foundation,' then that's clearly what we call an assignment of income,\" said Mirkay. \"Under the law, you're treated as having accepted the income nonetheless.\"\n",
      "Trump's financial disclosure forms, which presidential candidates must file with the Federal Election Commission, list all the income he reported in 2014 but do not contain any mention of the money from Ebers. A spokeswoman for the Trump campaign declined to comment.\n",
      "Likewise, Clinton's disclosure forms -- which span the last 15 years, covering her time as a senator, secretary of state and presidential candidate -- do not make any obvious mention of the money she earned for the Clinton Foundation in exchange for her speeches.\n",
      "None of this necessarily means that Trump or Clinton has bilked taxpayers out of revenue. More information from both candidates' camps would be helpful.\n",
      "The purpose of the relevant tax law, though, is to avoid a situation where a person takes income in the form of charitable gifts and then uses that money for his or her own benefit. In other words, let's imagine that a reporter named Christina makes a million dollars a year writing for The Huffington Post. But she tells HuffPost to send the money instead to the Christina Wilkie Foundation. While that foundation, in turn, gives a few thousand dollars a year to a veterans group, it also pays for Wilkie's travel, meals, a car and a phone. Effectively, Wilkie has avoided paying any taxes on her income, yet still has the money at her disposal.\n",
      "Over the past several years, the Trump Foundation has boosted Trump's political career with donations to conservative groups (though it also gives money to mainstream charities). The two Clinton foundations spend much of their money on undeniably charitable pursuits, but they have also fueled the former president's globe-trotting lifestyle. \n",
      "\"It's a very rarified world we're talking about,\" Mirkay said, \"the level at which you have a foundation and you're commanding these fees. This isn't something that we mere mortals have to deal with.\"\n",
      "As Trump moves further along in the Republican nominating contest, his competitors and their campaign surrogates have urged the billionaire to release his complete tax returns. Every major-party presidential nominee since Jimmy Carter has made public at least two years of tax returns. The Clintons have released their tax returns for each year since Bill Clinton became Arkansas attorney general in 1977.\n",
      "But Trump has not seemed eager to open his personal books. \"I fight like hell to pay as little as possible [in taxes],\" he told CBS last year. \"I'm a businessman, and that's the way you're supposed to do it.\"\n",
      "['****************************************************************************************************']\n",
      "Millions of dollars in donations to two charitable foundations associated with Hillary Clinton and Donald Trump may not meet the legal standard for charitable gifts, four tax law experts tell The Huffington Post.\n",
      "\n",
      "Clinton and Trump command hundreds of thousands of dollars for their speeches and appearances.\n",
      "\n",
      "But not all of this money goes to them.\n",
      "\n",
      "Significant portions of it are directed to the charitable foundations bearing their names.\n",
      "\n",
      "To qualify as true charitable gifts, donations made to the Donald J. Trump Foundation or the Bill, Hillary and Chelsea Clinton Foundation must come with no strings attached. As the Internal Revenue Service puts it, they must be made \"out of detached and disinterested generosity.\n",
      "\n",
      "\"But as HuffPost reported, many of the donors to Trump's private charitable foundation got something in return from the billionaire at the time they gave to his foundation.\n",
      "\n",
      "Similarly, the Clinton Foundation received millions of dollars in exchange for 16 speeches given by Hillary Clinton, according to a list released by the foundation.\n",
      "\n",
      "Rich people like Clinton and Trump pay accountants and lawyers huge sums to prepare their taxes; it's likely that those people could offer justifications for how the candidates reported their income.\n",
      "\n",
      "But neither the Trump campaign nor Clinton's team would tell HuffPost how they assigned money to their foundations.\n",
      "\n",
      "The IRS will not discuss individual taxpayers.\n",
      "\n",
      "And the tax experts who spoke to HuffPost said they struggled to see how such large sums donated in conjunction with appearances could be considered anything but personal income.\n",
      "\n",
      "Donations that are part of a quid pro quo, in which Trump or Clinton did something in return for the gift, are considered payment for services rendered and part of their income, according to the IRS rules.\n",
      "\n",
      "Such donations to a foundation must be reported as part of the candidates' taxable income. In IRS speak, this is called the \"fruit of the tree\" doctrine, which says that an individual who earns income cannot transfer that income to a third party in order to avoid paying taxes on it.\n",
      "\n",
      "The person who earns the money must report it as his or her own gross income, even if the person doesn't directly receive the money.\n",
      "\n",
      "Suppose, for example, that your neighbors offer to pay you to speak at their kid's school.\n",
      "\n",
      "You agree to do it and tell them that in lieu of payment, they should \"give the money to PETA.\n",
      "\n",
      "\" (You hate fur in this hypothetical.\n",
      "\n",
      ") You never see the money because it goes to PETA.\n",
      "\n",
      "But to the IRS, it's still income that you earned and that you're obligated to include on your tax returns.\n",
      "\n",
      "Hillary Clinton's tax returns and financial disclosures do not contain any mention of more than a quarter-million dollars that Goldman Sachs paid to the Clinton Foundation in exchange for a speech.\n",
      "\n",
      "Trump has not released his tax returns -- despite IRS assurances that he's perfectly free to do so -- so there's no telling yet whether he might have reported donations in lieu of appearance fees as part of his earnings.\n",
      "\n",
      "There is no evidence that the Clinton Foundation or the Trump Foundation did anything improper, said Alice Thomas, an associate professor of law at Howard University and an expert on nonprofit tax law.\n",
      "\n",
      "\"This is an individual taxpayer issue,\" Thomas said.\n",
      "\n",
      "It's the individual who \"exercises control over where [the money] goes,\" she emphasized. \"I'm providing a service, but instead of giving me the check, I'm telling you to give it to the nonprofit.\n",
      "\n",
      "\"From a tax law perspective, that kind of transaction is \"pretty simple,\" Thomas said.\n",
      "\n",
      "\"When you do something for someone, you get income.\n",
      "\n",
      "\" According to tax experts, the Donald J. Trump Foundation's IRS reports do not resemble those of a typical private foundation.\n",
      "\n",
      "Unlike public charities, private foundations do not solicit donations from the general public; their funding typically comes from the members of one wealthy family. But tax returns filed by the Trump Foundation from 2001 to 2014 list dozens of non-familial donors, many of whom did business with Trump enterprises.\n",
      "\n",
      "Over the past seven years, Donald Trump has directed more than $4 million to his foundation, but none of it came directly from the man himself.\n",
      "\n",
      "In 2011, Comedy Central gave the foundation $400,000 -- money that the network told HuffPost it had given in exchange for Trump's appearance on Comedy Central's \"Roast of Donald Trump.\n",
      "\n",
      "\" In 2013, as Trump was busy raising his political profile through frequent appearances on Fox News, the company gave the Trump Foundation $10,000.\n",
      "\n",
      "A spokeswoman for Fox News declined to discuss the gift.\n",
      "\n",
      "Watch Comedy Central's \"Roast of Donald Trump\":\"The basic analysis is that these donations should be counted as income,\" said Roger Colinvaux, a professor of law and director of the Law and Public Policy Program at Catholic University of America in Washington, D.C.\"Under the law, you can't have a contribution if there's a quid pro quo,\" explained Nick Mirkay, a professor of law and associate dean for planning and initiatives at Creighton University School of Law in Omaha, Nebraska.\n",
      "\n",
      "\"If Trump said, 'I will appear in exchange for you making a contribution,' then the money should have been reported on Trump's income tax returns.\n",
      "\n",
      "\"But because Trump hasn't released his tax returns, there is no telling whether he reported this money.\n",
      "\n",
      "Hillary Clinton is connected to two major foundations, one of which has received money only from Clinton family members.\n",
      "\n",
      "The other is the Bill, Hillary and Chelsea Clinton Foundation.\n",
      "\n",
      "Commonly referred to as the Clinton Foundation, it's a public nonprofit with thousands of individual donors, and it collects the majority of its funding from the public at large.\n",
      "\n",
      "When Hillary Clinton has requested donations in exchange for speeches, the money has gone to the public charity.\n",
      "\n",
      "The former secretary of state has earned millions for this larger foundation.\n",
      "\n",
      "According to the Clinton Foundation's website, \"speeches by President, Secretary, and Chelsea Clinton have helped support the implementation of the Clinton Foundation's work.\n",
      "\n",
      "\"Last year, the foundation released a list of nearly 100 speeches given by the three Clintons since 2002 (no specific dates were given).\n",
      "\n",
      "The list includes 16 speeches given by Hillary Clinton that brought in between $2.95 million and $6.25 million for the foundation.\n",
      "\n",
      "A foundation spokeswoman declined to offer any additional details about the speeches, but said that the list \"gives the public an unprecedented level of transparency into the Foundation.\n",
      "\n",
      "\"One company on the list is Goldman Sachs & Co., which gave the Clinton Foundation between $250,000 and $500,000 in exchange for a speech. The Wall Street bank also paid Clinton directly for speaking, including $675,000 in fees for three speeches in 2013.\n",
      "\n",
      "See Clinton speaking at the Goldman Sachs \"10,000 Women\" Dinner: No one with the Clinton campaign or the Clinton Foundation would explain why the fee for one Goldman Sachs speech was reported as part of the foundation's revenue and the fee for other Goldman Sachs speeches were reported as part of Clinton's personal income.\n",
      "\n",
      "But individual taxpayers aren't supposed to pick and choose which earnings they classify as income and which they direct to a foundation, tax law experts told HuffPost.\n",
      "\n",
      "\"Overall, there are only very narrow exceptions to one's ability to sign away or waive income,\" said Mirkay, of Creighton University.\n",
      "\n",
      "\"Otherwise, people would do it all the time.\n",
      "\n",
      "\"Getting answers about donations that were made as payment for services is just as difficult with Trump's spokespeople as with Clinton's.\n",
      "\n",
      "Mutually beneficial relationships between Trump and donors to his foundation can be traced back at least to 2005, the year Norwegian Cruise Lines paid the Trump Foundation $100,000 \"in lieu of an appearance fee for Melania Trump,\" a spokeswoman for the cruise line told HuffPost.\n",
      "\n",
      "The Trump campaign declined to comment on whether his wife reported the money as income.\n",
      "\n",
      "The following year, a couple from New Zealand gave the Trump Foundation $10,000 for a 30-minute meeting with The Donald.\n",
      "\n",
      "Phil and Corinna Jones, the owners of a get-rich-quick seminar business, were ecstatic about the get-together.\n",
      "\n",
      "\"You just can't underestimate the value of this sort of one-on-one time with someone like Donald Trump,\" Phil Jones told reporters.\n",
      "\n",
      "Some of the foundation's donors, including Comedy Central and Norwegian Cruise Lines, admitted giving to the foundation in lieu of paying appearance fees.\n",
      "\n",
      "But 18 other donors to the foundation (all of which appeared to benefit from relationships with Trump) declined to discuss why they donated or what sort of business they may have with him.\n",
      "\n",
      "These include media companies like NBC, which aired Trump's reality show, \"The Apprentice,\" and gave the foundation $500,000 in 2012, as well as tenants in Trump's buildings and companies that supply goods and services to his real estate holdings.\n",
      "\n",
      "In 2007, the Trump Foundation collected $4 million from Vince McMahon, the owner of the WWE wrestling franchise.\n",
      "\n",
      "That was also the year that Trump appeared with McMahon on the WWE's signature broadcast, \"Wrestlemania.\n",
      "\n",
      "\" McMahon gave another $1 million to the foundation in 2009, when Trump reprised his role on the show. A spokeswoman for WWE said the company paid Trump a separate appearance fee, but she wouldn't elaborate.\n",
      "\n",
      "Watch Trump attack McMahon on \"Wrestlemania\":Over the past four years, a New York-based ticket reseller named Richard Ebers has become the single biggest backer of the Trump Foundation, giving more than $1.8 million.\n",
      "\n",
      "Reached by phone, Ebers refused to say whether Trump had ever done anything in return for those donations.\n",
      "\n",
      "But \"if he's telling them, 'Pay the money to the foundation,' then that's clearly what we call an assignment of income,\" said Mirkay.\n",
      "\n",
      "\"Under the law, you're treated as having accepted the income nonetheless.\n",
      "\n",
      "\"Trump's financial disclosure forms, which presidential candidates must file with the Federal Election Commission, list all the income he reported in 2014 but do not contain any mention of the money from Ebers.\n",
      "\n",
      "A spokeswoman for the Trump campaign declined to comment.\n",
      "\n",
      "Likewise, Clinton's disclosure forms -- which span the last 15 years, covering her time as a senator, secretary of state and presidential candidate -- do not make any obvious mention of the money she earned for the Clinton Foundation in exchange for her speeches.\n",
      "\n",
      "None of this necessarily means that Trump or Clinton has bilked taxpayers out of revenue.\n",
      "\n",
      "More information from both candidates' camps would be helpful.\n",
      "\n",
      "The purpose of the relevant tax law, though, is to avoid a situation where a person takes income in the form of charitable gifts and then uses that money for his or her own benefit.\n",
      "\n",
      "In other words, let's imagine that a reporter named Christina makes a million dollars a year writing for The Huffington Post.\n",
      "\n",
      "But she tells HuffPost to send the money instead to the Christina Wilkie Foundation.\n",
      "\n",
      "While that foundation, in turn, gives a few thousand dollars a year to a veterans group, it also pays for Wilkie's travel, meals, a car and a phone.\n",
      "\n",
      "Effectively, Wilkie has avoided paying any taxes on her income, yet still has the money at her disposal.\n",
      "\n",
      "Over the past several years, the Trump Foundation has boosted Trump's political career with donations to conservative groups (though it also gives money to mainstream charities).\n",
      "\n",
      "The two Clinton foundations spend much of their money on undeniably charitable pursuits, but they have also fueled the former president's globe-trotting lifestyle. \"It's a very rarified world we're talking about,\" Mirkay said, \"the level at which you have a foundation and you're commanding these fees.\n",
      "\n",
      "This isn't something that we mere mortals have to deal with.\n",
      "\n",
      "\"As Trump moves further along in the Republican nominating contest, his competitors and their campaign surrogates have urged the billionaire to release his complete tax returns.\n",
      "\n",
      "Every major-party presidential nominee since Jimmy Carter has made public at least two years of tax returns.\n",
      "\n",
      "The Clintons have released their tax returns for each year since Bill Clinton became Arkansas attorney general in 1977.\n",
      "\n",
      "But Trump has not seemed eager to open his personal books.\n",
      "\n",
      "\"I fight like hell to pay as little as possible [in taxes],\" he told CBS last year.\n",
      "\n",
      "\"I'm a businessman, and that's the way you're supposed to do it.\n",
      "\n",
      "\"\n"
     ]
    }
   ],
   "source": [
    "i = 233\n",
    "print all_df['url'][i]\n",
    "print all_df['body'][i]\n",
    "print ['*' * 100]\n",
    "print all_df['body_deduped'][i]"
   ]
  },
  {
   "cell_type": "code",
   "execution_count": null,
   "metadata": {
    "collapsed": false
   },
   "outputs": [],
   "source": []
  },
  {
   "cell_type": "code",
   "execution_count": null,
   "metadata": {
    "collapsed": false
   },
   "outputs": [],
   "source": []
  },
  {
   "cell_type": "code",
   "execution_count": null,
   "metadata": {
    "collapsed": false
   },
   "outputs": [],
   "source": []
  },
  {
   "cell_type": "code",
   "execution_count": null,
   "metadata": {
    "collapsed": true
   },
   "outputs": [],
   "source": []
  }
 ],
 "metadata": {
  "kernelspec": {
   "display_name": "Python 2",
   "language": "python",
   "name": "python2"
  },
  "language_info": {
   "codemirror_mode": {
    "name": "ipython",
    "version": 2
   },
   "file_extension": ".py",
   "mimetype": "text/x-python",
   "name": "python",
   "nbconvert_exporter": "python",
   "pygments_lexer": "ipython2",
   "version": "2.7.10"
  }
 },
 "nbformat": 4,
 "nbformat_minor": 0
}
