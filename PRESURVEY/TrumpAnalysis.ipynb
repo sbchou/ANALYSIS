{
 "cells": [
  {
   "cell_type": "code",
   "execution_count": 2,
   "metadata": {
    "collapsed": true
   },
   "outputs": [],
   "source": [
    "from textstat.textstat import textstat\n",
    "import csv"
   ]
  },
  {
   "cell_type": "code",
   "execution_count": 1,
   "metadata": {
    "collapsed": false
   },
   "outputs": [
    {
     "name": "stderr",
     "output_type": "stream",
     "text": [
      "/usr/local/lib/python2.7/site-packages/matplotlib/__init__.py:872: UserWarning: axes.color_cycle is deprecated and replaced with axes.prop_cycle; please use the latter.\n",
      "  warnings.warn(self.msg_depr % (key, alt_key))\n"
     ]
    }
   ],
   "source": [
    "import beauty\n",
    "import csv\n",
    "import pandas\n",
    "import matplotlib\n",
    "import matplotlib.pyplot as plt\n",
    "#matplotlib.style.use('ggplot')\n",
    "%matplotlib inline\n",
    "beauty.set_tex(False)"
   ]
  },
  {
   "cell_type": "markdown",
   "metadata": {},
   "source": [
    "# Reading Level Analysis for All Trump"
   ]
  },
  {
   "cell_type": "code",
   "execution_count": 3,
   "metadata": {
    "collapsed": false
   },
   "outputs": [
    {
     "name": "stdout",
     "output_type": "stream",
     "text": [
      "2877\n"
     ]
    },
    {
     "data": {
      "text/html": [
       "<div>\n",
       "<table border=\"1\" class=\"dataframe\">\n",
       "  <thead>\n",
       "    <tr style=\"text-align: right;\">\n",
       "      <th></th>\n",
       "      <th>title</th>\n",
       "      <th>url</th>\n",
       "      <th>org</th>\n",
       "      <th>date_written</th>\n",
       "      <th>byline</th>\n",
       "      <th>body</th>\n",
       "    </tr>\n",
       "  </thead>\n",
       "  <tbody>\n",
       "    <tr>\n",
       "      <th>0</th>\n",
       "      <td>11 million watch Trump and Cruz spar on Fox Bu...</td>\n",
       "      <td>http://www.latimes.com/la-et-ct-debate-ratings...</td>\n",
       "      <td>latimes</td>\n",
       "      <td>2016-01-15 20:25:00</td>\n",
       "      <td>NaN</td>\n",
       "      <td>Fox Business Network\\n's Republican primary de...</td>\n",
       "    </tr>\n",
       "    <tr>\n",
       "      <th>1</th>\n",
       "      <td>15 Protests That Helped Expose Trump's Dangero...</td>\n",
       "      <td>http://www.huffingtonpost.com/chelsea-byers/15...</td>\n",
       "      <td>huffpo</td>\n",
       "      <td>2016-03-01 18:18:05</td>\n",
       "      <td>NaN</td>\n",
       "      <td>Donald Trump has built a platform for himself ...</td>\n",
       "    </tr>\n",
       "    <tr>\n",
       "      <th>2</th>\n",
       "      <td>2016 match-up: Obama vs Trump</td>\n",
       "      <td>http://www.politico.com/story/2016/01/state-of...</td>\n",
       "      <td>politico</td>\n",
       "      <td>2016-01-13 05:44:15</td>\n",
       "      <td>NaN</td>\n",
       "      <td>\\nWHITE HOUSE\\n\\n01/13/16 12:59 AM EST\\n\\n    ...</td>\n",
       "    </tr>\n",
       "    <tr>\n",
       "      <th>3</th>\n",
       "      <td>2016 Race: Measuring Donald Trump’s Supporters...</td>\n",
       "      <td>http://www.nytimes.com/2016/02/25/upshot/measu...</td>\n",
       "      <td>nyt</td>\n",
       "      <td>2016-02-23 19:47:11</td>\n",
       "      <td>LYNN VAVRECK</td>\n",
       "      <td>Exit poll data from the South Carolina primary...</td>\n",
       "    </tr>\n",
       "    <tr>\n",
       "      <th>4</th>\n",
       "      <td>2nd former Mexican president unloads on Donald...</td>\n",
       "      <td>http://feeds.foxnews.com/~r/foxnews/world/~3/6...</td>\n",
       "      <td>fox</td>\n",
       "      <td>2016-02-27 22:15:13</td>\n",
       "      <td>NaN</td>\n",
       "      <td>\\n\\nMEXICO CITY –  Former Mexican President Fe...</td>\n",
       "    </tr>\n",
       "  </tbody>\n",
       "</table>\n",
       "</div>"
      ],
      "text/plain": [
       "                                               title  \\\n",
       "0  11 million watch Trump and Cruz spar on Fox Bu...   \n",
       "1  15 Protests That Helped Expose Trump's Dangero...   \n",
       "2                      2016 match-up: Obama vs Trump   \n",
       "3  2016 Race: Measuring Donald Trump’s Supporters...   \n",
       "4  2nd former Mexican president unloads on Donald...   \n",
       "\n",
       "                                                 url       org  \\\n",
       "0  http://www.latimes.com/la-et-ct-debate-ratings...   latimes   \n",
       "1  http://www.huffingtonpost.com/chelsea-byers/15...    huffpo   \n",
       "2  http://www.politico.com/story/2016/01/state-of...  politico   \n",
       "3  http://www.nytimes.com/2016/02/25/upshot/measu...       nyt   \n",
       "4  http://feeds.foxnews.com/~r/foxnews/world/~3/6...       fox   \n",
       "\n",
       "          date_written        byline  \\\n",
       "0  2016-01-15 20:25:00           NaN   \n",
       "1  2016-03-01 18:18:05           NaN   \n",
       "2  2016-01-13 05:44:15           NaN   \n",
       "3  2016-02-23 19:47:11  LYNN VAVRECK   \n",
       "4  2016-02-27 22:15:13           NaN   \n",
       "\n",
       "                                                body  \n",
       "0  Fox Business Network\\n's Republican primary de...  \n",
       "1  Donald Trump has built a platform for himself ...  \n",
       "2  \\nWHITE HOUSE\\n\\n01/13/16 12:59 AM EST\\n\\n    ...  \n",
       "3  Exit poll data from the South Carolina primary...  \n",
       "4  \\n\\nMEXICO CITY –  Former Mexican President Fe...  "
      ]
     },
     "execution_count": 3,
     "metadata": {},
     "output_type": "execute_result"
    }
   ],
   "source": [
    "trump_df = pandas.read_csv('data/all_trump.csv')\n",
    "print len(trump_df)\n",
    "\n",
    "#trump_df['A'] = df['A'].astype('str')\n",
    "trump_df.head()\n"
   ]
  },
  {
   "cell_type": "code",
   "execution_count": 5,
   "metadata": {
    "collapsed": false
   },
   "outputs": [
    {
     "name": "stdout",
     "output_type": "stream",
     "text": [
      "Average Flesch-Kincaid grade for AP stories: 8.93694820994\n"
     ]
    },
    {
     "data": {
      "text/plain": [
       "(0, 100)"
      ]
     },
     "execution_count": 5,
     "metadata": {},
     "output_type": "execute_result"
    },
    {
     "data": {
      "image/png": "[encoded data removed]",
      "text/plain": [
       "<matplotlib.figure.Figure at 0x110af8b10>"
      ]
     },
     "metadata": {},
     "output_type": "display_data"
    }
   ],
   "source": [
    "trump_df['flesch'] = trump_df['body'].apply(lambda x: textstat.flesch_kincaid_grade(x) if type(x) == str else None)"
   ]
  },
  {
   "cell_type": "code",
   "execution_count": 14,
   "metadata": {
    "collapsed": false
   },
   "outputs": [
    {
     "name": "stdout",
     "output_type": "stream",
     "text": [
      "Average Flesch-Kincaid grade for AP stories: 8.93694820994\n"
     ]
    },
    {
     "data": {
      "image/png": "[encoded data removed]",
      "text/plain": [
       "<matplotlib.figure.Figure at 0x116a90710>"
      ]
     },
     "metadata": {},
     "output_type": "display_data"
    }
   ],
   "source": [
    "print \"Average Flesch-Kincaid grade for AP stories:\", trump_df['flesch'].mean()\n",
    "# Average Flesch-Kincaid grade for AP stories: 9.97941176471\n",
    "trump_df['flesch'].hist()\n",
    "plt.title('Trump Reading Level', fontsize=7)\n",
    "plt.xlim([0,20])\n",
    "plt.tick_params(axis='both', which='major', labelsize=5)\n",
    "plt.tight_layout()\n",
    "plt.savefig('FIGS/trump_overall_flesch.png')\n",
    "plt.show()\n"
   ]
  },
  {
   "cell_type": "code",
   "execution_count": 13,
   "metadata": {
    "collapsed": false,
    "scrolled": true
   },
   "outputs": [
    {
     "name": "stdout",
     "output_type": "stream",
     "text": [
      "Average Gunning-Fog grade for AP stories: 9.39270072993\n"
     ]
    },
    {
     "data": {
      "text/plain": [
       "<matplotlib.text.Text at 0x112c33610>"
      ]
     },
     "execution_count": 13,
     "metadata": {},
     "output_type": "execute_result"
    },
    {
     "data": {
      "image/png": "[encoded data removed]",
      "text/plain": [
       "<matplotlib.figure.Figure at 0x1128312d0>"
      ]
     },
     "metadata": {},
     "output_type": "display_data"
    }
   ],
   "source": [
    "trump_df['gunning_fog'] = trump_df['body'].apply(lambda x: textstat.gunning_fog(x) if type(x) == str else None)\n",
    "print \"Average Gunning-Fog grade for AP stories:\", trump_df['gunning_fog'].mean()\n",
    "# Average Flesch-Kincaid grade for AP stories: 9.85789473684\n",
    "trump_df['gunning_fog'].hist().set_xlabel(\"Gunning Fog Reading Level\") \n"
   ]
  },
  {
   "cell_type": "markdown",
   "metadata": {},
   "source": [
    "# Reading level by Org"
   ]
  },
  {
   "cell_type": "code",
   "execution_count": 20,
   "metadata": {
    "collapsed": false
   },
   "outputs": [
    {
     "name": "stdout",
     "output_type": "stream",
     "text": [
      "Average Flesch-Kincaid grade for nyt stories: 7.35640243902\n",
      "Average Flesch-Kincaid grade for wsj stories: 7.63269230769\n",
      "Average Flesch-Kincaid grade for cnn stories: 9.33620689655\n",
      "Average Flesch-Kincaid grade for fox stories: 8.98108108108\n",
      "Average Flesch-Kincaid grade for ap stories: 9.39463601533\n",
      "Average Flesch-Kincaid grade for reuters stories: 10.1630681818\n",
      "Average Flesch-Kincaid grade for politico stories: 8.47330016584\n",
      "Average Flesch-Kincaid grade for mcclatchy stories: 8.38108108108\n",
      "Average Flesch-Kincaid grade for buzzfeed stories: 12.2416666667\n",
      "Average Flesch-Kincaid grade for huffpo stories: 9.48325242718\n",
      "Average Flesch-Kincaid grade for latimes stories: 9.78532110092\n"
     ]
    }
   ],
   "source": [
    "orgs = ['nyt', 'wsj', 'cnn', 'fox', 'ap', 'reuters', 'politico', 'mcclatchy', 'buzzfeed', 'huffpo','latimes']\n",
    "for o in orgs:\n",
    "    trump_df['flesch_' + o] = trump_df[trump_df['org'] == o]['body'].apply(lambda x: textstat.flesch_kincaid_grade(x) if type(x) == str else None)\n",
    "    print \"Average Flesch-Kincaid grade for \" + o + \" stories:\", trump_df['flesch_' + o].mean()\n",
    "    # Average Flesch-Kincaid grade for AP stories: 9.97941176471\n",
    "    "
   ]
  },
  {
   "cell_type": "code",
   "execution_count": 10,
   "metadata": {
    "collapsed": false
   },
   "outputs": [
    {
     "data": {
      "text/plain": [
       "<matplotlib.text.Text at 0x1122b2750>"
      ]
     },
     "execution_count": 10,
     "metadata": {},
     "output_type": "execute_result"
    },
    {
     "data": {
      "image/png": "[encoded data removed]",
      "text/plain": [
       "<matplotlib.figure.Figure at 0x111c4db90>"
      ]
     },
     "metadata": {},
     "output_type": "display_data"
    }
   ],
   "source": [
    "o = 'nyt'\n",
    "trump_df['flesch_'+ o].hist().set_xlabel(\"Flesch Reading Level \" + o) "
   ]
  },
  {
   "cell_type": "code",
   "execution_count": 23,
   "metadata": {
    "collapsed": false
   },
   "outputs": [
    {
     "name": "stdout",
     "output_type": "stream",
     "text": [
      "Average Gunning Fog grade for nyt stories: 7.94634146341\n",
      "Average Gunning Fog grade for wsj stories: 7.82564102564\n",
      "Average Gunning Fog grade for cnn stories: 9.62528735632\n",
      "Average Gunning Fog grade for fox stories: 9.12837837838\n",
      "Average Gunning Fog grade for ap stories: 9.33026819923\n",
      "Average Gunning Fog grade for reuters stories: 9.76363636364\n",
      "Average Gunning Fog grade for politico stories: 10.4948590381\n",
      "Average Gunning Fog grade for mcclatchy stories: 8.55675675676\n",
      "Average Gunning Fog grade for buzzfeed stories: 11.98\n",
      "Average Gunning Fog grade for huffpo stories: 9.14077669903\n",
      "Average Gunning Fog grade for latimes stories: 9.47889908257\n"
     ]
    }
   ],
   "source": [
    "for o in orgs:\n",
    "    trump_df['gunning_' + o] = trump_df[trump_df['org'] == o]['body'].apply(lambda x: textstat.gunning_fog(x) if type(x) == str else None)\n",
    "    print \"Average Gunning Fog grade for \" + o + \" stories:\", trump_df['gunning_' + o].mean()\n",
    "    # Average Flesch-Kincaid grade for AP stories: 9.97941176471\n",
    "    "
   ]
  },
  {
   "cell_type": "code",
   "execution_count": 24,
   "metadata": {
    "collapsed": false
   },
   "outputs": [
    {
     "name": "stdout",
     "output_type": "stream",
     "text": [
      "Average F-K Reading Ease for nyt stories: 68.8467073171\n",
      "Average F-K Reading Ease for wsj stories: 66.3479487179\n",
      "Average F-K Reading Ease for cnn stories: 62.0714367816\n",
      "Average F-K Reading Ease for fox stories: 62.4208445946\n",
      "Average F-K Reading Ease for ap stories: 60.2996168582\n",
      "Average F-K Reading Ease for reuters stories: 56.7761931818\n",
      "Average F-K Reading Ease for politico stories: 72.1448922056\n",
      "Average F-K Reading Ease for mcclatchy stories: 64.2143243243\n",
      "Average F-K Reading Ease for buzzfeed stories: 51.7928333333\n",
      "Average F-K Reading Ease for huffpo stories: 58.8816262136\n",
      "Average F-K Reading Ease for latimes stories: 58.2434862385\n"
     ]
    }
   ],
   "source": [
    "for o in orgs:\n",
    "    trump_df['ease_' + o] = trump_df[trump_df['org'] == o]['body'].apply(lambda x: textstat.flesch_reading_ease(x) if type(x) == str else None)\n",
    "    print \"Average F-K Reading Ease for \" + o + \" stories:\", trump_df['ease_' + o].mean()\n",
    " \n",
    "    "
   ]
  },
  {
   "cell_type": "code",
   "execution_count": null,
   "metadata": {
    "collapsed": true
   },
   "outputs": [],
   "source": []
  }
 ],
 "metadata": {
  "kernelspec": {
   "display_name": "Python 2",
   "language": "python",
   "name": "python2"
  },
  "language_info": {
   "codemirror_mode": {
    "name": "ipython",
    "version": 2
   },
   "file_extension": ".py",
   "mimetype": "text/x-python",
   "name": "python",
   "nbconvert_exporter": "python",
   "pygments_lexer": "ipython2",
   "version": "2.7.10"
  }
 },
 "nbformat": 4,
 "nbformat_minor": 0
}
