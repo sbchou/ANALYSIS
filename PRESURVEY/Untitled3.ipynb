{
 "cells": [
  {
   "cell_type": "code",
   "execution_count": 2,
   "metadata": {
    "collapsed": true
   },
   "outputs": [],
   "source": [
    "from textstat.textstat import textstat\n",
    "import csv\n",
    "import pandas\n",
    "import matplotlib\n",
    "#matplotlib.style.use('ggplot')\n",
    "%matplotlib inline\n",
    "import ast\n",
    "pandas.options.display.max_colwidth = 10000"
   ]
  },
  {
   "cell_type": "code",
   "execution_count": 3,
   "metadata": {
    "collapsed": false
   },
   "outputs": [],
   "source": [
    "\n",
    "#df['gunning_fog'] = df['body'].apply(lambda x: textstat.gunning_fog(x) if type(x) == str else None)\n",
    "#df['flesch_new'] = df['body'].apply(lambda x: textstat.flesch_kincaid_grade(x) if type(x) == str else None)\n",
    "#df['readability'] = df['body'].apply(lambda x: textstat.flesch_reading_ease(x) if type(x) == str else None)"
   ]
  },
  {
   "cell_type": "code",
   "execution_count": 9,
   "metadata": {
    "collapsed": false
   },
   "outputs": [
    {
     "name": "stdout",
     "output_type": "stream",
     "text": [
      "FK 7.6\n",
      "GF 7.6\n"
     ]
    }
   ],
   "source": [
    "text = \"\"\"LAS VEGAS If the loudest supporters translate to the most votes, then say hello to President Bernie Sanders.\n",
    "At the Nevada Democratic Party dinner Wednesday night, Democratic front-runner Hillary Clintons backers sat on the left side of the giant ballroom, banging bright blue glow sticks together.\n",
    "They were no match for the other side of the room, where the Sanders crew blared loud vuvuzela horns all evening long. It was an enthusiastic show of support for the Vermont senator, and also an obnoxious, ear-drum piercing pounding.\n",
    "They blared their horns whenever Mr. Sanderss name was mentioned, and many times when it wasnt. The horns even blared throughout a Sanders campaign video introducing the candidate, rendering it impossible from some 2,200 people assembled to hear many of the words.\n",
    "Veteran Nevada political reporter Jon Ralston unleashed a Twitter  storm of some two dozen tweets complaining about the noise.\n",
    "If Bernie can’t shush the vuvuzelas, how can he stand up to Putin? he wrote in one. Bernie says he has no SuperPAC. But he has a super-obnoxious horn section, he said in another.\n",
    "Even Mr. Sanders commented on the cacophony when he finally took the stage. That music is really beautiful, he said sarcastically.\n",
    "\"\"\"\n",
    "print \"FK\",textstat.flesch_kincaid_grade(text)\n",
    "print \"GF\",textstat.gunning_fog(text)"
   ]
  },
  {
   "cell_type": "code",
   "execution_count": null,
   "metadata": {
    "collapsed": true
   },
   "outputs": [],
   "source": []
  }
 ],
 "metadata": {
  "kernelspec": {
   "display_name": "Python 2",
   "language": "python",
   "name": "python2"
  },
  "language_info": {
   "codemirror_mode": {
    "name": "ipython",
    "version": 2
   },
   "file_extension": ".py",
   "mimetype": "text/x-python",
   "name": "python",
   "nbconvert_exporter": "python",
   "pygments_lexer": "ipython2",
   "version": "2.7.10"
  }
 },
 "nbformat": 4,
 "nbformat_minor": 0
}
