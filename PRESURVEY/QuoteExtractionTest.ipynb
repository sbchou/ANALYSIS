{
 "cells": [
  {
   "cell_type": "code",
   "execution_count": 8,
   "metadata": {
    "collapsed": true
   },
   "outputs": [],
   "source": [
    "import re"
   ]
  },
  {
   "cell_type": "code",
   "execution_count": 1,
   "metadata": {
    "collapsed": true
   },
   "outputs": [],
   "source": [
    "body = \"\"\"WEST DES MOINES, Iowa —  Donald J. Trump, the builder, casino owner, golf course developer, reality television star and tabloid fixture who said his “life has been about winning” and led every national Republican presidential poll for the past seven months, will now be known by a title to which he is unaccustomed: loser.\n",
    "\n",
    "That epithet may not stick for long. The primary campaign now moves from Iowa, where Mr. Trump finished second behind Senator Ted Cruz, to New Hampshire, a state whose more libertarian-minded, less socially conservative electorate may be a better fit for Mr. Trump, a flamboyant New Yorker.\n",
    "\n",
    "But for one evening, and in his first true test with actual voters, the man who continually boasted that he was a winner because he was winning had to search for words to explain away a defeat.\n",
    "\n",
    "In his concession speech, Mr. Trump kept remarkably calm and focused, portraying the loss as having nonetheless surpassed expectations in a state where people had told him he could not win, and where aides had been whispering to him hours earlier about the high turnout. He began by saying how much he loves Iowans.\n",
    "\n",
    "“On to New Hampshire!” he said, with his family beside him in a half-filled ballroom at the Sheraton hotel here.\n",
    "\n",
    "Though his celebrity dazzled and his message of pitchfork populism caught fire, attracting large crowds to his rallies and turning the presidential debates into ratings bonanzas for television news networks, Mr. Trump’s campaign made important missteps that proved critical in the last six weeks.\n",
    "\n",
    "Above all, Mr. Trump lacked a true get-out-the-vote operation in Iowa. Indeed, he never seemed fully committed to the state, visiting only sporadically and very rarely engaging in the type of intimate retail campaigning that is typically rewarded here. An infrequent churchgoer, he scarcely tried to win over the many Christian conservatives here, and occasionally stumbled when he did: At a nondenominational church service on Sunday, when the communion plate was passed around with wafers and wine, he reached for his wallet.\n",
    "\n",
    "“It was apparent to me that Trump created a large enough pool of people to win the caucus, but his campaign failed to get them out to vote,” said Roger Stone, a longtime adviser who helped set up Mr. Trump’s campaign but parted ways with it last summer.\n",
    "\n",
    "Indeed, the curious and star-struck people who filled Mr. Trump’s rallies often had not caucused before. Wooing people to show up for the caucuses has historically required candidates to hold smaller gatherings where they field direct questions and give in-depth answers. And many new voters who showed up chose to support another candidate.\n",
    "\n",
    "“Trump was selling the sizzle, not the steak,” said Matt Strawn, the former chairman of the Republican Party of Iowa. “Iowans were hungry for more. More substance. More opportunity to actually pepper Trump with questions to discern if his more recent conservative policy conversions were authentic. More respect for the Iowa caucus process and traditions.”\n",
    "\n",
    "Mr. Trump did not run television ads until much later than his opponents. And while his rivals and other detractors had generally shied away from attacking him with negative advertising, he turned out to be susceptible to it: Ads by Mr. Cruz and two outside groups that showed Mr. Trump stating his support for abortion rights in 1999 inflicted significant damage. And without a network of trusted local surrogates that a stronger Iowa operation might have assembled, Mr. Trump had few character witnesses to speak up for him outside his own family.\n",
    "\n",
    "Perhaps his costliest, and certainly his most memorable, error was skipping the final Republican debate, hosted by Fox News in Des Moines the Wednesday before the caucuses. He assured audiences that he had been wise to withdraw, and some analysts praised his instinct for avoiding the line of fire as a kind of genius.\n",
    "\n",
    "But the decision halted Mr. Trump’s momentum, and after weeks of trying to seem more conventional, the furor stirred up by his quitting the debate reinforced the circuslike, rather than the statesmanlike, aspects of his candidacy.\n",
    "\n",
    "Mr. Trump now needs to demonstrate that his candidacy can withstand a loss. He could try to cauterize the Iowa wound with stoicism and magnanimity. But he could also seek to set aside the verdict here, portraying Iowa as unrepresentative of the country or of the Republican Party.\n",
    "\n",
    "He heads to New Hampshire with a wide lead in the polls there. But with the state’s primary on Feb. 9, he has little time to regroup. And he will come under pressure not just to show up but to deliver a strong performance at the next debate, on Saturday night.\n",
    "\n",
    "His fall in Iowa dealt a blow to the image Mr. Trump has sought to project since declaring his candidacy in the gold-plated lobby of the Midtown Manhattan tower bearing his name.\n",
    "\n",
    "He relished proving critics wrong: those who predicted he would never actually get in the race, and those who thought his caustic remarks about Mexicans and undocumented immigrants or his denigration of Senator John McCain’s record as a prisoner of war in Vietnam would prove fatal to his campaign. What seemed egregious by conventional political standards seemed only to endear Mr. Trump to voters fed up with the nation’s political leadership and hungry for something new. Again and again, his poll numbers held steady, or rose — even after he asked, “How stupid are the people of Iowa?”\n",
    "\n",
    "Yet in the final days, Mr. Trump’s famous confidence seemed not quite as blinding as before. He repeatedly said he really wanted to win. But he also sought to tamp down expectations in a series of interviews just before the caucuses began.\n",
    "\n",
    "In an interview on ABC’s “Good Morning America” on Monday, he refused to predict a victory, and even allowed that he had jitters.\n",
    "\n",
    "“You have to be a little bit nervous,” he said. “You know, I like to win.”\"\"\""
   ]
  },
  {
   "cell_type": "code",
   "execution_count": 23,
   "metadata": {
    "collapsed": false
   },
   "outputs": [
    {
     "data": {
      "text/plain": [
       "['\\xe2\\x80\\x9d',\n",
       " '\\xe2\\x80\\x9d',\n",
       " '\\xe2\\x80\\x9d',\n",
       " '\\xe2\\x80\\x9d',\n",
       " '\\xe2\\x80\\x9d',\n",
       " '\\xe2\\x80\\x9d',\n",
       " '\\xe2\\x80\\x9d',\n",
       " '\\xe2\\x80\\x9d',\n",
       " '\\xe2\\x80\\x9d']"
      ]
     },
     "execution_count": 23,
     "metadata": {},
     "output_type": "execute_result"
    }
   ],
   "source": [
    "re.findall(\"“(.+)[”|\\xe2\\x80|\\xe2\\x80\\x9d|\\xe2\\x80|\\xe2\\x80\\x9d]\", body)\n",
    "re.findall(\"\\xe2\\x80\\x9d\", body)"
   ]
  },
  {
   "cell_type": "code",
   "execution_count": null,
   "metadata": {
    "collapsed": true
   },
   "outputs": [],
   "source": []
  }
 ],
 "metadata": {
  "kernelspec": {
   "display_name": "Python 2",
   "language": "python",
   "name": "python2"
  },
  "language_info": {
   "codemirror_mode": {
    "name": "ipython",
    "version": 2
   },
   "file_extension": ".py",
   "mimetype": "text/x-python",
   "name": "python",
   "nbconvert_exporter": "python",
   "pygments_lexer": "ipython2",
   "version": "2.7.10"
  }
 },
 "nbformat": 4,
 "nbformat_minor": 0
}
